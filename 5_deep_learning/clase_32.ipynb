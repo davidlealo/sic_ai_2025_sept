{
  "nbformat": 4,
  "nbformat_minor": 0,
  "metadata": {
    "colab": {
      "provenance": [],
      "authorship_tag": "ABX9TyMGjBjSwjTbV1Dtf+dNWC5j",
      "include_colab_link": true
    },
    "kernelspec": {
      "name": "python3",
      "display_name": "Python 3"
    },
    "language_info": {
      "name": "python"
    }
  },
  "cells": [
    {
      "cell_type": "markdown",
      "metadata": {
        "id": "view-in-github",
        "colab_type": "text"
      },
      "source": [
        "<a href=\"https://colab.research.google.com/github/davidlealo/sic_ai_2025_sept/blob/main/5_deep_learning/clase_32.ipynb\" target=\"_parent\"><img src=\"https://colab.research.google.com/assets/colab-badge.svg\" alt=\"Open In Colab\"/></a>"
      ]
    },
    {
      "cell_type": "markdown",
      "source": [
        "# Introducción a Deep Learning\n",
        "\n",
        "CAP 8 UNIDAD 1 --->\n",
        "\n",
        "\n",
        "GRUPO UNO páginas 4 a 25\n",
        "\n",
        "GRUPO DOS páginas 26 a 42\n",
        "\n",
        "GRUPO TRES páginas 43 a 58\n",
        "\n",
        "GRUPO CUATRO páginas 59 a 69\n"
      ],
      "metadata": {
        "id": "k02x0yqRsdnW"
      }
    },
    {
      "cell_type": "code",
      "execution_count": null,
      "metadata": {
        "id": "cq7LCJu0sVz-"
      },
      "outputs": [],
      "source": []
    }
  ]
}