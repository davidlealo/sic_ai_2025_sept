{
  "nbformat": 4,
  "nbformat_minor": 0,
  "metadata": {
    "colab": {
      "provenance": [],
      "authorship_tag": "ABX9TyPPg4d5EyimaVJ4BCl2M9UD",
      "include_colab_link": true
    },
    "kernelspec": {
      "name": "python3",
      "display_name": "Python 3"
    },
    "language_info": {
      "name": "python"
    }
  },
  "cells": [
    {
      "cell_type": "markdown",
      "metadata": {
        "id": "view-in-github",
        "colab_type": "text"
      },
      "source": [
        "<a href=\"https://colab.research.google.com/github/davidlealo/sic_ai_2025_sept/blob/main/4_pnl%20/clase_27.ipynb\" target=\"_parent\"><img src=\"https://colab.research.google.com/assets/colab-badge.svg\" alt=\"Open In Colab\"/></a>"
      ]
    },
    {
      "cell_type": "markdown",
      "source": [
        "# Trabajo en grupos CAP 7 UNIDAD 2\n",
        "\n",
        "\n",
        "> GRUPO 1 (61-79): Antonia G, Fernanda N, Javi A, Yosselinne N\n",
        "\n",
        "> GRUPO 2 (80-101): Alejandra C, Fernanda R, Giovanna T, María S.\n",
        "\n",
        "# Trabajo en grupos CAP 7 UNIDAD 3\n",
        "\n",
        "> GRUPO 3 (102-123): Antonia R, Camila Celeste, Javiera Ignacia A, Tamara V"
      ],
      "metadata": {
        "id": "PVNQTkx9yz8o"
      }
    },
    {
      "cell_type": "code",
      "execution_count": null,
      "metadata": {
        "id": "iKg4zkCfyx9k"
      },
      "outputs": [],
      "source": []
    }
  ]
}