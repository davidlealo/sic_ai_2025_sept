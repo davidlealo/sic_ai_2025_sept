{
 "cells": [
  {
   "cell_type": "markdown",
   "metadata": {
    "colab_type": "text",
    "id": "view-in-github"
   },
   "source": [
    "<a href=\"https://colab.research.google.com/github/davidlealo/sic_ai_2025_sept/blob/main/4_pnl/contribuciones_estudiantes/buscador_embeddings.ipynb\" target=\"_parent\"><img src=\"https://colab.research.google.com/assets/colab-badge.svg\" alt=\"Open In Colab\"/></a>"
   ]
  },
  {
   "cell_type": "code",
   "execution_count": 1,
   "metadata": {
    "colab": {
     "base_uri": "https://localhost:8080/",
     "height": 1000,
     "referenced_widgets": [
      "94eacea2da2844e9aef3ac4e3b8c06aa",
      "e3bad0ed978b4cc99fa77377450d92f9",
      "d9cb6390710640069073009ceebf0a8a",
      "ba73022522c44fe8b22dce4e7c6ad7a0",
      "1f2e44f063c240338f83d718137cee10",
      "d87bb92608f34b2d863413c755a208f5",
      "ac14708a62e24fabbbf083492bf67a3a",
      "b93bf68304da4685b5865e98bead9b39",
      "29500c2f73ef457fa7ae5f25673f8c78",
      "a45284b19ef749aa989d62ba8350a991",
      "74fdc612d6564edd9eda11ef29f564f1",
      "aad7b07765314f29960653577df57df1",
      "5b98974a74d74d9bbfc0c2b4b85258c9",
      "b87af18b4ff14bd0b7deb7ca4542d35d",
      "880600996d9641e697a355893399b602",
      "41d8433fa1ef42fc8c49b9a0982ba6b4",
      "ad7a4003838d48c4a9d3a282c818f444",
      "c517370673c0475fb3a162fbce7829d0",
      "a7aa29fb78f4478bb9dda0e0159518c5",
      "4fbcd538e1f54ecc903ea96b29ec7ad0",
      "8fb958ef5bf34def8f5a44425f196fe8",
      "56a4543e58ad4d1fbcc6b7b486d3cd79",
      "2c9c1edf66a64dae9657776a7c836836",
      "3d2095ae34e34353868ebca9844f1953",
      "ab71244ef584494baa954445392c5d36",
      "11d0358d8ed24dd0b28f655d22fe2c48",
      "812b67d2d17d4264a408ffbf35ebc5d3",
      "799e836a9cbb45a5b5a80fcc31d14466",
      "366cb248ad0d49a49cb6d986baffbd60",
      "3b75d2455f89492e82738fcf7613daf2",
      "4e4247754d5e41429a831961421a4dbb",
      "7754e5e1440a4c338982a1508c47e45e",
      "883dcf38249749cf9037326ad1753d5f",
      "d153701330e5477f8cfaa5a29cc9eb2d",
      "2b79709c2dc748b09a369e67ec0f2496",
      "0ab0db14b79b4111b2f0e0d42d7f32c5",
      "4f5bc483e9254bf4a37b714329869459",
      "989e3f2b355943d4b93c3d656310123d",
      "ec29552c07754fb09535a6d16aedced0",
      "4c304b8a89d74f22beb1d712c3eee2b4",
      "baa12a92d7854c50bb08ebd511cbe187",
      "b7d3cc77d57946c589e768326c9b2df0",
      "ac0d0b1d95254a55933fe4bada9873c3",
      "0b070fcc510747b4b85b33fc2619f468",
      "b2b6b3f8c0524b2bb10bbee91b290b21",
      "2b26e9ab67d544e195d850d5ee6b472b",
      "e9e0e41ae5164e21bf81687beedefd23",
      "bc9c52d1ccb54898b454c7a2dc702606",
      "324c1fefebba450aa7e3226e244b4fef",
      "258b2987e94d4267b1d10ed7f1e0498a",
      "1e8cc9334ef74b51b07a6fb4fc6ee570",
      "45a9660b9d0b42deac7940400b78f0d2",
      "6d668cb4fc474afa8e7b40a5c16ca611",
      "dbe0a7228f46417699ce23af5cf4ce7e",
      "f956b59ddaf24e05b5a96f30996d1ce9",
      "5306fcbf44194a5a8cd58ae19d59107f",
      "846a3c9ab36e49339e08408db6979286",
      "b5d122be72614d5a9ada3af64132a25e",
      "3d888c35d7c745b68808bd9e918f77b9",
      "be94244205f9453a9aca14749dfd3c34",
      "35f71358a01d41fa84493b5db2490fd0",
      "5ac4b986247545dd9b26ff5d7f1fc2ac",
      "96e4f8ff240d4dd4806f9c44ccbf3c90",
      "aba5aae9221d446eb068a2680f673d39",
      "7fcad598a920430e9af6969fb1ae1ede",
      "79c5c7e86cb04f198bb0f1d38cab75d1",
      "bb1f52f27333485ea172542b69ced898",
      "852ab875ddf44adaa1c9bcd5888d3c51",
      "e12bc40a3beb40b28a6cdea3b027552a",
      "f4f281e8130e46b7847caf1e210e8a91",
      "4c232ed0443c4a81840c4ca91c5f8c61",
      "114bed65297b43a0855d7ec9ece246ce",
      "10a85efeec284a35a1736ed30653df23",
      "9398e604d25540858385a4b40e4ad249",
      "9637779270834e1485426e2946c2b549",
      "89771e9de0334e9b96bb7891cdc78951",
      "c9ba846a132a4a26b1aa43c6660d727a",
      "0f879a4fc40a4d54967009ef22a2e514",
      "c309eddd84434c78b8ad4987dd7f070e",
      "def7da9e03164821a551296d5d90a837",
      "27ee387fa13347cb8c4a0a61294d8eaa",
      "d86bbf7e8a624cfebbe278645954ebe4",
      "4b51699663dd438499df220f0aac9650",
      "8535a4dbf72b4991899173b7eea8cd5c",
      "0107af13c1d94a99bc9121fbe13c3ea4",
      "a9ea14ec8b5946d2b77eeefbfd71113a",
      "ead1e5a6da2244aa9cc319d719f47a27",
      "ce8c2ddf2c014b9eb8874d6da9bf1f5f",
      "3ba947b736fd4d5cb370fd0f4928fd5c",
      "db4aa5a86e864f0db6134fa7e25728d8",
      "d4b21b1c1e6c452399386d27893c55d2",
      "b4e05bd250cc46baa09ddba26e4913bb",
      "f5562137fba24486842a017443c592e7",
      "28d109b74e5e42839a174f976b7dd01c",
      "574531645d3d480bb5623e119c2e1dce",
      "084a49b3b3e841c4a4d1a96c1aa725e8",
      "7f15fcea8b674f449bb750e3b10b55b6",
      "dfd2e711fb3249898f9caa72aee3874a",
      "87de04606cef4804867eef2a5b79dcbb",
      "5c7b2bf74053463e8b7a2908be9b6d04",
      "10e94fbca5a04a15b1eee3378547208b",
      "1c5879ecb98843e1838c099fd16b8343",
      "27e26a91c6124bccad2f30d9b2f9d9ca",
      "60f4424374f6483b9d26db74d4c74624",
      "f509f416076f4fb589e5aa4696059370",
      "7b015399848c4e24b75f0c7221df5a70",
      "c62a13aaf134418e939d66a7a446210a",
      "51ab7b49a1c9415cbcbcfc979d3772d3",
      "92d9b77ee9934ff187c8c6135e386e69",
      "837ee0ab45f14c95ae6aa86a9e5c3675",
      "cdef8625410942859c8f8757032c33c1",
      "288acb65e2bb4969a394f0409974960e",
      "8a02362c5fc94b29b1ec744e86fe6dc9",
      "6b988ce5bb2a41b5b02b8ffd32fe2e74",
      "7a559112dde34f3aa0aa58a31820f358",
      "6787caf219dc417dafd5d434d9ad5c0b",
      "aa8049fbcfc246bda60024d11adbf9ea",
      "bd569398df41421c9c8337822cc6f119",
      "b653ff091d614f1cb658e497ae157232",
      "b75019a4d29546579db856174c10af15",
      "6331b1a4b4cc4d4d800ef02617f70876",
      "1971b861b3e4475a8525f5d4fbe60f66",
      "f7b5a2c7d0a441e8bf0a4a2c4a08300a",
      "3230cb4419784a4083e81e1ade3c1fd3",
      "a6e2ea9b7b744dcba885374aeffda13d",
      "e9716b2fa3314916812d3b5218eb35a6",
      "480243e21e264a7cabc38707689fe46b",
      "7ee07c4d2b0d4d69ae70c9d02efab78a",
      "6dbd047cb908435db39554e938723a5f",
      "e138f0c365824304bc26d7a129d32432",
      "91506dc25d854a349a6add76efb8ef6a",
      "6a35a58cd00247c1a8db7f6e964145b6"
     ]
    },
    "id": "Wx72iA-1ETgF",
    "outputId": "84c99c17-e012-40cc-f65d-0ef2a483de43"
   },
   "outputs": [
    {
     "name": "stdout",
     "output_type": "stream",
     "text": [
      "\u001b[2K   \u001b[90m━━━━━━━━━━━━━━━━━━━━━━━━━━━━━━━━━━━━━━━━\u001b[0m \u001b[32m31.4/31.4 MB\u001b[0m \u001b[31m81.9 MB/s\u001b[0m eta \u001b[36m0:00:00\u001b[0m\n",
      "\u001b[?25hDownloading from https://www.kaggle.com/api/v1/datasets/download/mauridb/product-data-from-walmart-usa-with-embeddings?dataset_version_number=2...\n"
     ]
    },
    {
     "name": "stderr",
     "output_type": "stream",
     "text": [
      "100%|██████████| 246M/246M [00:06<00:00, 38.2MB/s]"
     ]
    },
    {
     "name": "stdout",
     "output_type": "stream",
     "text": [
      "Extracting files...\n"
     ]
    },
    {
     "name": "stderr",
     "output_type": "stream",
     "text": [
      "\n"
     ]
    },
    {
     "name": "stdout",
     "output_type": "stream",
     "text": [
      "Ruta de los archivos del dataset: /root/.cache/kagglehub/datasets/mauridb/product-data-from-walmart-usa-with-embeddings/versions/2\n",
      "Archivos encontrados: ['walmart-product-with-embeddings-dataset-usa.csv']\n",
      "Columnas disponibles: ['id', 'source_unique_id', 'crawl_timestamp', 'product_url', 'product_name', 'description', 'list_price', 'sale_price', 'brand', 'item_number', 'gtin', 'package_size', 'category', 'postal_code', 'available', 'embedding']\n"
     ]
    },
    {
     "name": "stderr",
     "output_type": "stream",
     "text": [
      "/usr/local/lib/python3.12/dist-packages/huggingface_hub/utils/_auth.py:94: UserWarning: \n",
      "The secret `HF_TOKEN` does not exist in your Colab secrets.\n",
      "To authenticate with the Hugging Face Hub, create a token in your settings tab (https://huggingface.co/settings/tokens), set it as secret in your Google Colab and restart your session.\n",
      "You will be able to reuse this secret in all of your notebooks.\n",
      "Please note that authentication is recommended but still optional to access public models or datasets.\n",
      "  warnings.warn(\n"
     ]
    },
    {
     "data": {
      "application/vnd.jupyter.widget-view+json": {
       "model_id": "94eacea2da2844e9aef3ac4e3b8c06aa",
       "version_major": 2,
       "version_minor": 0
      },
      "text/plain": [
       "modules.json:   0%|          | 0.00/229 [00:00<?, ?B/s]"
      ]
     },
     "metadata": {},
     "output_type": "display_data"
    },
    {
     "data": {
      "application/vnd.jupyter.widget-view+json": {
       "model_id": "aad7b07765314f29960653577df57df1",
       "version_major": 2,
       "version_minor": 0
      },
      "text/plain": [
       "config_sentence_transformers.json:   0%|          | 0.00/122 [00:00<?, ?B/s]"
      ]
     },
     "metadata": {},
     "output_type": "display_data"
    },
    {
     "data": {
      "application/vnd.jupyter.widget-view+json": {
       "model_id": "2c9c1edf66a64dae9657776a7c836836",
       "version_major": 2,
       "version_minor": 0
      },
      "text/plain": [
       "README.md: 0.00B [00:00, ?B/s]"
      ]
     },
     "metadata": {},
     "output_type": "display_data"
    },
    {
     "data": {
      "application/vnd.jupyter.widget-view+json": {
       "model_id": "d153701330e5477f8cfaa5a29cc9eb2d",
       "version_major": 2,
       "version_minor": 0
      },
      "text/plain": [
       "sentence_bert_config.json:   0%|          | 0.00/53.0 [00:00<?, ?B/s]"
      ]
     },
     "metadata": {},
     "output_type": "display_data"
    },
    {
     "data": {
      "application/vnd.jupyter.widget-view+json": {
       "model_id": "b2b6b3f8c0524b2bb10bbee91b290b21",
       "version_major": 2,
       "version_minor": 0
      },
      "text/plain": [
       "config.json:   0%|          | 0.00/723 [00:00<?, ?B/s]"
      ]
     },
     "metadata": {},
     "output_type": "display_data"
    },
    {
     "data": {
      "application/vnd.jupyter.widget-view+json": {
       "model_id": "5306fcbf44194a5a8cd58ae19d59107f",
       "version_major": 2,
       "version_minor": 0
      },
      "text/plain": [
       "model.safetensors:   0%|          | 0.00/1.11G [00:00<?, ?B/s]"
      ]
     },
     "metadata": {},
     "output_type": "display_data"
    },
    {
     "data": {
      "application/vnd.jupyter.widget-view+json": {
       "model_id": "bb1f52f27333485ea172542b69ced898",
       "version_major": 2,
       "version_minor": 0
      },
      "text/plain": [
       "tokenizer_config.json:   0%|          | 0.00/402 [00:00<?, ?B/s]"
      ]
     },
     "metadata": {},
     "output_type": "display_data"
    },
    {
     "data": {
      "application/vnd.jupyter.widget-view+json": {
       "model_id": "0f879a4fc40a4d54967009ef22a2e514",
       "version_major": 2,
       "version_minor": 0
      },
      "text/plain": [
       "sentencepiece.bpe.model:   0%|          | 0.00/5.07M [00:00<?, ?B/s]"
      ]
     },
     "metadata": {},
     "output_type": "display_data"
    },
    {
     "data": {
      "application/vnd.jupyter.widget-view+json": {
       "model_id": "3ba947b736fd4d5cb370fd0f4928fd5c",
       "version_major": 2,
       "version_minor": 0
      },
      "text/plain": [
       "tokenizer.json: 0.00B [00:00, ?B/s]"
      ]
     },
     "metadata": {},
     "output_type": "display_data"
    },
    {
     "data": {
      "application/vnd.jupyter.widget-view+json": {
       "model_id": "5c7b2bf74053463e8b7a2908be9b6d04",
       "version_major": 2,
       "version_minor": 0
      },
      "text/plain": [
       "special_tokens_map.json:   0%|          | 0.00/239 [00:00<?, ?B/s]"
      ]
     },
     "metadata": {},
     "output_type": "display_data"
    },
    {
     "data": {
      "application/vnd.jupyter.widget-view+json": {
       "model_id": "cdef8625410942859c8f8757032c33c1",
       "version_major": 2,
       "version_minor": 0
      },
      "text/plain": [
       "config.json:   0%|          | 0.00/190 [00:00<?, ?B/s]"
      ]
     },
     "metadata": {},
     "output_type": "display_data"
    },
    {
     "data": {
      "application/vnd.jupyter.widget-view+json": {
       "model_id": "1971b861b3e4475a8525f5d4fbe60f66",
       "version_major": 2,
       "version_minor": 0
      },
      "text/plain": [
       "Batches:   0%|          | 0/938 [00:00<?, ?it/s]"
      ]
     },
     "metadata": {},
     "output_type": "display_data"
    },
    {
     "name": "stdout",
     "output_type": "stream",
     "text": [
      "It looks like you are running Gradio on a hosted Jupyter notebook, which requires `share=True`. Automatically setting `share=True` (you can turn this off by setting `share=False` in `launch()` explicitly).\n",
      "\n",
      "Colab notebook detected. To show errors in colab notebook, set debug=True in launch()\n",
      "* Running on public URL: https://c36e9aa3ac69903c2c.gradio.live\n",
      "\n",
      "This share link expires in 1 week. For free permanent hosting and GPU upgrades, run `gradio deploy` from the terminal in the working directory to deploy to Hugging Face Spaces (https://huggingface.co/spaces)\n"
     ]
    },
    {
     "data": {
      "text/html": [
       "<div><iframe src=\"https://c36e9aa3ac69903c2c.gradio.live\" width=\"100%\" height=\"500\" allow=\"autoplay; camera; microphone; clipboard-read; clipboard-write;\" frameborder=\"0\" allowfullscreen></iframe></div>"
      ],
      "text/plain": [
       "<IPython.core.display.HTML object>"
      ]
     },
     "metadata": {},
     "output_type": "display_data"
    },
    {
     "data": {
      "text/plain": []
     },
     "execution_count": 1,
     "metadata": {},
     "output_type": "execute_result"
    }
   ],
   "source": [
    "# ============================================================\n",
    "# 1. Instalación e importación de librerías\n",
    "# ============================================================\n",
    "!pip install sentence-transformers faiss-cpu gradio kagglehub -q\n",
    "\n",
    "import pandas as pd\n",
    "import numpy as np\n",
    "from sentence_transformers import SentenceTransformer\n",
    "import faiss\n",
    "import gradio as gr\n",
    "import os\n",
    "\n",
    "# ============================================================\n",
    "# 2. Cargar dataset desde KaggleHub\n",
    "# ============================================================\n",
    "import kagglehub\n",
    "\n",
    "path = kagglehub.dataset_download(\"mauridb/product-data-from-walmart-usa-with-embeddings\")\n",
    "print(\"Ruta de los archivos del dataset:\", path)\n",
    "\n",
    "csv_files = [f for f in os.listdir(path) if f.endswith(\".csv\")]\n",
    "print(\"Archivos encontrados:\", csv_files)\n",
    "\n",
    "df = pd.read_csv(os.path.join(path, csv_files[0]))\n",
    "print(\"Columnas disponibles:\", df.columns.tolist())\n",
    "\n",
    "# ============================================================\n",
    "# 3. Limpieza y selección de campos\n",
    "# ============================================================\n",
    "# Combina información textual relevante (nombre + descripción + categoría + marca)\n",
    "df[\"text\"] = (\n",
    "    df[\"product_name\"].fillna(\"\") + \". \" +\n",
    "    df[\"description\"].fillna(\"\") + \". \" +\n",
    "    df[\"category\"].fillna(\"\") + \". \" +\n",
    "    df[\"brand\"].fillna(\"\")\n",
    ")\n",
    "\n",
    "df = df[df[\"text\"].str.strip() != \"\"]\n",
    "\n",
    "# Muestra un ejemplo\n",
    "df[[\"product_name\", \"category\", \"brand\", \"text\"]].head(2)\n",
    "\n",
    "# ============================================================\n",
    "# 4. Generar embeddings semánticos\n",
    "# ============================================================\n",
    "modelo = SentenceTransformer(\"paraphrase-multilingual-mpnet-base-v2\")\n",
    "embeddings = modelo.encode(df[\"text\"].tolist(), show_progress_bar=True)\n",
    "\n",
    "# ============================================================\n",
    "# 5. Crear índice FAISS\n",
    "# ============================================================\n",
    "dimension = embeddings.shape[1]\n",
    "index = faiss.IndexFlatL2(dimension)\n",
    "index.add(np.array(embeddings, dtype=np.float32))\n",
    "\n",
    "# ============================================================\n",
    "# 6. Función de búsqueda\n",
    "# ============================================================\n",
    "def buscar(query, k=5):\n",
    "    query_vec = modelo.encode([query])\n",
    "    D, I = index.search(np.array(query_vec, dtype=np.float32), k)\n",
    "    resultados = df.iloc[I[0]][[\"product_name\", \"category\", \"brand\", \"description\"]]\n",
    "    resultados[\"distancia\"] = D[0]\n",
    "    return resultados\n",
    "\n",
    "# ============================================================\n",
    "# 7. Interfaz interactiva con Gradio\n",
    "# ============================================================\n",
    "def interfaz(query):\n",
    "    resultados = buscar(query, k=5)\n",
    "    texto = \"\"\n",
    "    for _, fila in resultados.iterrows():\n",
    "        texto += f\"### {fila['product_name']} ({fila['category']})\\n\"\n",
    "        texto += f\"Marca: {fila['brand']}\\n\"\n",
    "        texto += f\"Distancia: {fila['distancia']:.4f}\\n\\n\"\n",
    "        texto += f\"{fila['description']}\\n\\n---\\n\"\n",
    "    return texto\n",
    "\n",
    "demo = gr.Interface(\n",
    "    fn=interfaz,\n",
    "    inputs=gr.Textbox(label=\"Consulta de producto\", placeholder=\"Ejemplo: snack saludable sin azúcar\"),\n",
    "    outputs=\"markdown\",\n",
    "    title=\"Buscador Semántico Walmart\",\n",
    "    description=\"Busca productos de Walmart por significado, combinando nombre, descripción, categoría y marca.\"\n",
    ")\n",
    "\n",
    "demo.launch()\n"
   ]
  },
  {
   "cell_type": "code",
   "execution_count": 2,
   "metadata": {
    "colab": {
     "base_uri": "https://localhost:8080/",
     "height": 52
    },
    "id": "Q7qfnCuxHFXS",
    "outputId": "e9acfe80-e230-4a15-d612-0c463323c6a1"
   },
   "outputs": [
    {
     "name": "stdout",
     "output_type": "stream",
     "text": [
      "Using Colab cache for faster access to the 'product-data-from-walmart-usa-with-embeddings' dataset.\n"
     ]
    },
    {
     "data": {
      "application/javascript": [
       "\n",
       "    async function download(id, filename, size) {\n",
       "      if (!google.colab.kernel.accessAllowed) {\n",
       "        return;\n",
       "      }\n",
       "      const div = document.createElement('div');\n",
       "      const label = document.createElement('label');\n",
       "      label.textContent = `Downloading \"${filename}\": `;\n",
       "      div.appendChild(label);\n",
       "      const progress = document.createElement('progress');\n",
       "      progress.max = size;\n",
       "      div.appendChild(progress);\n",
       "      document.body.appendChild(div);\n",
       "\n",
       "      const buffers = [];\n",
       "      let downloaded = 0;\n",
       "\n",
       "      const channel = await google.colab.kernel.comms.open(id);\n",
       "      // Send a message to notify the kernel that we're ready.\n",
       "      channel.send({})\n",
       "\n",
       "      for await (const message of channel.messages) {\n",
       "        // Send a message to notify the kernel that we're ready.\n",
       "        channel.send({})\n",
       "        if (message.buffers) {\n",
       "          for (const buffer of message.buffers) {\n",
       "            buffers.push(buffer);\n",
       "            downloaded += buffer.byteLength;\n",
       "            progress.value = downloaded;\n",
       "          }\n",
       "        }\n",
       "      }\n",
       "      const blob = new Blob(buffers, {type: 'application/binary'});\n",
       "      const a = document.createElement('a');\n",
       "      a.href = window.URL.createObjectURL(blob);\n",
       "      a.download = filename;\n",
       "      div.appendChild(a);\n",
       "      a.click();\n",
       "      div.remove();\n",
       "    }\n",
       "  "
      ],
      "text/plain": [
       "<IPython.core.display.Javascript object>"
      ]
     },
     "metadata": {},
     "output_type": "display_data"
    },
    {
     "data": {
      "application/javascript": [
       "download(\"download_bb74b131-286f-44c9-8f43-6cf8107ec2b6\", \"vectors.tsv\", 1175365761)"
      ],
      "text/plain": [
       "<IPython.core.display.Javascript object>"
      ]
     },
     "metadata": {},
     "output_type": "display_data"
    },
    {
     "data": {
      "application/javascript": [
       "\n",
       "    async function download(id, filename, size) {\n",
       "      if (!google.colab.kernel.accessAllowed) {\n",
       "        return;\n",
       "      }\n",
       "      const div = document.createElement('div');\n",
       "      const label = document.createElement('label');\n",
       "      label.textContent = `Downloading \"${filename}\": `;\n",
       "      div.appendChild(label);\n",
       "      const progress = document.createElement('progress');\n",
       "      progress.max = size;\n",
       "      div.appendChild(progress);\n",
       "      document.body.appendChild(div);\n",
       "\n",
       "      const buffers = [];\n",
       "      let downloaded = 0;\n",
       "\n",
       "      const channel = await google.colab.kernel.comms.open(id);\n",
       "      // Send a message to notify the kernel that we're ready.\n",
       "      channel.send({})\n",
       "\n",
       "      for await (const message of channel.messages) {\n",
       "        // Send a message to notify the kernel that we're ready.\n",
       "        channel.send({})\n",
       "        if (message.buffers) {\n",
       "          for (const buffer of message.buffers) {\n",
       "            buffers.push(buffer);\n",
       "            downloaded += buffer.byteLength;\n",
       "            progress.value = downloaded;\n",
       "          }\n",
       "        }\n",
       "      }\n",
       "      const blob = new Blob(buffers, {type: 'application/binary'});\n",
       "      const a = document.createElement('a');\n",
       "      a.href = window.URL.createObjectURL(blob);\n",
       "      a.download = filename;\n",
       "      div.appendChild(a);\n",
       "      a.click();\n",
       "      div.remove();\n",
       "    }\n",
       "  "
      ],
      "text/plain": [
       "<IPython.core.display.Javascript object>"
      ]
     },
     "metadata": {},
     "output_type": "display_data"
    },
    {
     "data": {
      "application/javascript": [
       "download(\"download_9163f47f-b6b3-43b3-b0ad-c13e88f2aed5\", \"metadata.tsv\", 4627947)"
      ],
      "text/plain": [
       "<IPython.core.display.Javascript object>"
      ]
     },
     "metadata": {},
     "output_type": "display_data"
    }
   ],
   "source": [
    "import pandas as pd\n",
    "import numpy as np\n",
    "import ast\n",
    "from google.colab import files\n",
    "\n",
    "# ============================================================\n",
    "# 1. Cargar dataset desde KaggleHub (si aún no está cargado)\n",
    "# ============================================================\n",
    "import kagglehub\n",
    "\n",
    "path = kagglehub.dataset_download(\"mauridb/product-data-from-walmart-usa-with-embeddings\")\n",
    "csv_files = [f for f in os.listdir(path) if f.endswith(\".csv\")]\n",
    "df = pd.read_csv(os.path.join(path, csv_files[0]))\n",
    "\n",
    "# ============================================================\n",
    "# 2. Convertir embeddings desde texto a listas numéricas\n",
    "# ============================================================\n",
    "# Convierte la columna 'embedding' (tipo str) a lista de floats\n",
    "df[\"embedding\"] = df[\"embedding\"].apply(ast.literal_eval)\n",
    "\n",
    "# ============================================================\n",
    "# 3. Crear el archivo vectors.tsv\n",
    "# ============================================================\n",
    "# Cada fila del TSV será un vector de embedding\n",
    "vectors = np.array(df[\"embedding\"].tolist())\n",
    "np.savetxt(\"vectors.tsv\", vectors, delimiter=\"\\t\")\n",
    "\n",
    "# ============================================================\n",
    "# 4. Crear el archivo metadata.tsv\n",
    "# ============================================================\n",
    "# Incluye campos descriptivos para identificar los puntos\n",
    "metadata = df[[\"product_name\", \"category\", \"brand\", \"sale_price\"]].fillna(\"\")\n",
    "metadata.to_csv(\"metadata.tsv\", sep=\"\\t\", index=False)\n",
    "\n",
    "# ============================================================\n",
    "# 5. Descargar los archivos para subirlos al TensorFlow Projector\n",
    "# ============================================================\n",
    "files.download(\"vectors.tsv\")\n",
    "files.download(\"metadata.tsv\")\n"
   ]
  }
 ],
 "metadata": {
  "accelerator": "GPU",
  "colab": {
   "authorship_tag": "ABX9TyMYd5WIXUhpFFBCsXEHFPpK",
   "gpuType": "T4",
   "include_colab_link": true,
   "machine_shape": "hm",
   "provenance": []
  },
  "kernelspec": {
   "display_name": "Python 3",
   "name": "python3"
  },
  "language_info": {
   "name": "python"
  }
 },
 "nbformat": 4,
 "nbformat_minor": 0
}
