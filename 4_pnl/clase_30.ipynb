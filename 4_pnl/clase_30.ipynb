{
  "nbformat": 4,
  "nbformat_minor": 0,
  "metadata": {
    "colab": {
      "provenance": [],
      "gpuType": "T4",
      "authorship_tag": "ABX9TyNK8pr9Lo7tuHU2L0rd0L0j",
      "include_colab_link": true
    },
    "kernelspec": {
      "name": "python3",
      "display_name": "Python 3"
    },
    "language_info": {
      "name": "python"
    },
    "accelerator": "GPU"
  },
  "cells": [
    {
      "cell_type": "markdown",
      "metadata": {
        "id": "view-in-github",
        "colab_type": "text"
      },
      "source": [
        "<a href=\"https://colab.research.google.com/github/davidlealo/sic_ai_2025_sept/blob/main/4_pnl/clase_30.ipynb\" target=\"_parent\"><img src=\"https://colab.research.google.com/assets/colab-badge.svg\" alt=\"Open In Colab\"/></a>"
      ]
    },
    {
      "cell_type": "code",
      "execution_count": 1,
      "metadata": {
        "colab": {
          "base_uri": "https://localhost:8080/"
        },
        "id": "gYK-DRZRArks",
        "outputId": "2a9b1bc7-a2a9-4ed5-a991-c0f8832309ae"
      },
      "outputs": [
        {
          "output_type": "stream",
          "name": "stdout",
          "text": [
            "DataFrame original:\n",
            "  Categoria\n",
            "0      Rojo\n",
            "1      Azul\n",
            "2     Verde\n",
            "3      Rojo\n",
            "4      Azul\n",
            "------------------------------\n",
            "Usando pandas get_dummies:\n",
            "   Categoria_Azul  Categoria_Rojo  Categoria_Verde\n",
            "0           False            True            False\n",
            "1            True           False            False\n",
            "2           False           False             True\n",
            "3           False            True            False\n",
            "4            True           False            False\n",
            "------------------------------\n",
            "Usando Scikit-learn OneHotEncoder:\n",
            "[[0. 1. 0.]\n",
            " [1. 0. 0.]\n",
            " [0. 0. 1.]\n",
            " [0. 1. 0.]\n",
            " [1. 0. 0.]]\n",
            "------------------------------\n",
            "Usando Keras to_categorical:\n",
            "[[1. 0. 0.]\n",
            " [0. 1. 0.]\n",
            " [0. 0. 1.]\n",
            " [1. 0. 0.]\n",
            " [0. 1. 0.]]\n",
            "------------------------------\n",
            "Diferencias clave:\n",
            "- `pd.get_dummies`: Funciona directamente con DataFrames, crea nuevas columnas con los nombres de las categorías.\n",
            "- `sklearn.preprocessing.OneHotEncoder`: Trabaja con arrays NumPy (requiere reshape si es necesario), devuelve un array NumPy. Requiere `fit` y `transform`.\n",
            "- `tf.keras.utils.to_categorical`: Trabaja con etiquetas numéricas (enteros), devuelve un array NumPy. Útil para la salida de modelos de clasificación en Keras.\n"
          ]
        }
      ],
      "source": [
        "import pandas as pd\n",
        "from sklearn.preprocessing import OneHotEncoder\n",
        "from tensorflow.keras.utils import to_categorical\n",
        "import numpy as np\n",
        "\n",
        "# Ejemplo de datos categóricos\n",
        "data = {'Categoria': ['Rojo', 'Azul', 'Verde', 'Rojo', 'Azul']}\n",
        "df = pd.DataFrame(data)\n",
        "\n",
        "print(\"DataFrame original:\")\n",
        "print(df)\n",
        "print(\"-\" * 30)\n",
        "\n",
        "# Usando pandas get_dummies\n",
        "df_dummies = pd.get_dummies(df, columns=['Categoria'])\n",
        "print(\"Usando pandas get_dummies:\")\n",
        "print(df_dummies)\n",
        "print(\"-\" * 30)\n",
        "\n",
        "# Usando Scikit-learn OneHotEncoder\n",
        "# Necesita un array numpy 2D\n",
        "data_np = df[['Categoria']].values\n",
        "encoder_sk = OneHotEncoder(sparse_output=False)\n",
        "data_encoded_sk = encoder_sk.fit_transform(data_np)\n",
        "print(\"Usando Scikit-learn OneHotEncoder:\")\n",
        "print(data_encoded_sk)\n",
        "print(\"-\" * 30)\n",
        "\n",
        "# Usando Keras to_categorical\n",
        "# Necesita etiquetas numéricas. Primero convertimos las categorías a números.\n",
        "# Usamos factorize para esto\n",
        "codes, uniques = pd.factorize(df['Categoria'])\n",
        "data_encoded_keras = to_categorical(codes)\n",
        "print(\"Usando Keras to_categorical:\")\n",
        "print(data_encoded_keras)\n",
        "print(\"-\" * 30)\n",
        "\n",
        "print(\"Diferencias clave:\")\n",
        "print(\"- `pd.get_dummies`: Funciona directamente con DataFrames, crea nuevas columnas con los nombres de las categorías.\")\n",
        "print(\"- `sklearn.preprocessing.OneHotEncoder`: Trabaja con arrays NumPy (requiere reshape si es necesario), devuelve un array NumPy. Requiere `fit` y `transform`.\")\n",
        "print(\"- `tf.keras.utils.to_categorical`: Trabaja con etiquetas numéricas (enteros), devuelve un array NumPy. Útil para la salida de modelos de clasificación en Keras.\")"
      ]
    },
    {
      "cell_type": "code",
      "source": [
        "from tensorflow.keras.preprocessing.text import Tokenizer\n",
        "from tensorflow.keras.preprocessing.sequence import pad_sequences\n",
        "from tensorflow.keras.models import Sequential\n",
        "from tensorflow.keras.layers import Embedding, Flatten, Dense\n",
        "import numpy as np\n",
        "\n",
        "# Ejemplo de texto\n",
        "sentences = [\n",
        "    'El perro corre en el parque',\n",
        "    'El gato duerme en la casa',\n",
        "    'El perro juega con la pelota',\n",
        "    'El gato caza un ratón'\n",
        "]\n",
        "\n",
        "# Tokenización\n",
        "tokenizer = Tokenizer(num_words=100, oov_token=\"<OOV>\")\n",
        "tokenizer.fit_on_texts(sentences)\n",
        "word_index = tokenizer.word_index\n",
        "sequences = tokenizer.texts_to_sequences(sentences)\n",
        "\n",
        "print(\"Índice de palabras:\")\n",
        "print(word_index)\n",
        "print(\"-\" * 30)\n",
        "\n",
        "print(\"Secuencias de texto:\")\n",
        "print(sequences)\n",
        "print(\"-\" * 30)\n",
        "\n",
        "# Padding (para que todas las secuencias tengan la misma longitud)\n",
        "max_length = max([len(seq) for seq in sequences])\n",
        "padded_sequences = pad_sequences(sequences, maxlen=max_length, padding='post', truncating='post')\n",
        "\n",
        "print(\"Secuencias con padding:\")\n",
        "print(padded_sequences)\n",
        "print(\"-\" * 30)\n",
        "\n",
        "# Crear un modelo simple con una capa de Embedding\n",
        "model = Sequential([\n",
        "    Embedding(input_dim=len(word_index) + 1, output_dim=8, input_length=max_length),\n",
        "    Flatten(),\n",
        "    Dense(1, activation='sigmoid') # Capa de ejemplo, puede ser cualquier otra\n",
        "])\n",
        "\n",
        "# Build the model to initialize weights\n",
        "model.build(input_shape=(None, max_length))\n",
        "\n",
        "model.compile(optimizer='adam', loss='binary_crossentropy', metrics=['accuracy'])\n",
        "model.summary()\n",
        "\n",
        "# Para ver los embeddings, puedes acceder a los pesos de la capa de Embedding\n",
        "# Ten en cuenta que estos embeddings son aleatorios al principio y se aprenderían durante el entrenamiento\n",
        "embedding_layer = model.layers[0]\n",
        "embeddings = embedding_layer.get_weights()[0]\n",
        "\n",
        "print(\"Forma de la matriz de embeddings (vocabulario_size, embedding_dim):\")\n",
        "print(embeddings.shape)\n",
        "print(\"-\" * 30)\n",
        "\n",
        "# Puedes ver el vector de embedding para una palabra específica (ej. 'perro')\n",
        "word = 'perro'\n",
        "if word in word_index:\n",
        "    index = word_index[word]\n",
        "    word_embedding = embeddings[index]\n",
        "    print(f\"Vector de embedding para '{word}':\")\n",
        "    print(word_embedding)\n",
        "else:\n",
        "    print(f\"La palabra '{word}' no está en el vocabulario.\")\n",
        "\n",
        "print(\"-\" * 30)\n",
        "\n",
        "print(\"Explicación:\")\n",
        "print(\"- **Tokenización:** Convierte el texto en secuencias de números (IDs de palabras).\")\n",
        "print(\"- **Padding:** Asegura que todas las secuencias tengan la misma longitud rellenando con ceros.\")\n",
        "print(\"- **Capa de Embedding:** Representa cada palabra con un vector de números de menor dimensión.\")\n",
        "print(\"- **output_dim:** Es la dimensión del vector de embedding para cada palabra.\")\n",
        "print(\"- **input_dim:** Es el tamaño del vocabulario + 1 (para el padding).\")\n",
        "print(\"- **input_length:** Es la longitud máxima de las secuencias.\")\n",
        "print(\"Estos embeddings son inicialmente aleatorios y se ajustarían durante el entrenamiento de un modelo en una tarea específica (como clasificación de texto).\")"
      ],
      "metadata": {
        "colab": {
          "base_uri": "https://localhost:8080/",
          "height": 769
        },
        "id": "WMu9ZuXMU5tR",
        "outputId": "fcddcd9e-98e7-407f-8adc-e2d7c60a2b61"
      },
      "execution_count": 3,
      "outputs": [
        {
          "output_type": "stream",
          "name": "stdout",
          "text": [
            "Índice de palabras:\n",
            "{'<OOV>': 1, 'el': 2, 'perro': 3, 'en': 4, 'gato': 5, 'la': 6, 'corre': 7, 'parque': 8, 'duerme': 9, 'casa': 10, 'juega': 11, 'con': 12, 'pelota': 13, 'caza': 14, 'un': 15, 'ratón': 16}\n",
            "------------------------------\n",
            "Secuencias de texto:\n",
            "[[2, 3, 7, 4, 2, 8], [2, 5, 9, 4, 6, 10], [2, 3, 11, 12, 6, 13], [2, 5, 14, 15, 16]]\n",
            "------------------------------\n",
            "Secuencias con padding:\n",
            "[[ 2  3  7  4  2  8]\n",
            " [ 2  5  9  4  6 10]\n",
            " [ 2  3 11 12  6 13]\n",
            " [ 2  5 14 15 16  0]]\n",
            "------------------------------\n"
          ]
        },
        {
          "output_type": "stream",
          "name": "stderr",
          "text": [
            "/usr/local/lib/python3.12/dist-packages/keras/src/layers/core/embedding.py:97: UserWarning: Argument `input_length` is deprecated. Just remove it.\n",
            "  warnings.warn(\n"
          ]
        },
        {
          "output_type": "display_data",
          "data": {
            "text/plain": [
              "\u001b[1mModel: \"sequential_1\"\u001b[0m\n"
            ],
            "text/html": [
              "<pre style=\"white-space:pre;overflow-x:auto;line-height:normal;font-family:Menlo,'DejaVu Sans Mono',consolas,'Courier New',monospace\"><span style=\"font-weight: bold\">Model: \"sequential_1\"</span>\n",
              "</pre>\n"
            ]
          },
          "metadata": {}
        },
        {
          "output_type": "display_data",
          "data": {
            "text/plain": [
              "┏━━━━━━━━━━━━━━━━━━━━━━━━━━━━━━━━━┳━━━━━━━━━━━━━━━━━━━━━━━━┳━━━━━━━━━━━━━━━┓\n",
              "┃\u001b[1m \u001b[0m\u001b[1mLayer (type)                   \u001b[0m\u001b[1m \u001b[0m┃\u001b[1m \u001b[0m\u001b[1mOutput Shape          \u001b[0m\u001b[1m \u001b[0m┃\u001b[1m \u001b[0m\u001b[1m      Param #\u001b[0m\u001b[1m \u001b[0m┃\n",
              "┡━━━━━━━━━━━━━━━━━━━━━━━━━━━━━━━━━╇━━━━━━━━━━━━━━━━━━━━━━━━╇━━━━━━━━━━━━━━━┩\n",
              "│ embedding_1 (\u001b[38;5;33mEmbedding\u001b[0m)         │ (\u001b[38;5;45mNone\u001b[0m, \u001b[38;5;34m6\u001b[0m, \u001b[38;5;34m8\u001b[0m)           │           \u001b[38;5;34m136\u001b[0m │\n",
              "├─────────────────────────────────┼────────────────────────┼───────────────┤\n",
              "│ flatten_1 (\u001b[38;5;33mFlatten\u001b[0m)             │ (\u001b[38;5;45mNone\u001b[0m, \u001b[38;5;34m48\u001b[0m)             │             \u001b[38;5;34m0\u001b[0m │\n",
              "├─────────────────────────────────┼────────────────────────┼───────────────┤\n",
              "│ dense_1 (\u001b[38;5;33mDense\u001b[0m)                 │ (\u001b[38;5;45mNone\u001b[0m, \u001b[38;5;34m1\u001b[0m)              │            \u001b[38;5;34m49\u001b[0m │\n",
              "└─────────────────────────────────┴────────────────────────┴───────────────┘\n"
            ],
            "text/html": [
              "<pre style=\"white-space:pre;overflow-x:auto;line-height:normal;font-family:Menlo,'DejaVu Sans Mono',consolas,'Courier New',monospace\">┏━━━━━━━━━━━━━━━━━━━━━━━━━━━━━━━━━┳━━━━━━━━━━━━━━━━━━━━━━━━┳━━━━━━━━━━━━━━━┓\n",
              "┃<span style=\"font-weight: bold\"> Layer (type)                    </span>┃<span style=\"font-weight: bold\"> Output Shape           </span>┃<span style=\"font-weight: bold\">       Param # </span>┃\n",
              "┡━━━━━━━━━━━━━━━━━━━━━━━━━━━━━━━━━╇━━━━━━━━━━━━━━━━━━━━━━━━╇━━━━━━━━━━━━━━━┩\n",
              "│ embedding_1 (<span style=\"color: #0087ff; text-decoration-color: #0087ff\">Embedding</span>)         │ (<span style=\"color: #00d7ff; text-decoration-color: #00d7ff\">None</span>, <span style=\"color: #00af00; text-decoration-color: #00af00\">6</span>, <span style=\"color: #00af00; text-decoration-color: #00af00\">8</span>)           │           <span style=\"color: #00af00; text-decoration-color: #00af00\">136</span> │\n",
              "├─────────────────────────────────┼────────────────────────┼───────────────┤\n",
              "│ flatten_1 (<span style=\"color: #0087ff; text-decoration-color: #0087ff\">Flatten</span>)             │ (<span style=\"color: #00d7ff; text-decoration-color: #00d7ff\">None</span>, <span style=\"color: #00af00; text-decoration-color: #00af00\">48</span>)             │             <span style=\"color: #00af00; text-decoration-color: #00af00\">0</span> │\n",
              "├─────────────────────────────────┼────────────────────────┼───────────────┤\n",
              "│ dense_1 (<span style=\"color: #0087ff; text-decoration-color: #0087ff\">Dense</span>)                 │ (<span style=\"color: #00d7ff; text-decoration-color: #00d7ff\">None</span>, <span style=\"color: #00af00; text-decoration-color: #00af00\">1</span>)              │            <span style=\"color: #00af00; text-decoration-color: #00af00\">49</span> │\n",
              "└─────────────────────────────────┴────────────────────────┴───────────────┘\n",
              "</pre>\n"
            ]
          },
          "metadata": {}
        },
        {
          "output_type": "display_data",
          "data": {
            "text/plain": [
              "\u001b[1m Total params: \u001b[0m\u001b[38;5;34m185\u001b[0m (740.00 B)\n"
            ],
            "text/html": [
              "<pre style=\"white-space:pre;overflow-x:auto;line-height:normal;font-family:Menlo,'DejaVu Sans Mono',consolas,'Courier New',monospace\"><span style=\"font-weight: bold\"> Total params: </span><span style=\"color: #00af00; text-decoration-color: #00af00\">185</span> (740.00 B)\n",
              "</pre>\n"
            ]
          },
          "metadata": {}
        },
        {
          "output_type": "display_data",
          "data": {
            "text/plain": [
              "\u001b[1m Trainable params: \u001b[0m\u001b[38;5;34m185\u001b[0m (740.00 B)\n"
            ],
            "text/html": [
              "<pre style=\"white-space:pre;overflow-x:auto;line-height:normal;font-family:Menlo,'DejaVu Sans Mono',consolas,'Courier New',monospace\"><span style=\"font-weight: bold\"> Trainable params: </span><span style=\"color: #00af00; text-decoration-color: #00af00\">185</span> (740.00 B)\n",
              "</pre>\n"
            ]
          },
          "metadata": {}
        },
        {
          "output_type": "display_data",
          "data": {
            "text/plain": [
              "\u001b[1m Non-trainable params: \u001b[0m\u001b[38;5;34m0\u001b[0m (0.00 B)\n"
            ],
            "text/html": [
              "<pre style=\"white-space:pre;overflow-x:auto;line-height:normal;font-family:Menlo,'DejaVu Sans Mono',consolas,'Courier New',monospace\"><span style=\"font-weight: bold\"> Non-trainable params: </span><span style=\"color: #00af00; text-decoration-color: #00af00\">0</span> (0.00 B)\n",
              "</pre>\n"
            ]
          },
          "metadata": {}
        },
        {
          "output_type": "stream",
          "name": "stdout",
          "text": [
            "Forma de la matriz de embeddings (vocabulario_size, embedding_dim):\n",
            "(17, 8)\n",
            "------------------------------\n",
            "Vector de embedding para 'perro':\n",
            "[-0.00524797 -0.0449581   0.03110847 -0.02950633  0.00090873  0.00061829\n",
            " -0.0278508   0.01563616]\n",
            "------------------------------\n",
            "Explicación:\n",
            "- **Tokenización:** Convierte el texto en secuencias de números (IDs de palabras).\n",
            "- **Padding:** Asegura que todas las secuencias tengan la misma longitud rellenando con ceros.\n",
            "- **Capa de Embedding:** Representa cada palabra con un vector de números de menor dimensión.\n",
            "- **output_dim:** Es la dimensión del vector de embedding para cada palabra.\n",
            "- **input_dim:** Es el tamaño del vocabulario + 1 (para el padding).\n",
            "- **input_length:** Es la longitud máxima de las secuencias.\n",
            "Estos embeddings son inicialmente aleatorios y se ajustarían durante el entrenamiento de un modelo en una tarea específica (como clasificación de texto).\n"
          ]
        }
      ]
    },
    {
      "cell_type": "code",
      "source": [
        "from sklearn.preprocessing import OneHotEncoder\n",
        "import numpy as np\n",
        "\n",
        "sentences = [\n",
        "    'El perro corre en el parque',\n",
        "    'El gato duerme en la casa',\n",
        "    'El perro juega con la pelota',\n",
        "    'El gato caza un ratón'\n",
        "]\n",
        "\n",
        "# Tokenización para One-Hot Encoding a nivel de palabra\n",
        "words = [word for sentence in sentences for word in sentence.lower().split()]\n",
        "unique_words = sorted(list(set(words)))\n",
        "vocab_size = len(unique_words)\n",
        "\n",
        "print(\"Vocabulario para One-Hot Encoding:\")\n",
        "print(unique_words)\n",
        "print(\"-\" * 30)\n",
        "\n",
        "# Crear representaciones One-Hot para cada oración\n",
        "one_hot_encoded_sentences = []\n",
        "for sentence in sentences:\n",
        "    sentence_words = sentence.lower().split()\n",
        "    one_hot_vector = np.zeros(vocab_size)\n",
        "    for word in sentence_words:\n",
        "        if word in unique_words:\n",
        "            index = unique_words.index(word)\n",
        "            one_hot_vector[index] = 1  # O podrías contar la frecuencia: one_hot_vector[index] += 1\n",
        "    one_hot_encoded_sentences.append(one_hot_vector)\n",
        "\n",
        "print(\"Representación One-Hot de las oraciones:\")\n",
        "for i, sentence in enumerate(sentences):\n",
        "    print(f\"Oración {i+1}: {sentence}\")\n",
        "    print(one_hot_encoded_sentences[i])\n",
        "    print(\"-\" * 10)\n",
        "\n",
        "print(\"\\nComparación con Word Embeddings (basado en la celda anterior):\")\n",
        "print(\"- **One-Hot Encoding:** Crea un vector binario largo donde cada dimensión representa una palabra única del vocabulario. La dimensión del vector es igual al tamaño del vocabulario. No captura relaciones semánticas entre palabras.\")\n",
        "print(\"- **Word Embeddings:** Representa cada palabra como un vector denso de menor dimensión. La dimensión del vector es un parámetro (output_dim en Keras). Captura relaciones semánticas (palabras similares tienen vectores similares).\")"
      ],
      "metadata": {
        "colab": {
          "base_uri": "https://localhost:8080/"
        },
        "id": "E0KlYqNHVR_6",
        "outputId": "c1d3ea03-f093-4ce8-b813-6b57dfe3d307"
      },
      "execution_count": 4,
      "outputs": [
        {
          "output_type": "stream",
          "name": "stdout",
          "text": [
            "Vocabulario para One-Hot Encoding:\n",
            "['casa', 'caza', 'con', 'corre', 'duerme', 'el', 'en', 'gato', 'juega', 'la', 'parque', 'pelota', 'perro', 'ratón', 'un']\n",
            "------------------------------\n",
            "Representación One-Hot de las oraciones:\n",
            "Oración 1: El perro corre en el parque\n",
            "[0. 0. 0. 1. 0. 1. 1. 0. 0. 0. 1. 0. 1. 0. 0.]\n",
            "----------\n",
            "Oración 2: El gato duerme en la casa\n",
            "[1. 0. 0. 0. 1. 1. 1. 1. 0. 1. 0. 0. 0. 0. 0.]\n",
            "----------\n",
            "Oración 3: El perro juega con la pelota\n",
            "[0. 0. 1. 0. 0. 1. 0. 0. 1. 1. 0. 1. 1. 0. 0.]\n",
            "----------\n",
            "Oración 4: El gato caza un ratón\n",
            "[0. 1. 0. 0. 0. 1. 0. 1. 0. 0. 0. 0. 0. 1. 1.]\n",
            "----------\n",
            "\n",
            "Comparación con Word Embeddings (basado en la celda anterior):\n",
            "- **One-Hot Encoding:** Crea un vector binario largo donde cada dimensión representa una palabra única del vocabulario. La dimensión del vector es igual al tamaño del vocabulario. No captura relaciones semánticas entre palabras.\n",
            "- **Word Embeddings:** Representa cada palabra como un vector denso de menor dimensión. La dimensión del vector es un parámetro (output_dim en Keras). Captura relaciones semánticas (palabras similares tienen vectores similares).\n"
          ]
        }
      ]
    },
    {
      "cell_type": "code",
      "source": [
        "# Acceder al word_index y a los embeddings de la celda WMu9ZuXMU5tR\n",
        "# Es importante que la celda WMu9ZuXMU5tR se haya ejecutado antes para que estas variables existan.\n",
        "\n",
        "words_to_show = ['pelota', 'parque', 'perro', 'gato']\n",
        "\n",
        "print(\"Vectores de embedding para palabras específicas:\")\n",
        "print(\"-\" * 40)\n",
        "\n",
        "for word in words_to_show:\n",
        "    if word in word_index:\n",
        "        index = word_index[word]\n",
        "        word_embedding = embeddings[index]\n",
        "        print(f\"Vector de embedding para '{word}':\")\n",
        "        print(word_embedding)\n",
        "        print(\"-\" * 20)\n",
        "    else:\n",
        "        print(f\"La palabra '{word}' no está en el vocabulario.\")\n",
        "        print(\"-\" * 20)"
      ],
      "metadata": {
        "colab": {
          "base_uri": "https://localhost:8080/"
        },
        "id": "sgohDu3wW9VD",
        "outputId": "8a1e65ce-6064-48d0-bfca-52c30c82a6cd"
      },
      "execution_count": 5,
      "outputs": [
        {
          "output_type": "stream",
          "name": "stdout",
          "text": [
            "Vectores de embedding para palabras específicas:\n",
            "----------------------------------------\n",
            "Vector de embedding para 'pelota':\n",
            "[ 0.02356908 -0.02547683  0.03363779  0.02462841  0.02558625 -0.03036195\n",
            "  0.03894265  0.04249628]\n",
            "--------------------\n",
            "Vector de embedding para 'parque':\n",
            "[ 0.01349691 -0.00854899 -0.03189993 -0.00283885  0.04491376  0.00339184\n",
            "  0.03399635  0.03922579]\n",
            "--------------------\n",
            "Vector de embedding para 'perro':\n",
            "[-0.00524797 -0.0449581   0.03110847 -0.02950633  0.00090873  0.00061829\n",
            " -0.0278508   0.01563616]\n",
            "--------------------\n",
            "Vector de embedding para 'gato':\n",
            "[ 0.03620568 -0.02313721  0.00301746 -0.01685438 -0.03915597  0.03584406\n",
            " -0.00405413  0.02971119]\n",
            "--------------------\n"
          ]
        }
      ]
    },
    {
      "cell_type": "code",
      "metadata": {
        "colab": {
          "base_uri": "https://localhost:8080/"
        },
        "id": "85a6639e",
        "outputId": "b8e94ae7-c926-4846-a537-dc8151931ad3"
      },
      "source": [
        "from sklearn.metrics.pairwise import cosine_similarity\n",
        "\n",
        "words_to_compare = ['pelota', 'parque', 'perro', 'gato']\n",
        "word_vectors = {}\n",
        "\n",
        "# Obtener los vectores de embedding para las palabras de interés\n",
        "for word in words_to_compare:\n",
        "    if word in word_index:\n",
        "        index = word_index[word]\n",
        "        word_vectors[word] = embeddings[index].reshape(1, -1) # Reshape para que sea 2D\n",
        "    else:\n",
        "        print(f\"Advertencia: La palabra '{word}' no está en el vocabulario.\")\n",
        "\n",
        "print(\"Medidas de similitud del coseno entre conceptos:\")\n",
        "print(\"-\" * 50)\n",
        "\n",
        "# Calcular y mostrar la similitud del coseno entre pares de palabras\n",
        "for i in range(len(words_to_compare)):\n",
        "    for j in range(i + 1, len(words_to_compare)):\n",
        "        word1 = words_to_compare[i]\n",
        "        word2 = words_to_compare[j]\n",
        "\n",
        "        if word1 in word_vectors and word2 in word_vectors:\n",
        "            vector1 = word_vectors[word1]\n",
        "            vector2 = word_vectors[word2]\n",
        "            similarity = cosine_similarity(vector1, vector2)[0][0]\n",
        "            print(f\"Similitud '{word1}' y '{word2}': {similarity:.4f}\")\n",
        "        else:\n",
        "            print(f\"No se pudo calcular la similitud entre '{word1}' y '{word2}' (una o ambas palabras no encontradas).\")\n",
        "\n",
        "print(\"-\" * 50)\n",
        "\n",
        "print(\"Nota: Estos valores de similitud se basan en los embeddings aleatorios iniciales. Después del entrenamiento, los valores reflejarían mejor las relaciones semánticas aprendidas.\")"
      ],
      "execution_count": 6,
      "outputs": [
        {
          "output_type": "stream",
          "name": "stdout",
          "text": [
            "Medidas de similitud del coseno entre conceptos:\n",
            "--------------------------------------------------\n",
            "Similitud 'pelota' y 'parque': 0.4999\n",
            "Similitud 'pelota' y 'perro': 0.1492\n",
            "Similitud 'pelota' y 'gato': 0.0212\n",
            "Similitud 'parque' y 'perro': -0.1631\n",
            "Similitud 'parque' y 'gato': 0.0048\n",
            "Similitud 'perro' y 'gato': 0.3740\n",
            "--------------------------------------------------\n",
            "Nota: Estos valores de similitud se basan en los embeddings aleatorios iniciales. Después del entrenamiento, los valores reflejarían mejor las relaciones semánticas aprendidas.\n"
          ]
        }
      ]
    },
    {
      "cell_type": "code",
      "source": [
        "from tensorflow.keras.preprocessing.text import Tokenizer\n",
        "from tensorflow.keras.preprocessing.sequence import pad_sequences\n",
        "from tensorflow.keras.models import Sequential\n",
        "from tensorflow.keras.layers import Embedding, Flatten, Dense\n",
        "import numpy as np\n",
        "\n",
        "# Ejemplo de texto con más oraciones\n",
        "sentences = [\n",
        "    'El perro corre en el parque',\n",
        "    'El gato duerme en la casa',\n",
        "    'El perro juega con la pelota',\n",
        "    'El gato caza un ratón',\n",
        "    'El perro y el gato son animales domésticos',\n",
        "    'Los perros y gatos son seres vivos',\n",
        "    'La humanidad ha tenido una relación cercana con perros y gatos',\n",
        "    'Los perros y los gatos a menudo interactúan entre ellos'\n",
        "]\n",
        "\n",
        "# Tokenización\n",
        "tokenizer = Tokenizer(num_words=100, oov_token=\"<OOV>\")\n",
        "tokenizer.fit_on_texts(sentences)\n",
        "word_index = tokenizer.word_index\n",
        "sequences = tokenizer.texts_to_sequences(sentences)\n",
        "\n",
        "print(\"Índice de palabras (con más oraciones):\")\n",
        "print(word_index)\n",
        "print(\"-\" * 30)\n",
        "\n",
        "print(\"Secuencias de texto (con más oraciones):\")\n",
        "print(sequences)\n",
        "print(\"-\" * 30)\n",
        "\n",
        "# Padding (para que todas las secuencias tengan la misma longitud)\n",
        "max_length = max([len(seq) for seq in sequences])\n",
        "padded_sequences = pad_sequences(sequences, maxlen=max_length, padding='post', truncating='post')\n",
        "\n",
        "print(\"Secuencias con padding (con más oraciones):\")\n",
        "print(padded_sequences)\n",
        "print(\"-\" * 30)\n",
        "\n",
        "# Crear un modelo simple con una capa de Embedding\n",
        "# Usamos el nuevo tamaño de vocabulario y longitud máxima\n",
        "model = Sequential([\n",
        "    Embedding(input_dim=len(word_index) + 1, output_dim=8, input_length=max_length),\n",
        "    Flatten(),\n",
        "    Dense(1, activation='sigmoid') # Capa de ejemplo, puede ser cualquier otra\n",
        "])\n",
        "\n",
        "# Build the model to initialize weights\n",
        "model.build(input_shape=(None, max_length))\n",
        "\n",
        "\n",
        "model.compile(optimizer='adam', loss='binary_crossentropy', metrics=['accuracy'])\n",
        "model.summary()\n",
        "\n",
        "# Para ver los embeddings, puedes acceder a los pesos de la capa de Embedding\n",
        "# Ten en cuenta que estos embeddings son aleatorios al principio y se aprenderían durante el entrenamiento\n",
        "embedding_layer = model.layers[0]\n",
        "embeddings = embedding_layer.get_weights()[0]\n",
        "\n",
        "print(\"Forma de la matriz de embeddings (vocabulario_size, embedding_dim):\")\n",
        "print(embeddings.shape)\n",
        "print(\"-\" * 30)\n",
        "\n",
        "# Puedes ver el vector de embedding para una palabra específica (ej. 'perro')\n",
        "word = 'perro'\n",
        "if word in word_index:\n",
        "    index = word_index[word]\n",
        "    word_embedding = embeddings[index]\n",
        "    print(f\"Vector de embedding para '{word}':\")\n",
        "    print(word_embedding)\n",
        "else:\n",
        "    print(f\"La palabra '{word}' no está en el vocabulario.\")\n",
        "\n",
        "print(\"-\" * 30)\n",
        "\n",
        "print(\"Explicación:\")\n",
        "print(\"Hemos añadido más oraciones para capturar mejor las relaciones entre las palabras. El proceso de tokenización, padding y creación de la capa de embedding se repite con el nuevo conjunto de datos.\")\n",
        "print(\"Los embeddings mostrados siguen siendo aleatorios hasta que el modelo sea entrenado.\")"
      ],
      "metadata": {
        "colab": {
          "base_uri": "https://localhost:8080/",
          "height": 752
        },
        "id": "ToNEVCE1e_s-",
        "outputId": "5bbb7555-c068-45b1-ddf5-d3af5088960e"
      },
      "execution_count": 7,
      "outputs": [
        {
          "output_type": "stream",
          "name": "stdout",
          "text": [
            "Índice de palabras (con más oraciones):\n",
            "{'<OOV>': 1, 'el': 2, 'y': 3, 'perro': 4, 'gato': 5, 'la': 6, 'los': 7, 'perros': 8, 'gatos': 9, 'en': 10, 'con': 11, 'son': 12, 'corre': 13, 'parque': 14, 'duerme': 15, 'casa': 16, 'juega': 17, 'pelota': 18, 'caza': 19, 'un': 20, 'ratón': 21, 'animales': 22, 'domésticos': 23, 'seres': 24, 'vivos': 25, 'humanidad': 26, 'ha': 27, 'tenido': 28, 'una': 29, 'relación': 30, 'cercana': 31, 'a': 32, 'menudo': 33, 'interactúan': 34, 'entre': 35, 'ellos': 36}\n",
            "------------------------------\n",
            "Secuencias de texto (con más oraciones):\n",
            "[[2, 4, 13, 10, 2, 14], [2, 5, 15, 10, 6, 16], [2, 4, 17, 11, 6, 18], [2, 5, 19, 20, 21], [2, 4, 3, 2, 5, 12, 22, 23], [7, 8, 3, 9, 12, 24, 25], [6, 26, 27, 28, 29, 30, 31, 11, 8, 3, 9], [7, 8, 3, 7, 9, 32, 33, 34, 35, 36]]\n",
            "------------------------------\n",
            "Secuencias con padding (con más oraciones):\n",
            "[[ 2  4 13 10  2 14  0  0  0  0  0]\n",
            " [ 2  5 15 10  6 16  0  0  0  0  0]\n",
            " [ 2  4 17 11  6 18  0  0  0  0  0]\n",
            " [ 2  5 19 20 21  0  0  0  0  0  0]\n",
            " [ 2  4  3  2  5 12 22 23  0  0  0]\n",
            " [ 7  8  3  9 12 24 25  0  0  0  0]\n",
            " [ 6 26 27 28 29 30 31 11  8  3  9]\n",
            " [ 7  8  3  7  9 32 33 34 35 36  0]]\n",
            "------------------------------\n"
          ]
        },
        {
          "output_type": "stream",
          "name": "stderr",
          "text": [
            "/usr/local/lib/python3.12/dist-packages/keras/src/layers/core/embedding.py:97: UserWarning: Argument `input_length` is deprecated. Just remove it.\n",
            "  warnings.warn(\n"
          ]
        },
        {
          "output_type": "display_data",
          "data": {
            "text/plain": [
              "\u001b[1mModel: \"sequential_2\"\u001b[0m\n"
            ],
            "text/html": [
              "<pre style=\"white-space:pre;overflow-x:auto;line-height:normal;font-family:Menlo,'DejaVu Sans Mono',consolas,'Courier New',monospace\"><span style=\"font-weight: bold\">Model: \"sequential_2\"</span>\n",
              "</pre>\n"
            ]
          },
          "metadata": {}
        },
        {
          "output_type": "display_data",
          "data": {
            "text/plain": [
              "┏━━━━━━━━━━━━━━━━━━━━━━━━━━━━━━━━━┳━━━━━━━━━━━━━━━━━━━━━━━━┳━━━━━━━━━━━━━━━┓\n",
              "┃\u001b[1m \u001b[0m\u001b[1mLayer (type)                   \u001b[0m\u001b[1m \u001b[0m┃\u001b[1m \u001b[0m\u001b[1mOutput Shape          \u001b[0m\u001b[1m \u001b[0m┃\u001b[1m \u001b[0m\u001b[1m      Param #\u001b[0m\u001b[1m \u001b[0m┃\n",
              "┡━━━━━━━━━━━━━━━━━━━━━━━━━━━━━━━━━╇━━━━━━━━━━━━━━━━━━━━━━━━╇━━━━━━━━━━━━━━━┩\n",
              "│ embedding_2 (\u001b[38;5;33mEmbedding\u001b[0m)         │ (\u001b[38;5;45mNone\u001b[0m, \u001b[38;5;34m11\u001b[0m, \u001b[38;5;34m8\u001b[0m)          │           \u001b[38;5;34m296\u001b[0m │\n",
              "├─────────────────────────────────┼────────────────────────┼───────────────┤\n",
              "│ flatten_2 (\u001b[38;5;33mFlatten\u001b[0m)             │ (\u001b[38;5;45mNone\u001b[0m, \u001b[38;5;34m88\u001b[0m)             │             \u001b[38;5;34m0\u001b[0m │\n",
              "├─────────────────────────────────┼────────────────────────┼───────────────┤\n",
              "│ dense_2 (\u001b[38;5;33mDense\u001b[0m)                 │ (\u001b[38;5;45mNone\u001b[0m, \u001b[38;5;34m1\u001b[0m)              │            \u001b[38;5;34m89\u001b[0m │\n",
              "└─────────────────────────────────┴────────────────────────┴───────────────┘\n"
            ],
            "text/html": [
              "<pre style=\"white-space:pre;overflow-x:auto;line-height:normal;font-family:Menlo,'DejaVu Sans Mono',consolas,'Courier New',monospace\">┏━━━━━━━━━━━━━━━━━━━━━━━━━━━━━━━━━┳━━━━━━━━━━━━━━━━━━━━━━━━┳━━━━━━━━━━━━━━━┓\n",
              "┃<span style=\"font-weight: bold\"> Layer (type)                    </span>┃<span style=\"font-weight: bold\"> Output Shape           </span>┃<span style=\"font-weight: bold\">       Param # </span>┃\n",
              "┡━━━━━━━━━━━━━━━━━━━━━━━━━━━━━━━━━╇━━━━━━━━━━━━━━━━━━━━━━━━╇━━━━━━━━━━━━━━━┩\n",
              "│ embedding_2 (<span style=\"color: #0087ff; text-decoration-color: #0087ff\">Embedding</span>)         │ (<span style=\"color: #00d7ff; text-decoration-color: #00d7ff\">None</span>, <span style=\"color: #00af00; text-decoration-color: #00af00\">11</span>, <span style=\"color: #00af00; text-decoration-color: #00af00\">8</span>)          │           <span style=\"color: #00af00; text-decoration-color: #00af00\">296</span> │\n",
              "├─────────────────────────────────┼────────────────────────┼───────────────┤\n",
              "│ flatten_2 (<span style=\"color: #0087ff; text-decoration-color: #0087ff\">Flatten</span>)             │ (<span style=\"color: #00d7ff; text-decoration-color: #00d7ff\">None</span>, <span style=\"color: #00af00; text-decoration-color: #00af00\">88</span>)             │             <span style=\"color: #00af00; text-decoration-color: #00af00\">0</span> │\n",
              "├─────────────────────────────────┼────────────────────────┼───────────────┤\n",
              "│ dense_2 (<span style=\"color: #0087ff; text-decoration-color: #0087ff\">Dense</span>)                 │ (<span style=\"color: #00d7ff; text-decoration-color: #00d7ff\">None</span>, <span style=\"color: #00af00; text-decoration-color: #00af00\">1</span>)              │            <span style=\"color: #00af00; text-decoration-color: #00af00\">89</span> │\n",
              "└─────────────────────────────────┴────────────────────────┴───────────────┘\n",
              "</pre>\n"
            ]
          },
          "metadata": {}
        },
        {
          "output_type": "display_data",
          "data": {
            "text/plain": [
              "\u001b[1m Total params: \u001b[0m\u001b[38;5;34m385\u001b[0m (1.50 KB)\n"
            ],
            "text/html": [
              "<pre style=\"white-space:pre;overflow-x:auto;line-height:normal;font-family:Menlo,'DejaVu Sans Mono',consolas,'Courier New',monospace\"><span style=\"font-weight: bold\"> Total params: </span><span style=\"color: #00af00; text-decoration-color: #00af00\">385</span> (1.50 KB)\n",
              "</pre>\n"
            ]
          },
          "metadata": {}
        },
        {
          "output_type": "display_data",
          "data": {
            "text/plain": [
              "\u001b[1m Trainable params: \u001b[0m\u001b[38;5;34m385\u001b[0m (1.50 KB)\n"
            ],
            "text/html": [
              "<pre style=\"white-space:pre;overflow-x:auto;line-height:normal;font-family:Menlo,'DejaVu Sans Mono',consolas,'Courier New',monospace\"><span style=\"font-weight: bold\"> Trainable params: </span><span style=\"color: #00af00; text-decoration-color: #00af00\">385</span> (1.50 KB)\n",
              "</pre>\n"
            ]
          },
          "metadata": {}
        },
        {
          "output_type": "display_data",
          "data": {
            "text/plain": [
              "\u001b[1m Non-trainable params: \u001b[0m\u001b[38;5;34m0\u001b[0m (0.00 B)\n"
            ],
            "text/html": [
              "<pre style=\"white-space:pre;overflow-x:auto;line-height:normal;font-family:Menlo,'DejaVu Sans Mono',consolas,'Courier New',monospace\"><span style=\"font-weight: bold\"> Non-trainable params: </span><span style=\"color: #00af00; text-decoration-color: #00af00\">0</span> (0.00 B)\n",
              "</pre>\n"
            ]
          },
          "metadata": {}
        },
        {
          "output_type": "stream",
          "name": "stdout",
          "text": [
            "Forma de la matriz de embeddings (vocabulario_size, embedding_dim):\n",
            "(37, 8)\n",
            "------------------------------\n",
            "Vector de embedding para 'perro':\n",
            "[ 0.04892186 -0.03289267 -0.03727658 -0.02003684  0.01347039 -0.00479908\n",
            "  0.01018343 -0.03253269]\n",
            "------------------------------\n",
            "Explicación:\n",
            "Hemos añadido más oraciones para capturar mejor las relaciones entre las palabras. El proceso de tokenización, padding y creación de la capa de embedding se repite con el nuevo conjunto de datos.\n",
            "Los embeddings mostrados siguen siendo aleatorios hasta que el modelo sea entrenado.\n"
          ]
        }
      ]
    },
    {
      "cell_type": "code",
      "source": [
        "from sklearn.metrics.pairwise import cosine_similarity\n",
        "\n",
        "words_to_compare = ['pelota', 'parque', 'perro', 'gato']\n",
        "word_vectors = {}\n",
        "\n",
        "# Obtener los vectores de embedding para las palabras de interés\n",
        "for word in words_to_compare:\n",
        "    if word in word_index:\n",
        "        index = word_index[word]\n",
        "        word_vectors[word] = embeddings[index].reshape(1, -1) # Reshape para que sea 2D\n",
        "    else:\n",
        "        print(f\"Advertencia: La palabra '{word}' no está en el vocabulario.\")\n",
        "\n",
        "print(\"Medidas de similitud del coseno entre conceptos (con más oraciones):\")\n",
        "print(\"-\" * 50)\n",
        "\n",
        "# Calcular y mostrar la similitud del coseno entre pares de palabras\n",
        "for i in range(len(words_to_compare)):\n",
        "    for j in range(i + 1, len(words_to_compare)):\n",
        "        word1 = words_to_compare[i]\n",
        "        word2 = words_to_compare[j]\n",
        "\n",
        "        if word1 in word_vectors and word2 in word_vectors:\n",
        "            vector1 = word_vectors[word1]\n",
        "            vector2 = word_vectors[word2]\n",
        "            similarity = cosine_similarity(vector1, vector2)[0][0]\n",
        "            print(f\"Similitud '{word1}' y '{word2}': {similarity:.4f}\")\n",
        "        else:\n",
        "            print(f\"No se pudo calcular la similitud entre '{word1}' y '{word2}' (una o ambas palabras no encontradas).\")\n",
        "\n",
        "print(\"-\" * 50)\n",
        "\n",
        "print(\"Nota: Estos valores de similitud siguen basándose en los embeddings aleatorios iniciales, pero reflejan el nuevo vocabulario. El entrenamiento del modelo es crucial para que los embeddings capturen relaciones semánticas significativas basadas en el contexto de las oraciones.\")"
      ],
      "metadata": {
        "colab": {
          "base_uri": "https://localhost:8080/"
        },
        "id": "bLu0qztafjs3",
        "outputId": "b8bae86b-b8f9-4302-d0d7-28206176e5fd"
      },
      "execution_count": 8,
      "outputs": [
        {
          "output_type": "stream",
          "name": "stdout",
          "text": [
            "Medidas de similitud del coseno entre conceptos (con más oraciones):\n",
            "--------------------------------------------------\n",
            "Similitud 'pelota' y 'parque': -0.5712\n",
            "Similitud 'pelota' y 'perro': 0.2220\n",
            "Similitud 'pelota' y 'gato': -0.1897\n",
            "Similitud 'parque' y 'perro': 0.1024\n",
            "Similitud 'parque' y 'gato': -0.4393\n",
            "Similitud 'perro' y 'gato': -0.4271\n",
            "--------------------------------------------------\n",
            "Nota: Estos valores de similitud siguen basándose en los embeddings aleatorios iniciales, pero reflejan el nuevo vocabulario. El entrenamiento del modelo es crucial para que los embeddings capturen relaciones semánticas significativas basadas en el contexto de las oraciones.\n"
          ]
        }
      ]
    },
    {
      "cell_type": "code",
      "source": [
        "%%capture\n",
        "!pip install google-api-python-client langdetect pandas python-dotenv"
      ],
      "metadata": {
        "id": "7hp50NI1kBjg"
      },
      "execution_count": 9,
      "outputs": []
    },
    {
      "cell_type": "code",
      "source": [
        "\"\"\"\n",
        "Script para descargar comentarios de YouTube y analizar países/idiomas\n",
        "Adaptado para Google Colab con archivo .env\n",
        "\n",
        "INSTALACIÓN EN COLAB (ejecutar primero):\n",
        "!pip install google-api-python-client langdetect pandas python-dotenv\n",
        "\"\"\"\n",
        "\n",
        "import os\n",
        "from dotenv import load_dotenv\n",
        "from googleapiclient.discovery import build\n",
        "from langdetect import detect, detect_langs\n",
        "import pandas as pd\n",
        "from collections import Counter\n",
        "import re\n",
        "\n",
        "# ========== CARGAR VARIABLES DE ENTORNO ==========\n",
        "load_dotenv()  # Carga el archivo .env\n",
        "API_KEY = os.getenv('YOUTUBE_API_KEY')\n",
        "VIDEO_ID = os.getenv('VIDEO_ID', 'UEqTIwRrWvA')  # Valor por defecto\n",
        "\n",
        "if not API_KEY:\n",
        "    raise ValueError(\"❌ No se encontró YOUTUBE_API_KEY en el archivo .env\")\n",
        "\n",
        "print(f\"✅ API Key cargada correctamente\")\n",
        "print(f\"📹 Video ID: {VIDEO_ID}\")\n",
        "\n",
        "# ========== FUNCIÓN PARA DESCARGAR COMENTARIOS ==========\n",
        "def get_video_comments(video_id, api_key, max_results=100):\n",
        "    \"\"\"Descarga comentarios de un video de YouTube\"\"\"\n",
        "    youtube = build('youtube', 'v3', developerKey=api_key)\n",
        "    comments = []\n",
        "\n",
        "    try:\n",
        "        request = youtube.commentThreads().list(\n",
        "            part='snippet',\n",
        "            videoId=video_id,\n",
        "            maxResults=100,\n",
        "            textFormat='plainText'\n",
        "        )\n",
        "\n",
        "        while request and len(comments) < max_results:\n",
        "            response = request.execute()\n",
        "\n",
        "            for item in response['items']:\n",
        "                comment = item['snippet']['topLevelComment']['snippet']\n",
        "                comments.append({\n",
        "                    'autor': comment['authorDisplayName'],\n",
        "                    'texto': comment['textDisplay'],\n",
        "                    'likes': comment['likeCount'],\n",
        "                    'fecha': comment['publishedAt']\n",
        "                })\n",
        "\n",
        "            # Siguiente página\n",
        "            request = youtube.commentThreads().list_next(request, response)\n",
        "\n",
        "    except Exception as e:\n",
        "        print(f\"❌ Error al descargar comentarios: {e}\")\n",
        "        return []\n",
        "\n",
        "    return comments\n",
        "\n",
        "# ========== DETECTAR IDIOMA ==========\n",
        "def detect_language(text):\n",
        "    \"\"\"Detecta el idioma de un texto\"\"\"\n",
        "    try:\n",
        "        return detect(text)\n",
        "    except:\n",
        "        return 'desconocido'\n",
        "\n",
        "# ========== BUSCAR MENCIONES DE PAÍSES ==========\n",
        "def find_country_mentions(text):\n",
        "    \"\"\"Busca menciones de países en el texto\"\"\"\n",
        "    paises = {\n",
        "        'argentina': ['argentina', 'arg', 'buenos aires', '🇦🇷'],\n",
        "        'mexico': ['mexico', 'méxico', 'mex', '🇲🇽'],\n",
        "        'españa': ['españa', 'spain', 'esp', '🇪🇸'],\n",
        "        'colombia': ['colombia', 'col', '🇨🇴'],\n",
        "        'chile': ['chile', 'chi', '🇨🇱'],\n",
        "        'peru': ['peru', 'perú', '🇵🇪'],\n",
        "        'venezuela': ['venezuela', 've', '🇻🇪'],\n",
        "        'ecuador': ['ecuador', 'ecu', '🇪🇨'],\n",
        "        'uruguay': ['uruguay', 'uru', '🇺🇾'],\n",
        "        'bolivia': ['bolivia', 'bol', '🇧🇴'],\n",
        "        'paraguay': ['paraguay', 'par', '🇵🇾'],\n",
        "        'usa': ['usa', 'united states', 'estados unidos', 'eeuu', '🇺🇸'],\n",
        "        'brasil': ['brasil', 'brazil', 'bra', '🇧🇷'],\n",
        "        'costa rica': ['costa rica', '🇨🇷'],\n",
        "        'panama': ['panama', 'panamá', '🇵🇦'],\n",
        "        'guatemala': ['guatemala', '🇬🇹'],\n",
        "        'cuba': ['cuba', '🇨🇺'],\n",
        "        'republica dominicana': ['dominicana', 'republica dominicana', '🇩🇴'],\n",
        "        'puerto rico': ['puerto rico', '🇵🇷'],\n",
        "        'el salvador': ['el salvador', '🇸🇻'],\n",
        "        'honduras': ['honduras', '🇭🇳'],\n",
        "        'nicaragua': ['nicaragua', '🇳🇮'],\n",
        "    }\n",
        "\n",
        "    text_lower = text.lower()\n",
        "    paises_encontrados = []\n",
        "\n",
        "    for pais, keywords in paises.items():\n",
        "        for keyword in keywords:\n",
        "            if keyword in text_lower:\n",
        "                paises_encontrados.append(pais)\n",
        "                break\n",
        "\n",
        "    return paises_encontrados\n",
        "\n",
        "# ========== ANÁLISIS PRINCIPAL ==========\n",
        "def analyze_comments(comments):\n",
        "    \"\"\"Analiza idiomas y países mencionados en los comentarios\"\"\"\n",
        "\n",
        "    idiomas = []\n",
        "    paises_mencionados = []\n",
        "\n",
        "    print(f\"\\n🔄 Analizando {len(comments)} comentarios...\")\n",
        "\n",
        "    for i, comment in enumerate(comments, 1):\n",
        "        if i % 50 == 0:\n",
        "            print(f\"  Procesados: {i}/{len(comments)}\")\n",
        "\n",
        "        texto = comment['texto']\n",
        "\n",
        "        # Detectar idioma\n",
        "        idioma = detect_language(texto)\n",
        "        idiomas.append(idioma)\n",
        "        comment['idioma'] = idioma\n",
        "\n",
        "        # Buscar países mencionados\n",
        "        paises = find_country_mentions(texto)\n",
        "        paises_mencionados.extend(paises)\n",
        "        comment['paises_mencionados'] = ', '.join(paises) if paises else ''\n",
        "\n",
        "    # Contar idiomas y países\n",
        "    contador_idiomas = Counter(idiomas)\n",
        "    contador_paises = Counter(paises_mencionados)\n",
        "\n",
        "    return contador_idiomas, contador_paises, comments\n",
        "\n",
        "# ========== VISUALIZAR RESULTADOS ==========\n",
        "def mostrar_resultados(idiomas, paises, comentarios):\n",
        "    \"\"\"Muestra los resultados del análisis\"\"\"\n",
        "\n",
        "    print(\"\\n\" + \"=\"*60)\n",
        "    print(\"📊 RESULTADOS DEL ANÁLISIS\")\n",
        "    print(\"=\"*60)\n",
        "\n",
        "    print(f\"\\n🔢 Total de comentarios analizados: {len(comentarios)}\")\n",
        "\n",
        "    print(\"\\n🌐 IDIOMAS DETECTADOS:\")\n",
        "    print(\"-\" * 40)\n",
        "    for idioma, cantidad in idiomas.most_common(15):\n",
        "        porcentaje = (cantidad / len(comentarios)) * 100\n",
        "        barra = \"█\" * int(porcentaje / 2)\n",
        "        print(f\"  {idioma:12} │ {cantidad:4} │ {porcentaje:5.1f}% │ {barra}\")\n",
        "\n",
        "    if paises:\n",
        "        print(\"\\n🌍 PAÍSES MENCIONADOS:\")\n",
        "        print(\"-\" * 40)\n",
        "        for pais, cantidad in paises.most_common(15):\n",
        "            barra = \"█\" * (cantidad if cantidad < 20 else 20)\n",
        "            print(f\"  {pais:20} │ {cantidad:3} menciones │ {barra}\")\n",
        "    else:\n",
        "        print(\"\\n🌍 No se encontraron menciones de países en los comentarios\")\n",
        "\n",
        "    print(\"\\n\" + \"=\"*60)\n",
        "\n",
        "# ========== EJECUTAR ANÁLISIS ==========\n",
        "def main():\n",
        "    \"\"\"Función principal\"\"\"\n",
        "\n",
        "    print(\"\\n🚀 INICIANDO ANÁLISIS DE COMENTARIOS DE YOUTUBE\")\n",
        "    print(\"=\"*60)\n",
        "\n",
        "    # Descargar comentarios\n",
        "    print(f\"\\n📥 Descargando comentarios del video: {VIDEO_ID}\")\n",
        "    comentarios = get_video_comments(VIDEO_ID, API_KEY, max_results=1000)\n",
        "\n",
        "    if not comentarios:\n",
        "        print(\"❌ No se pudieron descargar comentarios. Verifica tu API key y el ID del video.\")\n",
        "        return\n",
        "\n",
        "    print(f\"✅ {len(comentarios)} comentarios descargados exitosamente\")\n",
        "\n",
        "    # Analizar comentarios\n",
        "    idiomas, paises, comentarios_analizados = analyze_comments(comentarios)\n",
        "\n",
        "    # Mostrar resultados\n",
        "    mostrar_resultados(idiomas, paises, comentarios_analizados)\n",
        "\n",
        "    # Guardar en CSV\n",
        "    df = pd.DataFrame(comentarios_analizados)\n",
        "    df.to_csv('comentarios_youtube_analisis.csv', index=False, encoding='utf-8')\n",
        "    print(f\"\\n💾 Datos guardados en: comentarios_youtube_analisis.csv\")\n",
        "\n",
        "    # Estadísticas adicionales\n",
        "    comentarios_con_paises = sum(1 for c in comentarios_analizados if c['paises_mencionados'])\n",
        "\n",
        "    print(f\"\\n📈 ESTADÍSTICAS ADICIONALES:\")\n",
        "    print(f\"  • Comentarios con países mencionados: {comentarios_con_paises} ({comentarios_con_paises/len(comentarios)*100:.1f}%)\")\n",
        "    print(f\"  • Idiomas únicos detectados: {len(idiomas)}\")\n",
        "    print(f\"  • Países únicos mencionados: {len(paises)}\")\n",
        "\n",
        "    return df\n",
        "\n",
        "# Ejecutar\n",
        "if __name__ == \"__main__\":\n",
        "    df = main()\n",
        "\n",
        "\n",
        "# ========== INSTRUCCIONES PARA GOOGLE COLAB ==========\n",
        "\"\"\"\n",
        "📝 CÓMO USAR EN GOOGLE COLAB:\n",
        "\n",
        "1️⃣ INSTALAR DEPENDENCIAS (Primera celda):\n",
        "   !pip install google-api-python-client langdetect pandas python-dotenv\n",
        "\n",
        "2️⃣ CREAR ARCHIVO .env (Segunda celda):\n",
        "   %%writefile .env\n",
        "   YOUTUBE_API_KEY=tu_api_key_aqui\n",
        "   VIDEO_ID=UEqTIwRrWvA\n",
        "\n",
        "3️⃣ COPIAR Y EJECUTAR ESTE SCRIPT (Tercera celda)\n",
        "\n",
        "4️⃣ DESCARGAR RESULTADOS:\n",
        "   from google.colab import files\n",
        "   files.download('comentarios_youtube_analisis.csv')\n",
        "\n",
        "🔑 OBTENER TU API KEY:\n",
        "1. Ve a: https://console.cloud.google.com/\n",
        "2. Crea un nuevo proyecto\n",
        "3. Habilita \"YouTube Data API v3\"\n",
        "4. Credenciales → Crear credenciales → Clave de API\n",
        "5. Copia tu API key\n",
        "\n",
        "⚠️ LÍMITES GRATUITOS:\n",
        "- 10,000 unidades/día\n",
        "- Leer comentarios: ~1 unidad por cada 100 comentarios\n",
        "\"\"\""
      ],
      "metadata": {
        "colab": {
          "base_uri": "https://localhost:8080/",
          "height": 1000
        },
        "id": "VVzlsm0BkOjW",
        "outputId": "b6fdb5a5-480f-416c-8afe-7bdc99812152"
      },
      "execution_count": 11,
      "outputs": [
        {
          "output_type": "stream",
          "name": "stdout",
          "text": [
            "✅ API Key cargada correctamente\n",
            "📹 Video ID: UEqTIwRrWvA\n",
            "\n",
            "🚀 INICIANDO ANÁLISIS DE COMENTARIOS DE YOUTUBE\n",
            "============================================================\n",
            "\n",
            "📥 Descargando comentarios del video: UEqTIwRrWvA\n",
            "✅ 1000 comentarios descargados exitosamente\n",
            "\n",
            "🔄 Analizando 1000 comentarios...\n",
            "  Procesados: 50/1000\n",
            "  Procesados: 100/1000\n",
            "  Procesados: 150/1000\n",
            "  Procesados: 200/1000\n",
            "  Procesados: 250/1000\n",
            "  Procesados: 300/1000\n",
            "  Procesados: 350/1000\n",
            "  Procesados: 400/1000\n",
            "  Procesados: 450/1000\n",
            "  Procesados: 500/1000\n",
            "  Procesados: 550/1000\n",
            "  Procesados: 600/1000\n",
            "  Procesados: 650/1000\n",
            "  Procesados: 700/1000\n",
            "  Procesados: 750/1000\n",
            "  Procesados: 800/1000\n",
            "  Procesados: 850/1000\n",
            "  Procesados: 900/1000\n",
            "  Procesados: 950/1000\n",
            "  Procesados: 1000/1000\n",
            "\n",
            "============================================================\n",
            "📊 RESULTADOS DEL ANÁLISIS\n",
            "============================================================\n",
            "\n",
            "🔢 Total de comentarios analizados: 1000\n",
            "\n",
            "🌐 IDIOMAS DETECTADOS:\n",
            "----------------------------------------\n",
            "  es           │  666 │  66.6% │ █████████████████████████████████\n",
            "  desconocido  │   96 │   9.6% │ ████\n",
            "  pt           │   57 │   5.7% │ ██\n",
            "  it           │   34 │   3.4% │ █\n",
            "  en           │   33 │   3.3% │ █\n",
            "  so           │   19 │   1.9% │ \n",
            "  ca           │   17 │   1.7% │ \n",
            "  de           │   14 │   1.4% │ \n",
            "  tl           │    8 │   0.8% │ \n",
            "  sl           │    7 │   0.7% │ \n",
            "  et           │    6 │   0.6% │ \n",
            "  ro           │    5 │   0.5% │ \n",
            "  fr           │    5 │   0.5% │ \n",
            "  lt           │    4 │   0.4% │ \n",
            "  id           │    3 │   0.3% │ \n",
            "\n",
            "🌍 PAÍSES MENCIONADOS:\n",
            "----------------------------------------\n",
            "  venezuela            │ 145 menciones │ ████████████████████\n",
            "  paraguay             │ 100 menciones │ ████████████████████\n",
            "  chile                │  97 menciones │ ████████████████████\n",
            "  españa               │  52 menciones │ ████████████████████\n",
            "  brasil               │  30 menciones │ ████████████████████\n",
            "  ecuador              │  22 menciones │ ████████████████████\n",
            "  mexico               │  15 menciones │ ███████████████\n",
            "  argentina            │   9 menciones │ █████████\n",
            "  colombia             │   8 menciones │ ████████\n",
            "  bolivia              │   4 menciones │ ████\n",
            "  usa                  │   3 menciones │ ███\n",
            "  peru                 │   1 menciones │ █\n",
            "  uruguay              │   1 menciones │ █\n",
            "  panama               │   1 menciones │ █\n",
            "\n",
            "============================================================\n",
            "\n",
            "💾 Datos guardados en: comentarios_youtube_analisis.csv\n",
            "\n",
            "📈 ESTADÍSTICAS ADICIONALES:\n",
            "  • Comentarios con países mencionados: 345 (34.5%)\n",
            "  • Idiomas únicos detectados: 28\n",
            "  • Países únicos mencionados: 14\n"
          ]
        },
        {
          "output_type": "execute_result",
          "data": {
            "text/plain": [
              "'\\n📝 CÓMO USAR EN GOOGLE COLAB:\\n\\n1️⃣ INSTALAR DEPENDENCIAS (Primera celda):\\n   !pip install google-api-python-client langdetect pandas python-dotenv\\n\\n2️⃣ CREAR ARCHIVO .env (Segunda celda):\\n   %%writefile .env\\n   YOUTUBE_API_KEY=tu_api_key_aqui\\n   VIDEO_ID=UEqTIwRrWvA\\n\\n3️⃣ COPIAR Y EJECUTAR ESTE SCRIPT (Tercera celda)\\n\\n4️⃣ DESCARGAR RESULTADOS:\\n   from google.colab import files\\n   files.download(\\'comentarios_youtube_analisis.csv\\')\\n\\n🔑 OBTENER TU API KEY:\\n1. Ve a: https://console.cloud.google.com/\\n2. Crea un nuevo proyecto\\n3. Habilita \"YouTube Data API v3\"\\n4. Credenciales → Crear credenciales → Clave de API\\n5. Copia tu API key\\n\\n⚠️ LÍMITES GRATUITOS:\\n- 10,000 unidades/día\\n- Leer comentarios: ~1 unidad por cada 100 comentarios\\n'"
            ],
            "application/vnd.google.colaboratory.intrinsic+json": {
              "type": "string"
            }
          },
          "metadata": {},
          "execution_count": 11
        }
      ]
    },
    {
      "cell_type": "code",
      "source": [
        "\"\"\"\n",
        "Script para descargar comentarios de YouTube y analizar países/idiomas\n",
        "Adaptado para Google Colab con archivo .env\n",
        "\n",
        "INSTALACIÓN EN COLAB (ejecutar primero):\n",
        "!pip install google-api-python-client langdetect pandas python-dotenv\n",
        "\"\"\"\n",
        "\n",
        "import os\n",
        "from dotenv import load_dotenv\n",
        "from googleapiclient.discovery import build\n",
        "from langdetect import detect, detect_langs\n",
        "import pandas as pd\n",
        "from collections import Counter\n",
        "import re\n",
        "\n",
        "# ========== CARGAR VARIABLES DE ENTORNO ==========\n",
        "load_dotenv()  # Carga el archivo .env\n",
        "API_KEY = os.getenv('YOUTUBE_API_KEY')\n",
        "VIDEO_ID = os.getenv('VIDEO_ID', 'UEqTIwRrWvA')  # Valor por defecto\n",
        "\n",
        "if not API_KEY:\n",
        "    raise ValueError(\"❌ No se encontró YOUTUBE_API_KEY en el archivo .env\")\n",
        "\n",
        "print(f\"✅ API Key cargada correctamente\")\n",
        "print(f\"📹 Video ID: {VIDEO_ID}\")\n",
        "\n",
        "# ========== FUNCIÓN PARA DESCARGAR COMENTARIOS ==========\n",
        "def get_video_comments(video_id, api_key, max_results=100):\n",
        "    \"\"\"Descarga comentarios de un video de YouTube\"\"\"\n",
        "    youtube = build('youtube', 'v3', developerKey=api_key)\n",
        "    comments = []\n",
        "\n",
        "    try:\n",
        "        request = youtube.commentThreads().list(\n",
        "            part='snippet',\n",
        "            videoId=video_id,\n",
        "            maxResults=100,\n",
        "            textFormat='plainText'\n",
        "        )\n",
        "\n",
        "        while request and len(comments) < max_results:\n",
        "            response = request.execute()\n",
        "\n",
        "            for item in response['items']:\n",
        "                comment = item['snippet']['topLevelComment']['snippet']\n",
        "                comments.append({\n",
        "                    'autor': comment['authorDisplayName'],\n",
        "                    'texto': comment['textDisplay'],\n",
        "                    'likes': comment['likeCount'],\n",
        "                    'fecha': comment['publishedAt']\n",
        "                })\n",
        "\n",
        "            # Siguiente página\n",
        "            request = youtube.commentThreads().list_next(request, response)\n",
        "\n",
        "    except Exception as e:\n",
        "        print(f\"❌ Error al descargar comentarios: {e}\")\n",
        "        return []\n",
        "\n",
        "    return comments\n",
        "\n",
        "# ========== DETECTAR IDIOMA ==========\n",
        "def detect_language(text):\n",
        "    \"\"\"Detecta el idioma de un texto\"\"\"\n",
        "    try:\n",
        "        return detect(text)\n",
        "    except:\n",
        "        return 'desconocido'\n",
        "\n",
        "# ========== BUSCAR MENCIONES DE PAÍSES ==========\n",
        "def find_country_mentions(text):\n",
        "    \"\"\"Busca menciones de países en el texto\"\"\"\n",
        "    paises = {\n",
        "        'argentina': ['argentina', 'arg', 'buenos aires', '🇦🇷'],\n",
        "        'mexico': ['mexico', 'méxico', 'mex', '🇲🇽'],\n",
        "        'españa': ['españa', 'spain', 'esp', '🇪🇸'],\n",
        "        'colombia': ['colombia', 'col', '🇨🇴'],\n",
        "        'chile': ['chile', 'chi', '🇨🇱'],\n",
        "        'peru': ['peru', 'perú', '🇵🇪'],\n",
        "        'venezuela': ['venezuela', 've', '🇻🇪'],\n",
        "        'ecuador': ['ecuador', 'ecu', '🇪🇨'],\n",
        "        'uruguay': ['uruguay', 'uru', '🇺🇾'],\n",
        "        'bolivia': ['bolivia', 'bol', '🇧🇴'],\n",
        "        'paraguay': ['paraguay', 'par', '🇵🇾'],\n",
        "        'usa': ['usa', 'united states', 'estados unidos', 'eeuu', '🇺🇸'],\n",
        "        'brasil': ['brasil', 'brazil', 'bra', '🇧🇷'],\n",
        "        'costa rica': ['costa rica', '🇨🇷'],\n",
        "        'panama': ['panama', 'panamá', '🇵🇦'],\n",
        "        'guatemala': ['guatemala', '🇬🇹'],\n",
        "        'cuba': ['cuba', '🇨🇺'],\n",
        "        'republica dominicana': ['dominicana', 'republica dominicana', '🇩🇴'],\n",
        "        'puerto rico': ['puerto rico', '🇵🇷'],\n",
        "        'el salvador': ['el salvador', '🇸🇻'],\n",
        "        'honduras': ['honduras', '🇭🇳'],\n",
        "        'nicaragua': ['nicaragua', '🇳🇮'],\n",
        "    }\n",
        "\n",
        "    text_lower = text.lower()\n",
        "    paises_encontrados = []\n",
        "\n",
        "    for pais, keywords in paises.items():\n",
        "        for keyword in keywords:\n",
        "            if keyword in text_lower:\n",
        "                paises_encontrados.append(pais)\n",
        "                break\n",
        "\n",
        "    return paises_encontrados\n",
        "\n",
        "# ========== ANÁLISIS PRINCIPAL ==========\n",
        "def analyze_comments(comments):\n",
        "    \"\"\"Analiza idiomas y países mencionados en los comentarios\"\"\"\n",
        "\n",
        "    idiomas = []\n",
        "    paises_mencionados = []\n",
        "    paises_inferidos = []  # Para trackear países inferidos\n",
        "\n",
        "    print(f\"\\n🔄 Analizando {len(comments)} comentarios...\")\n",
        "\n",
        "    for i, comment in enumerate(comments, 1):\n",
        "        if i % 50 == 0:\n",
        "            print(f\"  Procesados: {i}/{len(comments)}\")\n",
        "\n",
        "        texto = comment['texto']\n",
        "\n",
        "        # Detectar idioma\n",
        "        idioma = detect_language(texto)\n",
        "        idiomas.append(idioma)\n",
        "        comment['idioma'] = idioma\n",
        "\n",
        "        # Buscar países mencionados explícitamente\n",
        "        paises = find_country_mentions(texto)\n",
        "\n",
        "        # REGLA ESPECIAL: Si no menciona país y NO es portugués → Chile\n",
        "        if not paises and idioma != 'pt':\n",
        "            paises = ['chile']\n",
        "            comment['pais_inferido'] = True\n",
        "            paises_inferidos.append('chile')\n",
        "        else:\n",
        "            comment['pais_inferido'] = False\n",
        "\n",
        "        paises_mencionados.extend(paises)\n",
        "        comment['paises_mencionados'] = ', '.join(paises) if paises else ''\n",
        "\n",
        "    # Contar idiomas y países\n",
        "    contador_idiomas = Counter(idiomas)\n",
        "    contador_paises = Counter(paises_mencionados)\n",
        "    contador_inferidos = Counter(paises_inferidos)\n",
        "\n",
        "    return contador_idiomas, contador_paises, comments, contador_inferidos\n",
        "\n",
        "# ========== VISUALIZAR RESULTADOS ==========\n",
        "def mostrar_resultados(idiomas, paises, comentarios, paises_inferidos):\n",
        "    \"\"\"Muestra los resultados del análisis\"\"\"\n",
        "\n",
        "    print(\"\\n\" + \"=\"*60)\n",
        "    print(\"📊 RESULTADOS DEL ANÁLISIS\")\n",
        "    print(\"=\"*60)\n",
        "\n",
        "    print(f\"\\n🔢 Total de comentarios analizados: {len(comentarios)}\")\n",
        "\n",
        "    print(\"\\n🌐 IDIOMAS DETECTADOS:\")\n",
        "    print(\"-\" * 40)\n",
        "    for idioma, cantidad in idiomas.most_common(15):\n",
        "        porcentaje = (cantidad / len(comentarios)) * 100\n",
        "        barra = \"█\" * int(porcentaje / 2)\n",
        "        print(f\"  {idioma:12} │ {cantidad:4} │ {porcentaje:5.1f}% │ {barra}\")\n",
        "\n",
        "    if paises:\n",
        "        print(\"\\n🌍 PAÍSES IDENTIFICADOS:\")\n",
        "        print(\"-\" * 40)\n",
        "        for pais, cantidad in paises.most_common(15):\n",
        "            barra = \"█\" * (cantidad if cantidad < 20 else 20)\n",
        "            # Indicar si hay inferencias de Chile\n",
        "            if pais == 'chile' and paises_inferidos.get('chile', 0) > 0:\n",
        "                inferidos = paises_inferidos['chile']\n",
        "                explicitos = cantidad - inferidos\n",
        "                print(f\"  {pais:20} │ {cantidad:3} total │ {barra}\")\n",
        "                print(f\"    ↳ {explicitos} explícitos, {inferidos} inferidos (no-pt sin país)\")\n",
        "            else:\n",
        "                print(f\"  {pais:20} │ {cantidad:3} menciones │ {barra}\")\n",
        "    else:\n",
        "        print(\"\\n🌍 No se encontraron menciones de países en los comentarios\")\n",
        "\n",
        "    print(\"\\n\" + \"=\"*60)\n",
        "\n",
        "# ========== EJECUTAR ANÁLISIS ==========\n",
        "def main():\n",
        "    \"\"\"Función principal\"\"\"\n",
        "\n",
        "    print(\"\\n🚀 INICIANDO ANÁLISIS DE COMENTARIOS DE YOUTUBE\")\n",
        "    print(\"=\"*60)\n",
        "\n",
        "    # Descargar comentarios\n",
        "    print(f\"\\n📥 Descargando comentarios del video: {VIDEO_ID}\")\n",
        "    comentarios = get_video_comments(VIDEO_ID, API_KEY, max_results=1000)\n",
        "\n",
        "    if not comentarios:\n",
        "        print(\"❌ No se pudieron descargar comentarios. Verifica tu API key y el ID del video.\")\n",
        "        return\n",
        "\n",
        "    print(f\"✅ {len(comentarios)} comentarios descargados exitosamente\")\n",
        "\n",
        "    # Analizar comentarios\n",
        "    idiomas, paises, comentarios_analizados, paises_inferidos = analyze_comments(comentarios)\n",
        "\n",
        "    # Mostrar resultados\n",
        "    mostrar_resultados(idiomas, paises, comentarios_analizados, paises_inferidos)\n",
        "\n",
        "    # Guardar en CSV\n",
        "    df = pd.DataFrame(comentarios_analizados)\n",
        "    df.to_csv('comentarios_youtube_analisis.csv', index=False, encoding='utf-8')\n",
        "    print(f\"\\n💾 Datos guardados en: comentarios_youtube_analisis.csv\")\n",
        "\n",
        "    # Estadísticas adicionales\n",
        "    comentarios_con_paises = sum(1 for c in comentarios_analizados if c['paises_mencionados'])\n",
        "\n",
        "    print(f\"\\n📈 ESTADÍSTICAS ADICIONALES:\")\n",
        "    print(f\"  • Comentarios con países mencionados: {comentarios_con_paises} ({comentarios_con_paises/len(comentarios)*100:.1f}%)\")\n",
        "    print(f\"  • Comentarios inferidos como Chile: {paises_inferidos.get('chile', 0)}\")\n",
        "    print(f\"  • Idiomas únicos detectados: {len(idiomas)}\")\n",
        "    print(f\"  • Países únicos mencionados: {len(paises)}\")\n",
        "\n",
        "    return df\n",
        "\n",
        "# Ejecutar\n",
        "if __name__ == \"__main__\":\n",
        "    df = main()\n",
        "\n",
        "\n",
        "# ========== INSTRUCCIONES PARA GOOGLE COLAB ==========\n",
        "\"\"\"\n",
        "📝 CÓMO USAR EN GOOGLE COLAB:\n",
        "\n",
        "1️⃣ INSTALAR DEPENDENCIAS (Primera celda):\n",
        "   !pip install google-api-python-client langdetect pandas python-dotenv\n",
        "\n",
        "2️⃣ CREAR ARCHIVO .env (Segunda celda):\n",
        "   %%writefile .env\n",
        "   YOUTUBE_API_KEY=tu_api_key_aqui\n",
        "   VIDEO_ID=UEqTIwRrWvA\n",
        "\n",
        "3️⃣ COPIAR Y EJECUTAR ESTE SCRIPT (Tercera celda)\n",
        "\n",
        "4️⃣ DESCARGAR RESULTADOS:\n",
        "   from google.colab import files\n",
        "   files.download('comentarios_youtube_analisis.csv')\n",
        "\n",
        "🔑 OBTENER TU API KEY:\n",
        "1. Ve a: https://console.cloud.google.com/\n",
        "2. Crea un nuevo proyecto\n",
        "3. Habilita \"YouTube Data API v3\"\n",
        "4. Credenciales → Crear credenciales → Clave de API\n",
        "5. Copia tu API key\n",
        "\n",
        "⚠️ LÍMITES GRATUITOS:\n",
        "- 10,000 unidades/día\n",
        "- Leer comentarios: ~1 unidad por cada 100 comentarios\n",
        "\"\"\""
      ],
      "metadata": {
        "colab": {
          "base_uri": "https://localhost:8080/",
          "height": 1000
        },
        "id": "VvtmR7G7lf0M",
        "outputId": "7596eab1-761b-4340-9d6a-5ce5977f428c"
      },
      "execution_count": 12,
      "outputs": [
        {
          "output_type": "stream",
          "name": "stdout",
          "text": [
            "✅ API Key cargada correctamente\n",
            "📹 Video ID: UEqTIwRrWvA\n",
            "\n",
            "🚀 INICIANDO ANÁLISIS DE COMENTARIOS DE YOUTUBE\n",
            "============================================================\n",
            "\n",
            "📥 Descargando comentarios del video: UEqTIwRrWvA\n",
            "✅ 1000 comentarios descargados exitosamente\n",
            "\n",
            "🔄 Analizando 1000 comentarios...\n",
            "  Procesados: 50/1000\n",
            "  Procesados: 100/1000\n",
            "  Procesados: 150/1000\n",
            "  Procesados: 200/1000\n",
            "  Procesados: 250/1000\n",
            "  Procesados: 300/1000\n",
            "  Procesados: 350/1000\n",
            "  Procesados: 400/1000\n",
            "  Procesados: 450/1000\n",
            "  Procesados: 500/1000\n",
            "  Procesados: 550/1000\n",
            "  Procesados: 600/1000\n",
            "  Procesados: 650/1000\n",
            "  Procesados: 700/1000\n",
            "  Procesados: 750/1000\n",
            "  Procesados: 800/1000\n",
            "  Procesados: 850/1000\n",
            "  Procesados: 900/1000\n",
            "  Procesados: 950/1000\n",
            "  Procesados: 1000/1000\n",
            "\n",
            "============================================================\n",
            "📊 RESULTADOS DEL ANÁLISIS\n",
            "============================================================\n",
            "\n",
            "🔢 Total de comentarios analizados: 1000\n",
            "\n",
            "🌐 IDIOMAS DETECTADOS:\n",
            "----------------------------------------\n",
            "  es           │  668 │  66.8% │ █████████████████████████████████\n",
            "  desconocido  │   96 │   9.6% │ ████\n",
            "  pt           │   57 │   5.7% │ ██\n",
            "  it           │   35 │   3.5% │ █\n",
            "  en           │   32 │   3.2% │ █\n",
            "  so           │   17 │   1.7% │ \n",
            "  ca           │   14 │   1.4% │ \n",
            "  de           │   14 │   1.4% │ \n",
            "  sl           │    8 │   0.8% │ \n",
            "  tl           │    7 │   0.7% │ \n",
            "  et           │    6 │   0.6% │ \n",
            "  ro           │    5 │   0.5% │ \n",
            "  fr           │    5 │   0.5% │ \n",
            "  vi           │    4 │   0.4% │ \n",
            "  lt           │    4 │   0.4% │ \n",
            "\n",
            "🌍 PAÍSES IDENTIFICADOS:\n",
            "----------------------------------------\n",
            "  chile                │ 704 total │ ████████████████████\n",
            "    ↳ 97 explícitos, 607 inferidos (no-pt sin país)\n",
            "  venezuela            │ 145 menciones │ ████████████████████\n",
            "  paraguay             │ 101 menciones │ ████████████████████\n",
            "  españa               │  52 menciones │ ████████████████████\n",
            "  brasil               │  30 menciones │ ████████████████████\n",
            "  ecuador              │  22 menciones │ ████████████████████\n",
            "  mexico               │  15 menciones │ ███████████████\n",
            "  argentina            │   9 menciones │ █████████\n",
            "  colombia             │   8 menciones │ ████████\n",
            "  bolivia              │   4 menciones │ ████\n",
            "  usa                  │   3 menciones │ ███\n",
            "  peru                 │   1 menciones │ █\n",
            "  uruguay              │   1 menciones │ █\n",
            "  panama               │   1 menciones │ █\n",
            "\n",
            "============================================================\n",
            "\n",
            "💾 Datos guardados en: comentarios_youtube_analisis.csv\n",
            "\n",
            "📈 ESTADÍSTICAS ADICIONALES:\n",
            "  • Comentarios con países mencionados: 953 (95.3%)\n",
            "  • Comentarios inferidos como Chile: 607\n",
            "  • Idiomas únicos detectados: 29\n",
            "  • Países únicos mencionados: 14\n"
          ]
        },
        {
          "output_type": "execute_result",
          "data": {
            "text/plain": [
              "'\\n📝 CÓMO USAR EN GOOGLE COLAB:\\n\\n1️⃣ INSTALAR DEPENDENCIAS (Primera celda):\\n   !pip install google-api-python-client langdetect pandas python-dotenv\\n\\n2️⃣ CREAR ARCHIVO .env (Segunda celda):\\n   %%writefile .env\\n   YOUTUBE_API_KEY=tu_api_key_aqui\\n   VIDEO_ID=UEqTIwRrWvA\\n\\n3️⃣ COPIAR Y EJECUTAR ESTE SCRIPT (Tercera celda)\\n\\n4️⃣ DESCARGAR RESULTADOS:\\n   from google.colab import files\\n   files.download(\\'comentarios_youtube_analisis.csv\\')\\n\\n🔑 OBTENER TU API KEY:\\n1. Ve a: https://console.cloud.google.com/\\n2. Crea un nuevo proyecto\\n3. Habilita \"YouTube Data API v3\"\\n4. Credenciales → Crear credenciales → Clave de API\\n5. Copia tu API key\\n\\n⚠️ LÍMITES GRATUITOS:\\n- 10,000 unidades/día\\n- Leer comentarios: ~1 unidad por cada 100 comentarios\\n'"
            ],
            "application/vnd.google.colaboratory.intrinsic+json": {
              "type": "string"
            }
          },
          "metadata": {},
          "execution_count": 12
        }
      ]
    },
    {
      "cell_type": "code",
      "source": [
        "# Import the necessary classes.\n",
        "from tensorflow.keras.models import Sequential                              # We will use the Sequential API.\n",
        "from tensorflow.keras.layers import Dense, LSTM, Embedding"
      ],
      "metadata": {
        "id": "CMnKjvA8sl8t"
      },
      "execution_count": 13,
      "outputs": []
    },
    {
      "cell_type": "code",
      "source": [
        "n_words = 128\n",
        "n_input = 32\n",
        "n_neurons=64\n",
        "\n",
        "# Build a model by adding the layers.\n",
        "my_model = Sequential()\n",
        "my_model.add(Embedding(n_words, n_input))\n",
        "my_model.add(LSTM(units=n_neurons, return_sequences=False, input_shape=(None, n_input), activation='tanh'))\n",
        "my_model.add(Dense(1, activation='sigmoid'))"
      ],
      "metadata": {
        "colab": {
          "base_uri": "https://localhost:8080/"
        },
        "id": "t47xGfxWsqKj",
        "outputId": "a55dbdb7-081d-4e0b-b155-9acab1e930a0"
      },
      "execution_count": 14,
      "outputs": [
        {
          "output_type": "stream",
          "name": "stderr",
          "text": [
            "/usr/local/lib/python3.12/dist-packages/keras/src/layers/rnn/rnn.py:199: UserWarning: Do not pass an `input_shape`/`input_dim` argument to a layer. When using Sequential models, prefer using an `Input(shape)` object as the first layer in the model instead.\n",
            "  super().__init__(**kwargs)\n"
          ]
        }
      ]
    },
    {
      "cell_type": "code",
      "source": [
        "# Import the necessary classes.\n",
        "from tensorflow.keras.models import Sequential                                                                # We will use the Sequential API.\n",
        "from tensorflow.keras.layers import Dense, LSTM, Embedding, Conv1D, MaxPool1D, Dropout"
      ],
      "metadata": {
        "id": "m4ZFla4Hs7Ns"
      },
      "execution_count": 15,
      "outputs": []
    },
    {
      "cell_type": "code",
      "source": [
        "n_filters=32\n",
        "k_size=3\n",
        "stride_size=1\n",
        "hold_prob=0.5\n",
        "\n",
        "# Build a model by adding the layers.\n",
        "my_model = Sequential()\n",
        "my_model.add(Embedding(n_words, n_input))                           # Embedding layer.\n",
        "my_model.add(Conv1D(filters=n_filters, kernel_size = k_size, strides=stride_size, padding='valid',activation='relu'))\n",
        "my_model.add(MaxPool1D(pool_size = 2))\n",
        "my_model.add(LSTM(units=n_neurons, return_sequences=False, input_shape=(None, n_input), activation='tanh'))\n",
        "my_model.add(Dropout(rate=hold_prob))\n",
        "my_model.add(Dense(1, activation='sigmoid'))"
      ],
      "metadata": {
        "id": "3BWt1ii9tfSV"
      },
      "execution_count": 16,
      "outputs": []
    },
    {
      "cell_type": "code",
      "source": [
        "import pandas as pd\n",
        "import numpy as np\n",
        "import warnings\n",
        "import matplotlib.pyplot as plt\n",
        "from sklearn.model_selection import train_test_split\n",
        "from tensorflow.keras.datasets.reuters import load_data, get_word_index       # Reuters news data.\n",
        "from tensorflow.keras.models import Sequential\n",
        "from tensorflow.keras.layers import Dense, SimpleRNN, LSTM, Embedding\n",
        "from tensorflow.keras.utils import to_categorical\n",
        "from tensorflow.keras.preprocessing import sequence\n",
        "from tensorflow.keras.optimizers import Adam, RMSprop, SGD\n",
        "warnings.filterwarnings('ignore')                  # Turn the warnings off.\n",
        "%matplotlib inline"
      ],
      "metadata": {
        "id": "Na469_2vux91"
      },
      "execution_count": 1,
      "outputs": []
    },
    {
      "cell_type": "code",
      "source": [
        "n_words = 1000                                        # Size of the vocabulary.\n",
        "(X_train, y_train), (X_test, y_test) = load_data(num_words = n_words, test_split = 0.3)\n",
        "n_train_size = X_train.shape[0]"
      ],
      "metadata": {
        "colab": {
          "base_uri": "https://localhost:8080/"
        },
        "id": "2Limb2jIu0TF",
        "outputId": "b286b42d-cea9-4043-bc58-921a03a8ff53"
      },
      "execution_count": 2,
      "outputs": [
        {
          "output_type": "stream",
          "name": "stdout",
          "text": [
            "Downloading data from https://storage.googleapis.com/tensorflow/tf-keras-datasets/reuters.npz\n",
            "\u001b[1m2110848/2110848\u001b[0m \u001b[32m━━━━━━━━━━━━━━━━━━━━\u001b[0m\u001b[37m\u001b[0m \u001b[1m1s\u001b[0m 1us/step\n"
          ]
        }
      ]
    },
    {
      "cell_type": "code",
      "source": [
        "y_train[1]"
      ],
      "metadata": {
        "colab": {
          "base_uri": "https://localhost:8080/"
        },
        "id": "J9QYQuQExDrs",
        "outputId": "7a1e5439-5369-45dd-f080-a62f4de1aea3"
      },
      "execution_count": 20,
      "outputs": [
        {
          "output_type": "execute_result",
          "data": {
            "text/plain": [
              "array([0., 0., 0., 0., 1., 0., 0., 0., 0., 0., 0., 0., 0., 0., 0., 0., 0.,\n",
              "       0., 0., 0., 0., 0., 0., 0., 0., 0., 0., 0., 0., 0., 0., 0., 0., 0.,\n",
              "       0., 0., 0., 0., 0., 0., 0., 0., 0., 0., 0., 0.])"
            ]
          },
          "metadata": {},
          "execution_count": 20
        }
      ]
    },
    {
      "cell_type": "code",
      "source": [
        "# Check for the shapes.\n",
        "print(\"-\"*50)\n",
        "print(\"Training data X shape: {}\".format(X_train.shape))\n",
        "print(\"Training data y shape: {}\".format(y_train.shape))\n",
        "print(\"-\"*50)\n",
        "print(\"Test data X shape: {}\".format(X_test.shape))\n",
        "print(\"Test data y shape: {}\".format(y_test.shape))\n",
        "print(\"-\"*50)"
      ],
      "metadata": {
        "colab": {
          "base_uri": "https://localhost:8080/"
        },
        "id": "arSMktlNu2_a",
        "outputId": "92f61851-7384-43d5-8343-6f230627fc48"
      },
      "execution_count": 3,
      "outputs": [
        {
          "output_type": "stream",
          "name": "stdout",
          "text": [
            "--------------------------------------------------\n",
            "Training data X shape: (7859,)\n",
            "Training data y shape: (7859,)\n",
            "--------------------------------------------------\n",
            "Test data X shape: (3369,)\n",
            "Test data y shape: (3369,)\n",
            "--------------------------------------------------\n"
          ]
        }
      ]
    },
    {
      "cell_type": "code",
      "source": [
        "# Number of unique values of y = Number of categories of the newswires.\n",
        "n_cat = pd.Series(y_train).nunique()\n",
        "n_cat"
      ],
      "metadata": {
        "colab": {
          "base_uri": "https://localhost:8080/"
        },
        "id": "Wu-7rKvRu8vU",
        "outputId": "e9630c3d-e8c4-4a61-ce5a-eb870cbd52a5"
      },
      "execution_count": 4,
      "outputs": [
        {
          "output_type": "execute_result",
          "data": {
            "text/plain": [
              "46"
            ]
          },
          "metadata": {},
          "execution_count": 4
        }
      ]
    },
    {
      "cell_type": "code",
      "source": [
        "# Print out an observation (document) contained in X.\n",
        "# It is encoded as integers (indices).\n",
        "print(X_train[0])"
      ],
      "metadata": {
        "colab": {
          "base_uri": "https://localhost:8080/"
        },
        "id": "zH9dgLX5vC6b",
        "outputId": "87836074-0445-4e82-f5aa-7088a3c8258a"
      },
      "execution_count": 5,
      "outputs": [
        {
          "output_type": "stream",
          "name": "stdout",
          "text": [
            "[1, 2, 2, 8, 43, 10, 447, 5, 25, 207, 270, 5, 2, 111, 16, 369, 186, 90, 67, 7, 89, 5, 19, 102, 6, 19, 124, 15, 90, 67, 84, 22, 482, 26, 7, 48, 4, 49, 8, 864, 39, 209, 154, 6, 151, 6, 83, 11, 15, 22, 155, 11, 15, 7, 48, 9, 2, 2, 504, 6, 258, 6, 272, 11, 15, 22, 134, 44, 11, 15, 16, 8, 197, 2, 90, 67, 52, 29, 209, 30, 32, 132, 6, 109, 15, 17, 12]\n"
          ]
        }
      ]
    },
    {
      "cell_type": "code",
      "source": [
        "# Let's check for length of the first 100 documents.\n",
        "# We notice that the length is not uniform.\n",
        "print([len(a) for a in X_train[0:100]])"
      ],
      "metadata": {
        "colab": {
          "base_uri": "https://localhost:8080/"
        },
        "id": "jQbpN06tvTZa",
        "outputId": "e6eed6b8-37b9-430a-c458-5e95d8e96421"
      },
      "execution_count": 6,
      "outputs": [
        {
          "output_type": "stream",
          "name": "stdout",
          "text": [
            "[87, 56, 139, 224, 101, 116, 100, 100, 82, 106, 31, 59, 65, 316, 527, 76, 114, 17, 91, 77, 231, 108, 83, 29, 95, 110, 23, 373, 114, 354, 133, 222, 571, 155, 83, 208, 170, 269, 74, 19, 23, 78, 21, 377, 104, 299, 89, 56, 94, 139, 118, 36, 137, 107, 83, 66, 70, 112, 88, 51, 83, 123, 17, 185, 84, 52, 102, 73, 106, 486, 107, 82, 263, 172, 491, 190, 143, 62, 26, 88, 114, 38, 85, 112, 793, 104, 25, 21, 101, 28, 25, 81, 135, 73, 62, 18, 90, 266, 91, 64]\n"
          ]
        }
      ]
    },
    {
      "cell_type": "code",
      "source": [
        "# Download the dictionary to translate the indices.\n",
        "my_dict = get_word_index(path='reuters_word_index.json')"
      ],
      "metadata": {
        "colab": {
          "base_uri": "https://localhost:8080/"
        },
        "id": "CHzdKPnovZCA",
        "outputId": "2db1aaa7-635d-4455-cbae-d8ca52a3a5b2"
      },
      "execution_count": 7,
      "outputs": [
        {
          "output_type": "stream",
          "name": "stdout",
          "text": [
            "Downloading data from https://storage.googleapis.com/tensorflow/tf-keras-datasets/reuters_word_index.json\n",
            "\u001b[1m550378/550378\u001b[0m \u001b[32m━━━━━━━━━━━━━━━━━━━━\u001b[0m\u001b[37m\u001b[0m \u001b[1m1s\u001b[0m 2us/step\n"
          ]
        }
      ]
    },
    {
      "cell_type": "code",
      "source": [
        "# To view the dictionary.\n",
        "my_dict"
      ],
      "metadata": {
        "id": "odxDQJyQv3Fe"
      },
      "execution_count": null,
      "outputs": []
    },
    {
      "cell_type": "code",
      "source": [
        "# Exchange the 'key' and 'value'.\n",
        "my_dict_inv = {v:k for k,v in my_dict.items()}"
      ],
      "metadata": {
        "id": "E3S1nBOnv7nl"
      },
      "execution_count": 9,
      "outputs": []
    },
    {
      "cell_type": "code",
      "source": [
        "# Translate each document.\n",
        "i_news = 10                                        # Document number that can be changed at will.\n",
        "news = list(pd.Series(X_train[i_news]).apply(lambda x: my_dict_inv[x]))\n",
        "print(' '.join(news))"
      ],
      "metadata": {
        "colab": {
          "base_uri": "https://localhost:8080/"
        },
        "id": "RYeq3WyAwGui",
        "outputId": "c380247d-9877-45db-82d9-0c36cbba699f"
      },
      "execution_count": 10,
      "outputs": [
        {
          "output_type": "stream",
          "name": "stdout",
          "text": [
            "the federal gain only growth lt they meeting year reuter company did year an they of of reuter company of of 1987 had of of reuter had profits of pct dlrs\n"
          ]
        }
      ]
    },
    {
      "cell_type": "code",
      "source": [
        "print(X_train[10])"
      ],
      "metadata": {
        "colab": {
          "base_uri": "https://localhost:8080/"
        },
        "id": "jcqbhKI0wRSm",
        "outputId": "ecd1a3e1-a581-4d46-815e-727e33055a1a"
      },
      "execution_count": 11,
      "outputs": [
        {
          "output_type": "stream",
          "name": "stdout",
          "text": [
            "[1, 245, 273, 207, 156, 53, 74, 160, 26, 14, 46, 296, 26, 39, 74, 2, 2, 14, 46, 2, 2, 86, 61, 2, 2, 14, 61, 451, 2, 17, 12]\n"
          ]
        }
      ]
    },
    {
      "cell_type": "code",
      "source": [
        "# Padding: newswire lengths are uniformly matched to maxlen.\n",
        "# Cut away if longer than maxlen and fill with 0s if shorter than maxlen.\n",
        "X_train = sequence.pad_sequences(X_train, maxlen = 100)\n",
        "X_test = sequence.pad_sequences(X_test, maxlen = 100)"
      ],
      "metadata": {
        "id": "Jccf-F3ZwYmL"
      },
      "execution_count": 12,
      "outputs": []
    },
    {
      "cell_type": "code",
      "source": [
        "# Apply one-hot-encoding to the y variable.\n",
        "y = np.concatenate([y_train,y_test],axis=0)\n",
        "y = to_categorical(y,46)\n",
        "y_train = y[:n_train_size,:]\n",
        "y_test = y[n_train_size:,:]"
      ],
      "metadata": {
        "id": "lrPv5jiYwcqt"
      },
      "execution_count": 13,
      "outputs": []
    },
    {
      "cell_type": "code",
      "source": [
        "n_neurons = 100                   # Neurons within each memory cell.\n",
        "n_input = 100                     # Dimension of the embeding space."
      ],
      "metadata": {
        "id": "4sZIGJC5wgCq"
      },
      "execution_count": 14,
      "outputs": []
    },
    {
      "cell_type": "code",
      "source": [
        "# LSTM network model.\n",
        "my_model = Sequential()\n",
        "my_model.add(Embedding(n_words, n_input))           # n_words = vocabulary size, n_input = dimension of the embedding space.\n",
        "my_model.add(LSTM(units=n_neurons, return_sequences=False, input_shape=(None, n_input), activation='tanh'))\n",
        "my_model.add(Dense(n_cat, activation='softmax'))"
      ],
      "metadata": {
        "id": "tyw0XSUawhEV"
      },
      "execution_count": 15,
      "outputs": []
    },
    {
      "cell_type": "code",
      "source": [
        "# View the summary.\n",
        "my_model.summary()"
      ],
      "metadata": {
        "colab": {
          "base_uri": "https://localhost:8080/",
          "height": 232
        },
        "id": "TipwORYLwur9",
        "outputId": "6853c38f-4634-40b5-d801-47dccbfc9650"
      },
      "execution_count": 16,
      "outputs": [
        {
          "output_type": "display_data",
          "data": {
            "text/plain": [
              "\u001b[1mModel: \"sequential\"\u001b[0m\n"
            ],
            "text/html": [
              "<pre style=\"white-space:pre;overflow-x:auto;line-height:normal;font-family:Menlo,'DejaVu Sans Mono',consolas,'Courier New',monospace\"><span style=\"font-weight: bold\">Model: \"sequential\"</span>\n",
              "</pre>\n"
            ]
          },
          "metadata": {}
        },
        {
          "output_type": "display_data",
          "data": {
            "text/plain": [
              "┏━━━━━━━━━━━━━━━━━━━━━━━━━━━━━━━━━┳━━━━━━━━━━━━━━━━━━━━━━━━┳━━━━━━━━━━━━━━━┓\n",
              "┃\u001b[1m \u001b[0m\u001b[1mLayer (type)                   \u001b[0m\u001b[1m \u001b[0m┃\u001b[1m \u001b[0m\u001b[1mOutput Shape          \u001b[0m\u001b[1m \u001b[0m┃\u001b[1m \u001b[0m\u001b[1m      Param #\u001b[0m\u001b[1m \u001b[0m┃\n",
              "┡━━━━━━━━━━━━━━━━━━━━━━━━━━━━━━━━━╇━━━━━━━━━━━━━━━━━━━━━━━━╇━━━━━━━━━━━━━━━┩\n",
              "│ embedding (\u001b[38;5;33mEmbedding\u001b[0m)           │ ?                      │   \u001b[38;5;34m0\u001b[0m (unbuilt) │\n",
              "├─────────────────────────────────┼────────────────────────┼───────────────┤\n",
              "│ lstm (\u001b[38;5;33mLSTM\u001b[0m)                     │ ?                      │   \u001b[38;5;34m0\u001b[0m (unbuilt) │\n",
              "├─────────────────────────────────┼────────────────────────┼───────────────┤\n",
              "│ dense (\u001b[38;5;33mDense\u001b[0m)                   │ ?                      │   \u001b[38;5;34m0\u001b[0m (unbuilt) │\n",
              "└─────────────────────────────────┴────────────────────────┴───────────────┘\n"
            ],
            "text/html": [
              "<pre style=\"white-space:pre;overflow-x:auto;line-height:normal;font-family:Menlo,'DejaVu Sans Mono',consolas,'Courier New',monospace\">┏━━━━━━━━━━━━━━━━━━━━━━━━━━━━━━━━━┳━━━━━━━━━━━━━━━━━━━━━━━━┳━━━━━━━━━━━━━━━┓\n",
              "┃<span style=\"font-weight: bold\"> Layer (type)                    </span>┃<span style=\"font-weight: bold\"> Output Shape           </span>┃<span style=\"font-weight: bold\">       Param # </span>┃\n",
              "┡━━━━━━━━━━━━━━━━━━━━━━━━━━━━━━━━━╇━━━━━━━━━━━━━━━━━━━━━━━━╇━━━━━━━━━━━━━━━┩\n",
              "│ embedding (<span style=\"color: #0087ff; text-decoration-color: #0087ff\">Embedding</span>)           │ ?                      │   <span style=\"color: #00af00; text-decoration-color: #00af00\">0</span> (unbuilt) │\n",
              "├─────────────────────────────────┼────────────────────────┼───────────────┤\n",
              "│ lstm (<span style=\"color: #0087ff; text-decoration-color: #0087ff\">LSTM</span>)                     │ ?                      │   <span style=\"color: #00af00; text-decoration-color: #00af00\">0</span> (unbuilt) │\n",
              "├─────────────────────────────────┼────────────────────────┼───────────────┤\n",
              "│ dense (<span style=\"color: #0087ff; text-decoration-color: #0087ff\">Dense</span>)                   │ ?                      │   <span style=\"color: #00af00; text-decoration-color: #00af00\">0</span> (unbuilt) │\n",
              "└─────────────────────────────────┴────────────────────────┴───────────────┘\n",
              "</pre>\n"
            ]
          },
          "metadata": {}
        },
        {
          "output_type": "display_data",
          "data": {
            "text/plain": [
              "\u001b[1m Total params: \u001b[0m\u001b[38;5;34m0\u001b[0m (0.00 B)\n"
            ],
            "text/html": [
              "<pre style=\"white-space:pre;overflow-x:auto;line-height:normal;font-family:Menlo,'DejaVu Sans Mono',consolas,'Courier New',monospace\"><span style=\"font-weight: bold\"> Total params: </span><span style=\"color: #00af00; text-decoration-color: #00af00\">0</span> (0.00 B)\n",
              "</pre>\n"
            ]
          },
          "metadata": {}
        },
        {
          "output_type": "display_data",
          "data": {
            "text/plain": [
              "\u001b[1m Trainable params: \u001b[0m\u001b[38;5;34m0\u001b[0m (0.00 B)\n"
            ],
            "text/html": [
              "<pre style=\"white-space:pre;overflow-x:auto;line-height:normal;font-family:Menlo,'DejaVu Sans Mono',consolas,'Courier New',monospace\"><span style=\"font-weight: bold\"> Trainable params: </span><span style=\"color: #00af00; text-decoration-color: #00af00\">0</span> (0.00 B)\n",
              "</pre>\n"
            ]
          },
          "metadata": {}
        },
        {
          "output_type": "display_data",
          "data": {
            "text/plain": [
              "\u001b[1m Non-trainable params: \u001b[0m\u001b[38;5;34m0\u001b[0m (0.00 B)\n"
            ],
            "text/html": [
              "<pre style=\"white-space:pre;overflow-x:auto;line-height:normal;font-family:Menlo,'DejaVu Sans Mono',consolas,'Courier New',monospace\"><span style=\"font-weight: bold\"> Non-trainable params: </span><span style=\"color: #00af00; text-decoration-color: #00af00\">0</span> (0.00 B)\n",
              "</pre>\n"
            ]
          },
          "metadata": {}
        }
      ]
    },
    {
      "cell_type": "code",
      "source": [
        "n_epochs = 20                      # Number of epochs.\n",
        "batch_size = 20                    # Size of each batch.\n",
        "learn_rate = 0.001                 # learning rate."
      ],
      "metadata": {
        "id": "vi-GPpfPwx2D"
      },
      "execution_count": 17,
      "outputs": []
    },
    {
      "cell_type": "code",
      "source": [
        "# Optimizer and compilation.\n",
        "my_optimizer=Adam(learning_rate=learn_rate)\n",
        "my_model.compile(loss = \"categorical_crossentropy\", optimizer = my_optimizer, metrics=[\"accuracy\"])"
      ],
      "metadata": {
        "id": "Iug3jycKwz9u"
      },
      "execution_count": 18,
      "outputs": []
    },
    {
      "cell_type": "code",
      "source": [
        "my_summary = my_model.fit(X_train, y_train, epochs=n_epochs, batch_size = batch_size, validation_split=0.2, verbose = 1)"
      ],
      "metadata": {
        "colab": {
          "base_uri": "https://localhost:8080/"
        },
        "id": "WyJy5sDMw4LR",
        "outputId": "6077b556-fd78-4cff-a4c8-b9bda0c85aa3"
      },
      "execution_count": 19,
      "outputs": [
        {
          "output_type": "stream",
          "name": "stdout",
          "text": [
            "Epoch 1/20\n",
            "\u001b[1m315/315\u001b[0m \u001b[32m━━━━━━━━━━━━━━━━━━━━\u001b[0m\u001b[37m\u001b[0m \u001b[1m9s\u001b[0m 13ms/step - accuracy: 0.3667 - loss: 2.5902 - val_accuracy: 0.5388 - val_loss: 1.8397\n",
            "Epoch 2/20\n",
            "\u001b[1m315/315\u001b[0m \u001b[32m━━━━━━━━━━━━━━━━━━━━\u001b[0m\u001b[37m\u001b[0m \u001b[1m6s\u001b[0m 9ms/step - accuracy: 0.5145 - loss: 1.8790 - val_accuracy: 0.5216 - val_loss: 1.7925\n",
            "Epoch 3/20\n",
            "\u001b[1m315/315\u001b[0m \u001b[32m━━━━━━━━━━━━━━━━━━━━\u001b[0m\u001b[37m\u001b[0m \u001b[1m3s\u001b[0m 8ms/step - accuracy: 0.5375 - loss: 1.8341 - val_accuracy: 0.5649 - val_loss: 1.6837\n",
            "Epoch 4/20\n",
            "\u001b[1m315/315\u001b[0m \u001b[32m━━━━━━━━━━━━━━━━━━━━\u001b[0m\u001b[37m\u001b[0m \u001b[1m6s\u001b[0m 10ms/step - accuracy: 0.5822 - loss: 1.6253 - val_accuracy: 0.5782 - val_loss: 1.6504\n",
            "Epoch 5/20\n",
            "\u001b[1m315/315\u001b[0m \u001b[32m━━━━━━━━━━━━━━━━━━━━\u001b[0m\u001b[37m\u001b[0m \u001b[1m3s\u001b[0m 8ms/step - accuracy: 0.6162 - loss: 1.4945 - val_accuracy: 0.6387 - val_loss: 1.4685\n",
            "Epoch 6/20\n",
            "\u001b[1m315/315\u001b[0m \u001b[32m━━━━━━━━━━━━━━━━━━━━\u001b[0m\u001b[37m\u001b[0m \u001b[1m3s\u001b[0m 8ms/step - accuracy: 0.6299 - loss: 1.4167 - val_accuracy: 0.6304 - val_loss: 1.4457\n",
            "Epoch 7/20\n",
            "\u001b[1m315/315\u001b[0m \u001b[32m━━━━━━━━━━━━━━━━━━━━\u001b[0m\u001b[37m\u001b[0m \u001b[1m3s\u001b[0m 8ms/step - accuracy: 0.6426 - loss: 1.3605 - val_accuracy: 0.6692 - val_loss: 1.3134\n",
            "Epoch 8/20\n",
            "\u001b[1m315/315\u001b[0m \u001b[32m━━━━━━━━━━━━━━━━━━━━\u001b[0m\u001b[37m\u001b[0m \u001b[1m3s\u001b[0m 10ms/step - accuracy: 0.6756 - loss: 1.2543 - val_accuracy: 0.6781 - val_loss: 1.2768\n",
            "Epoch 9/20\n",
            "\u001b[1m315/315\u001b[0m \u001b[32m━━━━━━━━━━━━━━━━━━━━\u001b[0m\u001b[37m\u001b[0m \u001b[1m4s\u001b[0m 8ms/step - accuracy: 0.7117 - loss: 1.0944 - val_accuracy: 0.6826 - val_loss: 1.2602\n",
            "Epoch 10/20\n",
            "\u001b[1m315/315\u001b[0m \u001b[32m━━━━━━━━━━━━━━━━━━━━\u001b[0m\u001b[37m\u001b[0m \u001b[1m3s\u001b[0m 8ms/step - accuracy: 0.7261 - loss: 1.0922 - val_accuracy: 0.6966 - val_loss: 1.2145\n",
            "Epoch 11/20\n",
            "\u001b[1m315/315\u001b[0m \u001b[32m━━━━━━━━━━━━━━━━━━━━\u001b[0m\u001b[37m\u001b[0m \u001b[1m3s\u001b[0m 10ms/step - accuracy: 0.7528 - loss: 0.9428 - val_accuracy: 0.7061 - val_loss: 1.2025\n",
            "Epoch 12/20\n",
            "\u001b[1m315/315\u001b[0m \u001b[32m━━━━━━━━━━━━━━━━━━━━\u001b[0m\u001b[37m\u001b[0m \u001b[1m3s\u001b[0m 10ms/step - accuracy: 0.7687 - loss: 0.9121 - val_accuracy: 0.7055 - val_loss: 1.2005\n",
            "Epoch 13/20\n",
            "\u001b[1m315/315\u001b[0m \u001b[32m━━━━━━━━━━━━━━━━━━━━\u001b[0m\u001b[37m\u001b[0m \u001b[1m4s\u001b[0m 11ms/step - accuracy: 0.7865 - loss: 0.8235 - val_accuracy: 0.6953 - val_loss: 1.2483\n",
            "Epoch 14/20\n",
            "\u001b[1m315/315\u001b[0m \u001b[32m━━━━━━━━━━━━━━━━━━━━\u001b[0m\u001b[37m\u001b[0m \u001b[1m5s\u001b[0m 17ms/step - accuracy: 0.8056 - loss: 0.7480 - val_accuracy: 0.6953 - val_loss: 1.2590\n",
            "Epoch 15/20\n",
            "\u001b[1m315/315\u001b[0m \u001b[32m━━━━━━━━━━━━━━━━━━━━\u001b[0m\u001b[37m\u001b[0m \u001b[1m4s\u001b[0m 12ms/step - accuracy: 0.8230 - loss: 0.7018 - val_accuracy: 0.7125 - val_loss: 1.2609\n",
            "Epoch 16/20\n",
            "\u001b[1m315/315\u001b[0m \u001b[32m━━━━━━━━━━━━━━━━━━━━\u001b[0m\u001b[37m\u001b[0m \u001b[1m3s\u001b[0m 8ms/step - accuracy: 0.8461 - loss: 0.6134 - val_accuracy: 0.7271 - val_loss: 1.2295\n",
            "Epoch 17/20\n",
            "\u001b[1m315/315\u001b[0m \u001b[32m━━━━━━━━━━━━━━━━━━━━\u001b[0m\u001b[37m\u001b[0m \u001b[1m3s\u001b[0m 8ms/step - accuracy: 0.8544 - loss: 0.5847 - val_accuracy: 0.7150 - val_loss: 1.3009\n",
            "Epoch 18/20\n",
            "\u001b[1m315/315\u001b[0m \u001b[32m━━━━━━━━━━━━━━━━━━━━\u001b[0m\u001b[37m\u001b[0m \u001b[1m3s\u001b[0m 10ms/step - accuracy: 0.8728 - loss: 0.5309 - val_accuracy: 0.7093 - val_loss: 1.3420\n",
            "Epoch 19/20\n",
            "\u001b[1m315/315\u001b[0m \u001b[32m━━━━━━━━━━━━━━━━━━━━\u001b[0m\u001b[37m\u001b[0m \u001b[1m3s\u001b[0m 9ms/step - accuracy: 0.8819 - loss: 0.4596 - val_accuracy: 0.7087 - val_loss: 1.3681\n",
            "Epoch 20/20\n",
            "\u001b[1m315/315\u001b[0m \u001b[32m━━━━━━━━━━━━━━━━━━━━\u001b[0m\u001b[37m\u001b[0m \u001b[1m3s\u001b[0m 8ms/step - accuracy: 0.8925 - loss: 0.4537 - val_accuracy: 0.7195 - val_loss: 1.3785\n"
          ]
        }
      ]
    },
    {
      "cell_type": "code",
      "source": [
        "plt.plot(my_summary.history['accuracy'], c=\"b\")\n",
        "plt.plot(my_summary.history['val_accuracy'], c=\"g\")\n",
        "plt.title('Training History')\n",
        "plt.ylabel('Accuracy')\n",
        "plt.xlabel('Epoch')\n",
        "plt.legend(['Train', 'Validation'], loc='lower right')\n",
        "plt.show()"
      ],
      "metadata": {
        "colab": {
          "base_uri": "https://localhost:8080/",
          "height": 472
        },
        "id": "bix8lEAyxRSG",
        "outputId": "3dad765a-448a-4090-e6fb-9208b7c2ed54"
      },
      "execution_count": 21,
      "outputs": [
        {
          "output_type": "display_data",
          "data": {
            "text/plain": [
              "<Figure size 640x480 with 1 Axes>"
            ],
            "image/png": "[encoded data removed]"
          },
          "metadata": {}
        }
      ]
    },
    {
      "cell_type": "code",
      "source": [
        "ACC = my_model.evaluate(X_test, y_test, verbose=0)[1]\n",
        "print(\"Test Accuracy : {}\".format(np.round(ACC,3)))"
      ],
      "metadata": {
        "colab": {
          "base_uri": "https://localhost:8080/"
        },
        "id": "5mLBRdoOxhcT",
        "outputId": "0a2c2ae7-9c97-4f52-b702-16af8a6c9b0a"
      },
      "execution_count": 22,
      "outputs": [
        {
          "output_type": "stream",
          "name": "stdout",
          "text": [
            "Test Accuracy : 0.7\n"
          ]
        }
      ]
    },
    {
      "cell_type": "code",
      "source": [
        "import pandas as pd\n",
        "import numpy as np\n",
        "import warnings\n",
        "import matplotlib.pyplot as plt\n",
        "from sklearn.model_selection import train_test_split\n",
        "from tensorflow.keras.datasets.imdb import load_data, get_word_index       # Movie review data.\n",
        "from tensorflow.keras.models import Sequential\n",
        "from tensorflow.keras.layers import Dense, SimpleRNN, LSTM, Embedding\n",
        "from tensorflow.keras.utils import to_categorical\n",
        "from tensorflow.keras.preprocessing import sequence\n",
        "from tensorflow.keras.optimizers import Adam, RMSprop, SGD\n",
        "warnings.filterwarnings('ignore')                              # Turn the warnings off.\n",
        "%matplotlib inline"
      ],
      "metadata": {
        "id": "oxrTcld3xlGI"
      },
      "execution_count": 23,
      "outputs": []
    },
    {
      "cell_type": "code",
      "source": [
        "n_words = 3000                                        # Size of the vocabulary.\n",
        "(X_train, y_train), (X_test, y_test) = load_data(num_words = n_words)\n",
        "n_train_size = X_train.shape[0]"
      ],
      "metadata": {
        "colab": {
          "base_uri": "https://localhost:8080/"
        },
        "id": "7BzcpIU8x1XA",
        "outputId": "c0a94ffd-765c-42ff-f49e-f630036f9e9a"
      },
      "execution_count": 24,
      "outputs": [
        {
          "output_type": "stream",
          "name": "stdout",
          "text": [
            "Downloading data from https://storage.googleapis.com/tensorflow/tf-keras-datasets/imdb.npz\n",
            "\u001b[1m17464789/17464789\u001b[0m \u001b[32m━━━━━━━━━━━━━━━━━━━━\u001b[0m\u001b[37m\u001b[0m \u001b[1m2s\u001b[0m 0us/step\n"
          ]
        }
      ]
    },
    {
      "cell_type": "code",
      "source": [
        "# Check for the shapes.\n",
        "print(\"-\"*50)\n",
        "print(\"Training data X shape: {}\".format(X_train.shape))\n",
        "print(\"Training data y shape: {}\".format(y_train.shape))\n",
        "print(\"-\"*50)\n",
        "print(\"Test data X shape: {}\".format(X_test.shape))\n",
        "print(\"Test data y shape: {}\".format(y_test.shape))\n",
        "print(\"-\"*50)"
      ],
      "metadata": {
        "colab": {
          "base_uri": "https://localhost:8080/"
        },
        "id": "UjsltNNHx3WC",
        "outputId": "fc9685c0-390f-43ea-dc3e-9e93d4475676"
      },
      "execution_count": 25,
      "outputs": [
        {
          "output_type": "stream",
          "name": "stdout",
          "text": [
            "--------------------------------------------------\n",
            "Training data X shape: (25000,)\n",
            "Training data y shape: (25000,)\n",
            "--------------------------------------------------\n",
            "Test data X shape: (25000,)\n",
            "Test data y shape: (25000,)\n",
            "--------------------------------------------------\n"
          ]
        }
      ]
    },
    {
      "cell_type": "code",
      "source": [
        "# Number of unique values of y = Number of categories of the newswires.\n",
        "n_cat = pd.Series(y_train).nunique()\n",
        "n_cat"
      ],
      "metadata": {
        "colab": {
          "base_uri": "https://localhost:8080/"
        },
        "id": "upk5Egy7x54g",
        "outputId": "9edd3b97-01a7-4ce1-d57d-acf1369987eb"
      },
      "execution_count": 26,
      "outputs": [
        {
          "output_type": "execute_result",
          "data": {
            "text/plain": [
              "2"
            ]
          },
          "metadata": {},
          "execution_count": 26
        }
      ]
    },
    {
      "cell_type": "code",
      "source": [
        "# Print out an observation (document) contained in X.\n",
        "# It is encoded as integers (indices).\n",
        "print(X_train[0])"
      ],
      "metadata": {
        "colab": {
          "base_uri": "https://localhost:8080/"
        },
        "id": "_uGqzb_5x-V1",
        "outputId": "307acabd-d844-4a86-a602-afd2ee97cbe4"
      },
      "execution_count": 27,
      "outputs": [
        {
          "output_type": "stream",
          "name": "stdout",
          "text": [
            "[1, 14, 22, 16, 43, 530, 973, 1622, 1385, 65, 458, 2, 66, 2, 4, 173, 36, 256, 5, 25, 100, 43, 838, 112, 50, 670, 2, 9, 35, 480, 284, 5, 150, 4, 172, 112, 167, 2, 336, 385, 39, 4, 172, 2, 1111, 17, 546, 38, 13, 447, 4, 192, 50, 16, 6, 147, 2025, 19, 14, 22, 4, 1920, 2, 469, 4, 22, 71, 87, 12, 16, 43, 530, 38, 76, 15, 13, 1247, 4, 22, 17, 515, 17, 12, 16, 626, 18, 2, 5, 62, 386, 12, 8, 316, 8, 106, 5, 4, 2223, 2, 16, 480, 66, 2, 33, 4, 130, 12, 16, 38, 619, 5, 25, 124, 51, 36, 135, 48, 25, 1415, 33, 6, 22, 12, 215, 28, 77, 52, 5, 14, 407, 16, 82, 2, 8, 4, 107, 117, 2, 15, 256, 4, 2, 7, 2, 5, 723, 36, 71, 43, 530, 476, 26, 400, 317, 46, 7, 4, 2, 1029, 13, 104, 88, 4, 381, 15, 297, 98, 32, 2071, 56, 26, 141, 6, 194, 2, 18, 4, 226, 22, 21, 134, 476, 26, 480, 5, 144, 30, 2, 18, 51, 36, 28, 224, 92, 25, 104, 4, 226, 65, 16, 38, 1334, 88, 12, 16, 283, 5, 16, 2, 113, 103, 32, 15, 16, 2, 19, 178, 32]\n"
          ]
        }
      ]
    },
    {
      "cell_type": "code",
      "source": [
        "# Let's check for length of the first 100 documents.\n",
        "# We notice that the length is not uniform.\n",
        "print([len(a) for a in X_train[0:100]])"
      ],
      "metadata": {
        "colab": {
          "base_uri": "https://localhost:8080/"
        },
        "id": "0XyZgRHyyAKE",
        "outputId": "9d6f3f81-844e-453d-bbed-655e1eb7d0b0"
      },
      "execution_count": 28,
      "outputs": [
        {
          "output_type": "stream",
          "name": "stdout",
          "text": [
            "[218, 189, 141, 550, 147, 43, 123, 562, 233, 130, 450, 99, 117, 238, 109, 129, 163, 752, 212, 177, 129, 140, 256, 888, 93, 142, 220, 193, 171, 221, 174, 647, 233, 162, 597, 234, 51, 336, 139, 231, 704, 142, 861, 132, 122, 570, 55, 214, 103, 186, 113, 169, 469, 138, 302, 766, 351, 146, 59, 206, 107, 152, 186, 431, 147, 684, 383, 324, 252, 263, 787, 211, 314, 118, 390, 132, 710, 306, 167, 115, 95, 158, 156, 82, 502, 314, 190, 174, 60, 145, 214, 659, 408, 515, 461, 202, 238, 170, 107, 171]\n"
          ]
        }
      ]
    },
    {
      "cell_type": "code",
      "source": [
        "# Download the dictionary to translate the indices.\n",
        "my_dict = get_word_index(path='imdb_word_index.json')"
      ],
      "metadata": {
        "colab": {
          "base_uri": "https://localhost:8080/"
        },
        "id": "zdzm2-xDyDIR",
        "outputId": "6e4bad4d-5d85-41f1-d522-64ceb193df3e"
      },
      "execution_count": 29,
      "outputs": [
        {
          "output_type": "stream",
          "name": "stdout",
          "text": [
            "Downloading data from https://storage.googleapis.com/tensorflow/tf-keras-datasets/imdb_word_index.json\n",
            "\u001b[1m1641221/1641221\u001b[0m \u001b[32m━━━━━━━━━━━━━━━━━━━━\u001b[0m\u001b[37m\u001b[0m \u001b[1m1s\u001b[0m 1us/step\n"
          ]
        }
      ]
    },
    {
      "cell_type": "code",
      "source": [
        "# Exchange the 'key' and 'value'.\n",
        "my_dict_inv = {v:k for k,v in my_dict.items()}"
      ],
      "metadata": {
        "id": "JXs9sCUqyFIx"
      },
      "execution_count": 30,
      "outputs": []
    },
    {
      "cell_type": "code",
      "source": [
        "# Translate each document.\n",
        "i_review = 10                                        # Document number that can be changed at will.\n",
        "review = list(pd.Series(X_train[i_review]).apply(lambda x: my_dict_inv[x]))\n",
        "print(' '.join(review))"
      ],
      "metadata": {
        "colab": {
          "base_uri": "https://localhost:8080/"
        },
        "id": "RZNWXli5yHJU",
        "outputId": "9e7c4f9d-63cc-41e1-9bef-7e5a0b7eb166"
      },
      "execution_count": 31,
      "outputs": [
        {
          "output_type": "stream",
          "name": "stdout",
          "text": [
            "the clear fact entertaining there life back br is and show of performance stars br actors film him many should movie reasons to and reading and are in of scenes and and of and out compared not boss yes to and show its disappointed fact raw to it justice by br of where clear fact many your way and with city nice are is along wrong not as it way she but this anything up haven't been by who of choices br of you to as this i'd it and who of shot you'll to love for and of you it is sequels of little quest are seen watched front chemistry to simply alive of chris being it is say easy and cry in chemistry but and all it maybe this is wing film job live of and relief and level names and and to be and serial and watch is men go this of wing american from and moving is and put this of jerry for places so work and watch and lot br that from sometimes and make department introduced to and from action at turns in low that in gay i'm of chemistry and i i simply alive it is time done inspector to watching look world named for more tells up many fans are that movie music her get and but seems in people film that if explain in why for and find of where br if and movie throughout if and of you best look red and to recently in successfully much unfortunately going dan and stuck is him sequences but of you of enough for its br that beautiful put reasons of chris chemistry wing and for of you red time and to as and and of chris less br of and torture in low alive in gay some br of wing if time actual in also side any if name takes for of friendship it of 10 for had and great to as you students for movie of going and for bad well best had at woman br musical when it caused of and to as gem in and for and look end gene in at world aliens of you it meet but is quite br western ideas of chris little of films he an time done this were right too to of enough for of ending become family beautiful are make right being it time much bit especially and for of you parts bond who of here parts at due given movie of once give find actor to recently in at world and loved and it is video him fact you to by br of where br of grown fight culture leads\n"
          ]
        }
      ]
    },
    {
      "cell_type": "code",
      "source": [
        "# Padding: newswire lengths are uniformly matched to maxlen.\n",
        "# Cut away if longer than maxlen and fill with 0s if shorter than maxlen.\n",
        "X_train = sequence.pad_sequences(X_train, maxlen = 100)\n",
        "X_test = sequence.pad_sequences(X_test, maxlen = 100)"
      ],
      "metadata": {
        "id": "JAxqNr12yMzj"
      },
      "execution_count": 32,
      "outputs": []
    },
    {
      "cell_type": "code",
      "source": [
        "n_neurons = 50                    # Neurons within each memory cell.\n",
        "n_input = 100                     # Dimension of the embeding space."
      ],
      "metadata": {
        "id": "KTrxJkL0ySr2"
      },
      "execution_count": 33,
      "outputs": []
    },
    {
      "cell_type": "code",
      "source": [
        "# LSTM network model.\n",
        "my_model = Sequential()\n",
        "my_model.add(Embedding(n_words, n_input))           # n_words = vocabulary size, n_input = dimension of the embedding space.\n",
        "my_model.add(LSTM(units=n_neurons, return_sequences=False, input_shape=(None, n_input), activation='tanh'))\n",
        "my_model.add(Dense(1, activation='sigmoid'))    # Binary output!!!"
      ],
      "metadata": {
        "id": "Azsa3f0YyVsm"
      },
      "execution_count": 34,
      "outputs": []
    },
    {
      "cell_type": "code",
      "source": [
        "# View the summary.\n",
        "my_model.summary()"
      ],
      "metadata": {
        "colab": {
          "base_uri": "https://localhost:8080/",
          "height": 232
        },
        "id": "Jj0-euNFycSD",
        "outputId": "c909bfdd-1e98-417d-e544-ac90dac9bd62"
      },
      "execution_count": 35,
      "outputs": [
        {
          "output_type": "display_data",
          "data": {
            "text/plain": [
              "\u001b[1mModel: \"sequential_1\"\u001b[0m\n"
            ],
            "text/html": [
              "<pre style=\"white-space:pre;overflow-x:auto;line-height:normal;font-family:Menlo,'DejaVu Sans Mono',consolas,'Courier New',monospace\"><span style=\"font-weight: bold\">Model: \"sequential_1\"</span>\n",
              "</pre>\n"
            ]
          },
          "metadata": {}
        },
        {
          "output_type": "display_data",
          "data": {
            "text/plain": [
              "┏━━━━━━━━━━━━━━━━━━━━━━━━━━━━━━━━━┳━━━━━━━━━━━━━━━━━━━━━━━━┳━━━━━━━━━━━━━━━┓\n",
              "┃\u001b[1m \u001b[0m\u001b[1mLayer (type)                   \u001b[0m\u001b[1m \u001b[0m┃\u001b[1m \u001b[0m\u001b[1mOutput Shape          \u001b[0m\u001b[1m \u001b[0m┃\u001b[1m \u001b[0m\u001b[1m      Param #\u001b[0m\u001b[1m \u001b[0m┃\n",
              "┡━━━━━━━━━━━━━━━━━━━━━━━━━━━━━━━━━╇━━━━━━━━━━━━━━━━━━━━━━━━╇━━━━━━━━━━━━━━━┩\n",
              "│ embedding_1 (\u001b[38;5;33mEmbedding\u001b[0m)         │ ?                      │   \u001b[38;5;34m0\u001b[0m (unbuilt) │\n",
              "├─────────────────────────────────┼────────────────────────┼───────────────┤\n",
              "│ lstm_1 (\u001b[38;5;33mLSTM\u001b[0m)                   │ ?                      │   \u001b[38;5;34m0\u001b[0m (unbuilt) │\n",
              "├─────────────────────────────────┼────────────────────────┼───────────────┤\n",
              "│ dense_1 (\u001b[38;5;33mDense\u001b[0m)                 │ ?                      │   \u001b[38;5;34m0\u001b[0m (unbuilt) │\n",
              "└─────────────────────────────────┴────────────────────────┴───────────────┘\n"
            ],
            "text/html": [
              "<pre style=\"white-space:pre;overflow-x:auto;line-height:normal;font-family:Menlo,'DejaVu Sans Mono',consolas,'Courier New',monospace\">┏━━━━━━━━━━━━━━━━━━━━━━━━━━━━━━━━━┳━━━━━━━━━━━━━━━━━━━━━━━━┳━━━━━━━━━━━━━━━┓\n",
              "┃<span style=\"font-weight: bold\"> Layer (type)                    </span>┃<span style=\"font-weight: bold\"> Output Shape           </span>┃<span style=\"font-weight: bold\">       Param # </span>┃\n",
              "┡━━━━━━━━━━━━━━━━━━━━━━━━━━━━━━━━━╇━━━━━━━━━━━━━━━━━━━━━━━━╇━━━━━━━━━━━━━━━┩\n",
              "│ embedding_1 (<span style=\"color: #0087ff; text-decoration-color: #0087ff\">Embedding</span>)         │ ?                      │   <span style=\"color: #00af00; text-decoration-color: #00af00\">0</span> (unbuilt) │\n",
              "├─────────────────────────────────┼────────────────────────┼───────────────┤\n",
              "│ lstm_1 (<span style=\"color: #0087ff; text-decoration-color: #0087ff\">LSTM</span>)                   │ ?                      │   <span style=\"color: #00af00; text-decoration-color: #00af00\">0</span> (unbuilt) │\n",
              "├─────────────────────────────────┼────────────────────────┼───────────────┤\n",
              "│ dense_1 (<span style=\"color: #0087ff; text-decoration-color: #0087ff\">Dense</span>)                 │ ?                      │   <span style=\"color: #00af00; text-decoration-color: #00af00\">0</span> (unbuilt) │\n",
              "└─────────────────────────────────┴────────────────────────┴───────────────┘\n",
              "</pre>\n"
            ]
          },
          "metadata": {}
        },
        {
          "output_type": "display_data",
          "data": {
            "text/plain": [
              "\u001b[1m Total params: \u001b[0m\u001b[38;5;34m0\u001b[0m (0.00 B)\n"
            ],
            "text/html": [
              "<pre style=\"white-space:pre;overflow-x:auto;line-height:normal;font-family:Menlo,'DejaVu Sans Mono',consolas,'Courier New',monospace\"><span style=\"font-weight: bold\"> Total params: </span><span style=\"color: #00af00; text-decoration-color: #00af00\">0</span> (0.00 B)\n",
              "</pre>\n"
            ]
          },
          "metadata": {}
        },
        {
          "output_type": "display_data",
          "data": {
            "text/plain": [
              "\u001b[1m Trainable params: \u001b[0m\u001b[38;5;34m0\u001b[0m (0.00 B)\n"
            ],
            "text/html": [
              "<pre style=\"white-space:pre;overflow-x:auto;line-height:normal;font-family:Menlo,'DejaVu Sans Mono',consolas,'Courier New',monospace\"><span style=\"font-weight: bold\"> Trainable params: </span><span style=\"color: #00af00; text-decoration-color: #00af00\">0</span> (0.00 B)\n",
              "</pre>\n"
            ]
          },
          "metadata": {}
        },
        {
          "output_type": "display_data",
          "data": {
            "text/plain": [
              "\u001b[1m Non-trainable params: \u001b[0m\u001b[38;5;34m0\u001b[0m (0.00 B)\n"
            ],
            "text/html": [
              "<pre style=\"white-space:pre;overflow-x:auto;line-height:normal;font-family:Menlo,'DejaVu Sans Mono',consolas,'Courier New',monospace\"><span style=\"font-weight: bold\"> Non-trainable params: </span><span style=\"color: #00af00; text-decoration-color: #00af00\">0</span> (0.00 B)\n",
              "</pre>\n"
            ]
          },
          "metadata": {}
        }
      ]
    },
    {
      "cell_type": "code",
      "source": [
        "n_epochs = 5                      # Number of epochs.\n",
        "batch_size = 50                    # Size of each batch.\n",
        "learn_rate = 0.002                 # learning rate."
      ],
      "metadata": {
        "id": "ntFfnHZmyfEj"
      },
      "execution_count": 36,
      "outputs": []
    },
    {
      "cell_type": "code",
      "source": [
        "# Optimizer and compilation.\n",
        "my_optimizer=Adam(learning_rate=learn_rate)\n",
        "my_model.compile(loss = \"binary_crossentropy\", optimizer = my_optimizer, metrics=[\"accuracy\"])"
      ],
      "metadata": {
        "id": "DKQ1M6iayh6e"
      },
      "execution_count": 37,
      "outputs": []
    },
    {
      "cell_type": "code",
      "source": [
        "my_summary = my_model.fit(X_train, y_train, epochs=n_epochs, batch_size = batch_size, validation_split=0.2, verbose = 1)"
      ],
      "metadata": {
        "colab": {
          "base_uri": "https://localhost:8080/"
        },
        "id": "sjOHtGr2yj4n",
        "outputId": "15d4377f-34a9-493e-83fa-22e6f2152324"
      },
      "execution_count": 38,
      "outputs": [
        {
          "output_type": "stream",
          "name": "stdout",
          "text": [
            "Epoch 1/5\n",
            "\u001b[1m400/400\u001b[0m \u001b[32m━━━━━━━━━━━━━━━━━━━━\u001b[0m\u001b[37m\u001b[0m \u001b[1m6s\u001b[0m 10ms/step - accuracy: 0.7194 - loss: 0.5301 - val_accuracy: 0.8236 - val_loss: 0.3931\n",
            "Epoch 2/5\n",
            "\u001b[1m400/400\u001b[0m \u001b[32m━━━━━━━━━━━━━━━━━━━━\u001b[0m\u001b[37m\u001b[0m \u001b[1m4s\u001b[0m 9ms/step - accuracy: 0.8612 - loss: 0.3279 - val_accuracy: 0.8428 - val_loss: 0.3549\n",
            "Epoch 3/5\n",
            "\u001b[1m400/400\u001b[0m \u001b[32m━━━━━━━━━━━━━━━━━━━━\u001b[0m\u001b[37m\u001b[0m \u001b[1m3s\u001b[0m 7ms/step - accuracy: 0.8860 - loss: 0.2654 - val_accuracy: 0.8488 - val_loss: 0.3585\n",
            "Epoch 4/5\n",
            "\u001b[1m400/400\u001b[0m \u001b[32m━━━━━━━━━━━━━━━━━━━━\u001b[0m\u001b[37m\u001b[0m \u001b[1m3s\u001b[0m 7ms/step - accuracy: 0.9188 - loss: 0.2107 - val_accuracy: 0.8374 - val_loss: 0.3949\n",
            "Epoch 5/5\n",
            "\u001b[1m400/400\u001b[0m \u001b[32m━━━━━━━━━━━━━━━━━━━━\u001b[0m\u001b[37m\u001b[0m \u001b[1m4s\u001b[0m 9ms/step - accuracy: 0.9334 - loss: 0.1740 - val_accuracy: 0.8290 - val_loss: 0.4910\n"
          ]
        }
      ]
    },
    {
      "cell_type": "code",
      "source": [
        "plt.plot(my_summary.history['accuracy'], c=\"b\")\n",
        "plt.plot(my_summary.history['val_accuracy'], c=\"g\")\n",
        "plt.title('Training History')\n",
        "plt.ylabel('Accuracy')\n",
        "plt.xlabel('Epoch')\n",
        "plt.legend(['Train', 'Validation'], loc='lower right')\n",
        "plt.show()"
      ],
      "metadata": {
        "colab": {
          "base_uri": "https://localhost:8080/",
          "height": 472
        },
        "id": "yL7ieHfKypT6",
        "outputId": "0cd76752-8afd-4a2d-f75d-f59bc503aea2"
      },
      "execution_count": 39,
      "outputs": [
        {
          "output_type": "display_data",
          "data": {
            "text/plain": [
              "<Figure size 640x480 with 1 Axes>"
            ],
            "image/png": "[encoded data removed]"
          },
          "metadata": {}
        }
      ]
    },
    {
      "cell_type": "code",
      "source": [
        "ACC = my_model.evaluate(X_test, y_test, verbose=0)[1]\n",
        "print(\"Test Accuracy : {}\".format(np.round(ACC,3)))"
      ],
      "metadata": {
        "colab": {
          "base_uri": "https://localhost:8080/"
        },
        "id": "bca9EGO0y0iJ",
        "outputId": "5c2f746b-2192-4250-cf29-a25906413a2a"
      },
      "execution_count": 40,
      "outputs": [
        {
          "output_type": "stream",
          "name": "stdout",
          "text": [
            "Test Accuracy : 0.834\n"
          ]
        }
      ]
    },
    {
      "cell_type": "code",
      "source": [
        "import pandas as pd\n",
        "import numpy as np\n",
        "import warnings\n",
        "import matplotlib.pyplot as plt\n",
        "from sklearn.model_selection import train_test_split\n",
        "from tensorflow.keras.datasets.imdb import load_data, get_word_index       # Movie review data.\n",
        "from tensorflow.keras.models import Sequential\n",
        "from tensorflow.keras.layers import Dense, SimpleRNN, LSTM, Embedding, Conv1D, MaxPool1D, Dropout\n",
        "from tensorflow.keras.utils import to_categorical\n",
        "from tensorflow.keras.preprocessing import sequence\n",
        "from tensorflow.keras.optimizers import Adam, RMSprop, SGD\n",
        "warnings.filterwarnings('ignore')                              # Turn the warnings off.\n",
        "%matplotlib inline"
      ],
      "metadata": {
        "id": "w69T6UsQz7Br"
      },
      "execution_count": 41,
      "outputs": []
    },
    {
      "cell_type": "code",
      "source": [
        "n_words = 3000                                        # Size of the vocabulary.\n",
        "(X_train, y_train), (X_test, y_test) = load_data(num_words = n_words)\n",
        "n_train_size = X_train.shape[0]"
      ],
      "metadata": {
        "id": "Uacr_LrDz9mK"
      },
      "execution_count": 42,
      "outputs": []
    },
    {
      "cell_type": "code",
      "source": [
        "# Check for the shapes.\n",
        "print(\"-\"*50)\n",
        "print(\"Training data X shape: {}\".format(X_train.shape))\n",
        "print(\"Training data y shape: {}\".format(y_train.shape))\n",
        "print(\"-\"*50)\n",
        "print(\"Test data X shape: {}\".format(X_test.shape))\n",
        "print(\"Test data y shape: {}\".format(y_test.shape))\n",
        "print(\"-\"*50)"
      ],
      "metadata": {
        "colab": {
          "base_uri": "https://localhost:8080/"
        },
        "id": "iDJGnIL-z_aQ",
        "outputId": "579b8789-7b50-4a86-c5d8-1702c3af30e4"
      },
      "execution_count": 43,
      "outputs": [
        {
          "output_type": "stream",
          "name": "stdout",
          "text": [
            "--------------------------------------------------\n",
            "Training data X shape: (25000,)\n",
            "Training data y shape: (25000,)\n",
            "--------------------------------------------------\n",
            "Test data X shape: (25000,)\n",
            "Test data y shape: (25000,)\n",
            "--------------------------------------------------\n"
          ]
        }
      ]
    },
    {
      "cell_type": "code",
      "source": [
        "# Number of unique values of y = Number of categories of the newswires.\n",
        "n_cat = pd.Series(y_train).nunique()\n",
        "n_cat"
      ],
      "metadata": {
        "colab": {
          "base_uri": "https://localhost:8080/"
        },
        "id": "CXCkKqqw0BXF",
        "outputId": "42d6e4b4-0aef-4211-d695-aa390610c996"
      },
      "execution_count": 44,
      "outputs": [
        {
          "output_type": "execute_result",
          "data": {
            "text/plain": [
              "2"
            ]
          },
          "metadata": {},
          "execution_count": 44
        }
      ]
    },
    {
      "cell_type": "code",
      "source": [
        "# Print out an observation (document) contained in X.\n",
        "# It is encoded as integers (indices).\n",
        "print(X_train[0])"
      ],
      "metadata": {
        "colab": {
          "base_uri": "https://localhost:8080/"
        },
        "id": "Vk2N_rlZ0Dei",
        "outputId": "30d17020-d220-4ec8-9173-30bf37bb656f"
      },
      "execution_count": 45,
      "outputs": [
        {
          "output_type": "stream",
          "name": "stdout",
          "text": [
            "[1, 14, 22, 16, 43, 530, 973, 1622, 1385, 65, 458, 2, 66, 2, 4, 173, 36, 256, 5, 25, 100, 43, 838, 112, 50, 670, 2, 9, 35, 480, 284, 5, 150, 4, 172, 112, 167, 2, 336, 385, 39, 4, 172, 2, 1111, 17, 546, 38, 13, 447, 4, 192, 50, 16, 6, 147, 2025, 19, 14, 22, 4, 1920, 2, 469, 4, 22, 71, 87, 12, 16, 43, 530, 38, 76, 15, 13, 1247, 4, 22, 17, 515, 17, 12, 16, 626, 18, 2, 5, 62, 386, 12, 8, 316, 8, 106, 5, 4, 2223, 2, 16, 480, 66, 2, 33, 4, 130, 12, 16, 38, 619, 5, 25, 124, 51, 36, 135, 48, 25, 1415, 33, 6, 22, 12, 215, 28, 77, 52, 5, 14, 407, 16, 82, 2, 8, 4, 107, 117, 2, 15, 256, 4, 2, 7, 2, 5, 723, 36, 71, 43, 530, 476, 26, 400, 317, 46, 7, 4, 2, 1029, 13, 104, 88, 4, 381, 15, 297, 98, 32, 2071, 56, 26, 141, 6, 194, 2, 18, 4, 226, 22, 21, 134, 476, 26, 480, 5, 144, 30, 2, 18, 51, 36, 28, 224, 92, 25, 104, 4, 226, 65, 16, 38, 1334, 88, 12, 16, 283, 5, 16, 2, 113, 103, 32, 15, 16, 2, 19, 178, 32]\n"
          ]
        }
      ]
    },
    {
      "cell_type": "code",
      "source": [
        "# Let's check for length of the first 100 documents.\n",
        "# We notice that the length is not uniform.\n",
        "print([len(a) for a in X_train[0:100]])"
      ],
      "metadata": {
        "colab": {
          "base_uri": "https://localhost:8080/"
        },
        "id": "1fH0nn7E0Fhr",
        "outputId": "fccbf644-badf-4542-a3ea-d5fd6031d7ed"
      },
      "execution_count": 46,
      "outputs": [
        {
          "output_type": "stream",
          "name": "stdout",
          "text": [
            "[218, 189, 141, 550, 147, 43, 123, 562, 233, 130, 450, 99, 117, 238, 109, 129, 163, 752, 212, 177, 129, 140, 256, 888, 93, 142, 220, 193, 171, 221, 174, 647, 233, 162, 597, 234, 51, 336, 139, 231, 704, 142, 861, 132, 122, 570, 55, 214, 103, 186, 113, 169, 469, 138, 302, 766, 351, 146, 59, 206, 107, 152, 186, 431, 147, 684, 383, 324, 252, 263, 787, 211, 314, 118, 390, 132, 710, 306, 167, 115, 95, 158, 156, 82, 502, 314, 190, 174, 60, 145, 214, 659, 408, 515, 461, 202, 238, 170, 107, 171]\n"
          ]
        }
      ]
    },
    {
      "cell_type": "code",
      "source": [
        "# Download the dictionary to translate the indices.\n",
        "my_dict = get_word_index(path='imdb_word_index.json')"
      ],
      "metadata": {
        "id": "ayrDkIN_0Hzm"
      },
      "execution_count": 47,
      "outputs": []
    },
    {
      "cell_type": "code",
      "source": [
        "# Exchange the 'key' and 'value'.\n",
        "my_dict_inv = {v:k for k,v in my_dict.items()}"
      ],
      "metadata": {
        "id": "gXq2Ilqo0J08"
      },
      "execution_count": 48,
      "outputs": []
    },
    {
      "cell_type": "code",
      "source": [
        "# Translate each document.\n",
        "i_review = 10                                        # Document number that can be changed at will.\n",
        "review = list(pd.Series(X_train[i_review]).apply(lambda x: my_dict_inv[x]))\n",
        "print(' '.join(review))"
      ],
      "metadata": {
        "colab": {
          "base_uri": "https://localhost:8080/"
        },
        "id": "2Tl21Aiq0MRB",
        "outputId": "1881c5df-597e-4453-adf4-3a224adbb426"
      },
      "execution_count": 49,
      "outputs": [
        {
          "output_type": "stream",
          "name": "stdout",
          "text": [
            "the clear fact entertaining there life back br is and show of performance stars br actors film him many should movie reasons to and reading and are in of scenes and and of and out compared not boss yes to and show its disappointed fact raw to it justice by br of where clear fact many your way and with city nice are is along wrong not as it way she but this anything up haven't been by who of choices br of you to as this i'd it and who of shot you'll to love for and of you it is sequels of little quest are seen watched front chemistry to simply alive of chris being it is say easy and cry in chemistry but and all it maybe this is wing film job live of and relief and level names and and to be and serial and watch is men go this of wing american from and moving is and put this of jerry for places so work and watch and lot br that from sometimes and make department introduced to and from action at turns in low that in gay i'm of chemistry and i i simply alive it is time done inspector to watching look world named for more tells up many fans are that movie music her get and but seems in people film that if explain in why for and find of where br if and movie throughout if and of you best look red and to recently in successfully much unfortunately going dan and stuck is him sequences but of you of enough for its br that beautiful put reasons of chris chemistry wing and for of you red time and to as and and of chris less br of and torture in low alive in gay some br of wing if time actual in also side any if name takes for of friendship it of 10 for had and great to as you students for movie of going and for bad well best had at woman br musical when it caused of and to as gem in and for and look end gene in at world aliens of you it meet but is quite br western ideas of chris little of films he an time done this were right too to of enough for of ending become family beautiful are make right being it time much bit especially and for of you parts bond who of here parts at due given movie of once give find actor to recently in at world and loved and it is video him fact you to by br of where br of grown fight culture leads\n"
          ]
        }
      ]
    },
    {
      "cell_type": "code",
      "source": [
        "# Padding: newswire lengths are uniformly matched to maxlen.\n",
        "# Cut away if longer than maxlen and fill with 0s if shorter than maxlen.\n",
        "X_train = sequence.pad_sequences(X_train, maxlen = 100)\n",
        "X_test = sequence.pad_sequences(X_test, maxlen = 100)"
      ],
      "metadata": {
        "id": "ycrFYrp70Ovb"
      },
      "execution_count": 50,
      "outputs": []
    },
    {
      "cell_type": "code",
      "source": [
        "drop_prob = 0.5                   # Dropout probability.\n",
        "n_filters = 64                    # Number of filters (kernels).\n",
        "k_size = 4                        # Kernel (filter) size.\n",
        "stride_size = 1                   # Stride.\n",
        "n_neurons = 50                    # Neurons within each memory cell.\n",
        "n_input = 100                     # Dimension of the embeding space."
      ],
      "metadata": {
        "id": "vfuy8Fkx0RfE"
      },
      "execution_count": 51,
      "outputs": []
    },
    {
      "cell_type": "code",
      "source": [
        "# LSTM + CNN model..\n",
        "my_model = Sequential()\n",
        "my_model.add(Embedding(n_words,n_input))           # n_words = vocabulary size, n_input = dimension of the embedding space.\n",
        "my_model.add(Dropout(rate=drop_prob))\n",
        "my_model.add(Conv1D(filters=n_filters, kernel_size = k_size, strides=stride_size,padding='valid',activation='relu'))\n",
        "my_model.add(MaxPool1D(pool_size = 2))\n",
        "my_model.add(LSTM(units=n_neurons, return_sequences=False, input_shape=(None, n_input), activation='tanh'))\n",
        "my_model.add(Dense(1, activation='sigmoid'))"
      ],
      "metadata": {
        "id": "vla0BmID0TtY"
      },
      "execution_count": 52,
      "outputs": []
    },
    {
      "cell_type": "code",
      "source": [
        "# View the summary.\n",
        "my_model.summary()"
      ],
      "metadata": {
        "colab": {
          "base_uri": "https://localhost:8080/",
          "height": 331
        },
        "id": "UnpUopzW0XOt",
        "outputId": "ccc84437-fbd5-450d-d7cd-fa657fc92f2a"
      },
      "execution_count": 53,
      "outputs": [
        {
          "output_type": "display_data",
          "data": {
            "text/plain": [
              "\u001b[1mModel: \"sequential_2\"\u001b[0m\n"
            ],
            "text/html": [
              "<pre style=\"white-space:pre;overflow-x:auto;line-height:normal;font-family:Menlo,'DejaVu Sans Mono',consolas,'Courier New',monospace\"><span style=\"font-weight: bold\">Model: \"sequential_2\"</span>\n",
              "</pre>\n"
            ]
          },
          "metadata": {}
        },
        {
          "output_type": "display_data",
          "data": {
            "text/plain": [
              "┏━━━━━━━━━━━━━━━━━━━━━━━━━━━━━━━━━┳━━━━━━━━━━━━━━━━━━━━━━━━┳━━━━━━━━━━━━━━━┓\n",
              "┃\u001b[1m \u001b[0m\u001b[1mLayer (type)                   \u001b[0m\u001b[1m \u001b[0m┃\u001b[1m \u001b[0m\u001b[1mOutput Shape          \u001b[0m\u001b[1m \u001b[0m┃\u001b[1m \u001b[0m\u001b[1m      Param #\u001b[0m\u001b[1m \u001b[0m┃\n",
              "┡━━━━━━━━━━━━━━━━━━━━━━━━━━━━━━━━━╇━━━━━━━━━━━━━━━━━━━━━━━━╇━━━━━━━━━━━━━━━┩\n",
              "│ embedding_2 (\u001b[38;5;33mEmbedding\u001b[0m)         │ ?                      │   \u001b[38;5;34m0\u001b[0m (unbuilt) │\n",
              "├─────────────────────────────────┼────────────────────────┼───────────────┤\n",
              "│ dropout (\u001b[38;5;33mDropout\u001b[0m)               │ ?                      │             \u001b[38;5;34m0\u001b[0m │\n",
              "├─────────────────────────────────┼────────────────────────┼───────────────┤\n",
              "│ conv1d (\u001b[38;5;33mConv1D\u001b[0m)                 │ ?                      │   \u001b[38;5;34m0\u001b[0m (unbuilt) │\n",
              "├─────────────────────────────────┼────────────────────────┼───────────────┤\n",
              "│ max_pooling1d (\u001b[38;5;33mMaxPooling1D\u001b[0m)    │ ?                      │             \u001b[38;5;34m0\u001b[0m │\n",
              "├─────────────────────────────────┼────────────────────────┼───────────────┤\n",
              "│ lstm_2 (\u001b[38;5;33mLSTM\u001b[0m)                   │ ?                      │   \u001b[38;5;34m0\u001b[0m (unbuilt) │\n",
              "├─────────────────────────────────┼────────────────────────┼───────────────┤\n",
              "│ dense_2 (\u001b[38;5;33mDense\u001b[0m)                 │ ?                      │   \u001b[38;5;34m0\u001b[0m (unbuilt) │\n",
              "└─────────────────────────────────┴────────────────────────┴───────────────┘\n"
            ],
            "text/html": [
              "<pre style=\"white-space:pre;overflow-x:auto;line-height:normal;font-family:Menlo,'DejaVu Sans Mono',consolas,'Courier New',monospace\">┏━━━━━━━━━━━━━━━━━━━━━━━━━━━━━━━━━┳━━━━━━━━━━━━━━━━━━━━━━━━┳━━━━━━━━━━━━━━━┓\n",
              "┃<span style=\"font-weight: bold\"> Layer (type)                    </span>┃<span style=\"font-weight: bold\"> Output Shape           </span>┃<span style=\"font-weight: bold\">       Param # </span>┃\n",
              "┡━━━━━━━━━━━━━━━━━━━━━━━━━━━━━━━━━╇━━━━━━━━━━━━━━━━━━━━━━━━╇━━━━━━━━━━━━━━━┩\n",
              "│ embedding_2 (<span style=\"color: #0087ff; text-decoration-color: #0087ff\">Embedding</span>)         │ ?                      │   <span style=\"color: #00af00; text-decoration-color: #00af00\">0</span> (unbuilt) │\n",
              "├─────────────────────────────────┼────────────────────────┼───────────────┤\n",
              "│ dropout (<span style=\"color: #0087ff; text-decoration-color: #0087ff\">Dropout</span>)               │ ?                      │             <span style=\"color: #00af00; text-decoration-color: #00af00\">0</span> │\n",
              "├─────────────────────────────────┼────────────────────────┼───────────────┤\n",
              "│ conv1d (<span style=\"color: #0087ff; text-decoration-color: #0087ff\">Conv1D</span>)                 │ ?                      │   <span style=\"color: #00af00; text-decoration-color: #00af00\">0</span> (unbuilt) │\n",
              "├─────────────────────────────────┼────────────────────────┼───────────────┤\n",
              "│ max_pooling1d (<span style=\"color: #0087ff; text-decoration-color: #0087ff\">MaxPooling1D</span>)    │ ?                      │             <span style=\"color: #00af00; text-decoration-color: #00af00\">0</span> │\n",
              "├─────────────────────────────────┼────────────────────────┼───────────────┤\n",
              "│ lstm_2 (<span style=\"color: #0087ff; text-decoration-color: #0087ff\">LSTM</span>)                   │ ?                      │   <span style=\"color: #00af00; text-decoration-color: #00af00\">0</span> (unbuilt) │\n",
              "├─────────────────────────────────┼────────────────────────┼───────────────┤\n",
              "│ dense_2 (<span style=\"color: #0087ff; text-decoration-color: #0087ff\">Dense</span>)                 │ ?                      │   <span style=\"color: #00af00; text-decoration-color: #00af00\">0</span> (unbuilt) │\n",
              "└─────────────────────────────────┴────────────────────────┴───────────────┘\n",
              "</pre>\n"
            ]
          },
          "metadata": {}
        },
        {
          "output_type": "display_data",
          "data": {
            "text/plain": [
              "\u001b[1m Total params: \u001b[0m\u001b[38;5;34m0\u001b[0m (0.00 B)\n"
            ],
            "text/html": [
              "<pre style=\"white-space:pre;overflow-x:auto;line-height:normal;font-family:Menlo,'DejaVu Sans Mono',consolas,'Courier New',monospace\"><span style=\"font-weight: bold\"> Total params: </span><span style=\"color: #00af00; text-decoration-color: #00af00\">0</span> (0.00 B)\n",
              "</pre>\n"
            ]
          },
          "metadata": {}
        },
        {
          "output_type": "display_data",
          "data": {
            "text/plain": [
              "\u001b[1m Trainable params: \u001b[0m\u001b[38;5;34m0\u001b[0m (0.00 B)\n"
            ],
            "text/html": [
              "<pre style=\"white-space:pre;overflow-x:auto;line-height:normal;font-family:Menlo,'DejaVu Sans Mono',consolas,'Courier New',monospace\"><span style=\"font-weight: bold\"> Trainable params: </span><span style=\"color: #00af00; text-decoration-color: #00af00\">0</span> (0.00 B)\n",
              "</pre>\n"
            ]
          },
          "metadata": {}
        },
        {
          "output_type": "display_data",
          "data": {
            "text/plain": [
              "\u001b[1m Non-trainable params: \u001b[0m\u001b[38;5;34m0\u001b[0m (0.00 B)\n"
            ],
            "text/html": [
              "<pre style=\"white-space:pre;overflow-x:auto;line-height:normal;font-family:Menlo,'DejaVu Sans Mono',consolas,'Courier New',monospace\"><span style=\"font-weight: bold\"> Non-trainable params: </span><span style=\"color: #00af00; text-decoration-color: #00af00\">0</span> (0.00 B)\n",
              "</pre>\n"
            ]
          },
          "metadata": {}
        }
      ]
    },
    {
      "cell_type": "code",
      "source": [
        "n_epochs = 5                      # Number of epochs.\n",
        "batch_size = 50                    # Size of each batch.\n",
        "learn_rate = 0.002                 # learning rate."
      ],
      "metadata": {
        "id": "vVe7-Ty80a2L"
      },
      "execution_count": 54,
      "outputs": []
    },
    {
      "cell_type": "code",
      "source": [
        "# Optimizer and compilation.\n",
        "my_optimizer=Adam(learning_rate=learn_rate)\n",
        "my_model.compile(loss = \"binary_crossentropy\", optimizer = my_optimizer, metrics=[\"accuracy\"])"
      ],
      "metadata": {
        "id": "ff5vJDyv0c8u"
      },
      "execution_count": 55,
      "outputs": []
    },
    {
      "cell_type": "code",
      "source": [
        "my_summary = my_model.fit(X_train, y_train, epochs=n_epochs, batch_size = batch_size, validation_split=0.2, verbose = 1)"
      ],
      "metadata": {
        "colab": {
          "base_uri": "https://localhost:8080/"
        },
        "id": "9fE6TU4Y0erh",
        "outputId": "d61ca029-7332-4313-d6b3-b9b22e4ba051"
      },
      "execution_count": 56,
      "outputs": [
        {
          "output_type": "stream",
          "name": "stdout",
          "text": [
            "Epoch 1/5\n",
            "\u001b[1m400/400\u001b[0m \u001b[32m━━━━━━━━━━━━━━━━━━━━\u001b[0m\u001b[37m\u001b[0m \u001b[1m7s\u001b[0m 8ms/step - accuracy: 0.6914 - loss: 0.5457 - val_accuracy: 0.8412 - val_loss: 0.3589\n",
            "Epoch 2/5\n",
            "\u001b[1m400/400\u001b[0m \u001b[32m━━━━━━━━━━━━━━━━━━━━\u001b[0m\u001b[37m\u001b[0m \u001b[1m3s\u001b[0m 8ms/step - accuracy: 0.8744 - loss: 0.3056 - val_accuracy: 0.8284 - val_loss: 0.3821\n",
            "Epoch 3/5\n",
            "\u001b[1m400/400\u001b[0m \u001b[32m━━━━━━━━━━━━━━━━━━━━\u001b[0m\u001b[37m\u001b[0m \u001b[1m3s\u001b[0m 8ms/step - accuracy: 0.8888 - loss: 0.2724 - val_accuracy: 0.8252 - val_loss: 0.3845\n",
            "Epoch 4/5\n",
            "\u001b[1m400/400\u001b[0m \u001b[32m━━━━━━━━━━━━━━━━━━━━\u001b[0m\u001b[37m\u001b[0m \u001b[1m3s\u001b[0m 7ms/step - accuracy: 0.9093 - loss: 0.2292 - val_accuracy: 0.8478 - val_loss: 0.3672\n",
            "Epoch 5/5\n",
            "\u001b[1m400/400\u001b[0m \u001b[32m━━━━━━━━━━━━━━━━━━━━\u001b[0m\u001b[37m\u001b[0m \u001b[1m3s\u001b[0m 8ms/step - accuracy: 0.9265 - loss: 0.1971 - val_accuracy: 0.8400 - val_loss: 0.3870\n"
          ]
        }
      ]
    },
    {
      "cell_type": "code",
      "source": [
        "plt.plot(my_summary.history['accuracy'], c=\"b\")\n",
        "plt.plot(my_summary.history['val_accuracy'], c=\"g\")\n",
        "plt.title('Training History')\n",
        "plt.ylabel('Accuracy')\n",
        "plt.xlabel('Epoch')\n",
        "plt.legend(['Train', 'Validation'], loc='lower right')\n",
        "plt.show()"
      ],
      "metadata": {
        "colab": {
          "base_uri": "https://localhost:8080/",
          "height": 472
        },
        "id": "774u9USB0grv",
        "outputId": "0f9cce02-7329-4bba-f81e-4a978563b13e"
      },
      "execution_count": 57,
      "outputs": [
        {
          "output_type": "display_data",
          "data": {
            "text/plain": [
              "<Figure size 640x480 with 1 Axes>"
            ],
            "image/png": "[encoded data removed]"
          },
          "metadata": {}
        }
      ]
    },
    {
      "cell_type": "code",
      "source": [
        "ACC = my_model.evaluate(X_test, y_test, verbose=0)[1]\n",
        "print(\"Test Accuracy : {}\".format(np.round(ACC,3)))"
      ],
      "metadata": {
        "colab": {
          "base_uri": "https://localhost:8080/"
        },
        "id": "2NH5Bh6k0jOG",
        "outputId": "8cbde406-928c-413a-c315-fa48f974215b"
      },
      "execution_count": 58,
      "outputs": [
        {
          "output_type": "stream",
          "name": "stdout",
          "text": [
            "Test Accuracy : 0.842\n"
          ]
        }
      ]
    },
    {
      "cell_type": "code",
      "source": [
        "%%capture\n",
        "!pip install gensim\n",
        "!pip install nltk"
      ],
      "metadata": {
        "id": "_hV-m7p21MFs"
      },
      "execution_count": 59,
      "outputs": []
    },
    {
      "cell_type": "code",
      "source": [
        "import re\n",
        "import os\n",
        "import nltk\n",
        "import urllib\n",
        "import bs4 as bs\n",
        "import warnings\n",
        "from gensim.models import Word2Vec\n",
        "from gensim.models import KeyedVectors\n",
        "from nltk.corpus import stopwords\n",
        "warnings.filterwarnings('ignore')"
      ],
      "metadata": {
        "id": "SKGFr_BI1Y4f"
      },
      "execution_count": 60,
      "outputs": []
    },
    {
      "cell_type": "code",
      "source": [
        "headers = {\n",
        "    \"User-Agent\": \"Mozilla/5.0 (Macintosh; Intel Mac OS X 10_15_7) \"\n",
        "                  \"AppleWebKit/537.36 (KHTML, like Gecko) \"\n",
        "                  \"Chrome/118.0.0.0 Safari/537.36\"\n",
        "}\n"
      ],
      "metadata": {
        "id": "5twEvsRK1lgo"
      },
      "execution_count": 62,
      "outputs": []
    },
    {
      "cell_type": "code",
      "source": [
        "import requests as rq\n",
        "\n",
        "url = \"https://en.wikipedia.org/wiki/Machine_learning\"\n",
        "headers = {\n",
        "    \"User-Agent\": \"Mozilla/5.0 (Macintosh; Intel Mac OS X 10_15_7) \"\n",
        "                  \"AppleWebKit/537.36 (KHTML, like Gecko) \"\n",
        "                  \"Chrome/118.0.0.0 Safari/537.36\"\n",
        "}\n",
        "\n",
        "res = rq.get(url, headers=headers)\n",
        "print(res.status_code)\n"
      ],
      "metadata": {
        "colab": {
          "base_uri": "https://localhost:8080/"
        },
        "id": "L4xQ6_Q21eBj",
        "outputId": "4a100fc6-33dd-4ff3-fc53-2e4a76efd68a"
      },
      "execution_count": 65,
      "outputs": [
        {
          "output_type": "stream",
          "name": "stdout",
          "text": [
            "200\n"
          ]
        }
      ]
    },
    {
      "cell_type": "code",
      "source": [
        "from bs4 import BeautifulSoup\n",
        "soup = BeautifulSoup(res.text, 'html.parser')\n"
      ],
      "metadata": {
        "id": "f_cH_hig15Ke"
      },
      "execution_count": 66,
      "outputs": []
    },
    {
      "cell_type": "code",
      "source": [
        "t = soup.find_all(\"p\")\n",
        "my_text = ''\n",
        "\n",
        "for i in range(len(t)):\n",
        "  my_text += t[i].text.strip() + '\\n'\n",
        "\n",
        "print(my_text)"
      ],
      "metadata": {
        "id": "rGzb0Zo31_Ad"
      },
      "execution_count": null,
      "outputs": []
    },
    {
      "cell_type": "code",
      "source": [
        "my_text = my_text.lower()\n",
        "my_text = re.sub(r'\\[[0-9]*\\]',' ', my_text)\n",
        "my_text = re.sub(r'\\W',' ', my_text)\n",
        "my_text = re.sub(r'\\d+',' ',my_text)\n",
        "my_text = re.sub(r'\\s+',' ',my_text)"
      ],
      "metadata": {
        "id": "_BxNy4L12Ojp"
      },
      "execution_count": 70,
      "outputs": []
    },
    {
      "cell_type": "code",
      "source": [
        "nltk.download('punkt_tab')\n",
        "nltk.download('stopwords')\n"
      ],
      "metadata": {
        "colab": {
          "base_uri": "https://localhost:8080/"
        },
        "id": "Br9iJbVL2cLE",
        "outputId": "0da61714-9380-466a-dfd6-c6f6711ef67c"
      },
      "execution_count": 74,
      "outputs": [
        {
          "output_type": "stream",
          "name": "stderr",
          "text": [
            "[nltk_data] Downloading package punkt_tab to /root/nltk_data...\n",
            "[nltk_data]   Package punkt_tab is already up-to-date!\n",
            "[nltk_data] Downloading package stopwords to /root/nltk_data...\n",
            "[nltk_data]   Unzipping corpora/stopwords.zip.\n"
          ]
        },
        {
          "output_type": "execute_result",
          "data": {
            "text/plain": [
              "True"
            ]
          },
          "metadata": {},
          "execution_count": 74
        }
      ]
    },
    {
      "cell_type": "code",
      "source": [
        "my_sentences = nltk.sent_tokenize(my_text)\n",
        "my_words_0=[]\n",
        "for a_sentence in my_sentences:\n",
        "    my_words_0 += nltk.word_tokenize(a_sentence)\n",
        "my_words_0 = [a_word for a_word in my_words_0 if len(a_word)>2 ]\n",
        "my_words_0 = [a_word for a_word in my_words_0 if a_word not in stopwords.words('english')]\n",
        "my_words_0 = [my_words_0]    # Required by Word2Vec.\n",
        "len(my_words_0[0])"
      ],
      "metadata": {
        "colab": {
          "base_uri": "https://localhost:8080/"
        },
        "id": "cQ1gKdRq2Zub",
        "outputId": "9a8f7c27-3fb7-42b2-95aa-baf3201779ea"
      },
      "execution_count": 75,
      "outputs": [
        {
          "output_type": "execute_result",
          "data": {
            "text/plain": [
              "5258"
            ]
          },
          "metadata": {},
          "execution_count": 75
        }
      ]
    },
    {
      "cell_type": "code",
      "source": [
        "my_model = Word2Vec(my_words_0, vector_size = 100, min_count=1)\n",
        "my_words = my_model.wv.key_to_index\n",
        "len(my_words)"
      ],
      "metadata": {
        "colab": {
          "base_uri": "https://localhost:8080/"
        },
        "id": "_G2xdIUG2jWq",
        "outputId": "10ffb39e-e252-45ae-e673-ba897912b725"
      },
      "execution_count": 76,
      "outputs": [
        {
          "output_type": "execute_result",
          "data": {
            "text/plain": [
              "1964"
            ]
          },
          "metadata": {},
          "execution_count": 76
        }
      ]
    },
    {
      "cell_type": "code",
      "source": [
        "# View the dense vector corresponding to 'machine'.\n",
        "my_vector = my_model.wv['machine']\n",
        "print(\"Length = \" + str(my_vector.shape[0]))\n",
        "print(\"-\"*100)\n",
        "print(my_vector)"
      ],
      "metadata": {
        "colab": {
          "base_uri": "https://localhost:8080/"
        },
        "id": "mJ1jSRWh2yNV",
        "outputId": "2e57fa5e-b3e3-4344-c2fc-d0dd35fbef1b"
      },
      "execution_count": 77,
      "outputs": [
        {
          "output_type": "stream",
          "name": "stdout",
          "text": [
            "Length = 100\n",
            "----------------------------------------------------------------------------------------------------\n",
            "[-1.28102396e-02  7.26072164e-03  4.47099749e-03  5.21528954e-03\n",
            "  9.84899979e-03 -1.34755690e-02  3.12355603e-03  1.61188692e-02\n",
            " -7.40633765e-03 -9.72411502e-03 -2.36975984e-03 -1.40827140e-02\n",
            " -7.89842568e-03  9.74442437e-03  6.10190956e-03  3.96176847e-03\n",
            "  7.68900011e-03  2.02291040e-03 -4.41724947e-03 -8.62316601e-03\n",
            "  6.18506689e-03 -4.45044972e-03  1.01166274e-02 -1.49028823e-02\n",
            "  5.79959759e-03  2.66688270e-03 -8.66138656e-03  1.69532513e-03\n",
            " -7.55965197e-03  7.07197236e-03  1.67883653e-02 -2.16963142e-03\n",
            "  2.07667821e-03 -9.31802392e-03  1.26900419e-03  8.90520122e-03\n",
            "  7.62699824e-03  1.25682831e-03  5.94698871e-03  7.40018557e-04\n",
            "  6.94200676e-03 -1.19580971e-02 -1.18549541e-02  1.45520514e-03\n",
            "  1.80267182e-03  6.13252586e-03  2.59880512e-03 -4.31457192e-05\n",
            "  4.38101823e-03  4.45334613e-03  9.90202650e-03 -1.20166298e-02\n",
            " -1.88012514e-03  4.54208534e-03 -3.83031508e-03  1.03386967e-02\n",
            "  1.22772008e-02  5.63724712e-03 -5.65512059e-03  9.45357140e-03\n",
            " -7.71062216e-03  5.78607479e-03 -6.53543696e-03 -5.00201760e-03\n",
            " -2.07499950e-03  1.02909189e-02  1.06347715e-02 -3.14899604e-03\n",
            "  1.11087295e-03  1.19034462e-02 -7.32472539e-03 -4.77681635e-03\n",
            "  1.03489328e-02  4.12950292e-03  5.12543786e-03 -5.15406299e-03\n",
            " -7.43920775e-03 -2.90795485e-03  2.64319824e-04 -3.99484020e-03\n",
            " -1.21928165e-02  3.80499079e-03  1.52303069e-03  6.24179724e-04\n",
            "  1.87853095e-03 -3.05811642e-03  1.21780834e-03 -3.95975402e-03\n",
            "  7.36116711e-03 -4.18349123e-03  7.19711417e-03  2.08264892e-03\n",
            "  2.65170657e-03 -8.60572048e-03  6.11845730e-03  8.30004923e-03\n",
            "  8.46842770e-03 -8.31591710e-03 -7.35752890e-03  2.93948711e-03]\n"
          ]
        }
      ]
    },
    {
      "cell_type": "code",
      "source": [
        "my_model.wv.most_similar('learning')"
      ],
      "metadata": {
        "colab": {
          "base_uri": "https://localhost:8080/"
        },
        "id": "XUqqCc_q25B5",
        "outputId": "a39d9588-d056-4864-c95f-9a30ef4c2f4c"
      },
      "execution_count": 78,
      "outputs": [
        {
          "output_type": "execute_result",
          "data": {
            "text/plain": [
              "[('class', 0.48813140392303467),\n",
              " ('artificial', 0.4567732810974121),\n",
              " ('classification', 0.4334268271923065),\n",
              " ('set', 0.43220195174217224),\n",
              " ('machine', 0.42736199498176575),\n",
              " ('algorithm', 0.4273504912853241),\n",
              " ('regression', 0.4111303687095642),\n",
              " ('data', 0.40256381034851074),\n",
              " ('various', 0.4001810848712921),\n",
              " ('system', 0.4000760614871979)]"
            ]
          },
          "metadata": {},
          "execution_count": 78
        }
      ]
    },
    {
      "cell_type": "code",
      "source": [
        "my_model.wv.most_similar('artificial')"
      ],
      "metadata": {
        "colab": {
          "base_uri": "https://localhost:8080/"
        },
        "id": "XWaCFj-f3CWj",
        "outputId": "472b6e8a-82ed-4f86-ba9d-e21a403b0695"
      },
      "execution_count": 79,
      "outputs": [
        {
          "output_type": "execute_result",
          "data": {
            "text/plain": [
              "[('learning', 0.4567732512950897),\n",
              " ('support', 0.43997785449028015),\n",
              " ('various', 0.3812539875507355),\n",
              " ('research', 0.3528580367565155),\n",
              " ('include', 0.340202271938324),\n",
              " ('ethical', 0.3290305435657501),\n",
              " ('attempted', 0.3288049101829529),\n",
              " ('chooses', 0.32751932740211487),\n",
              " ('anomaly', 0.3256983160972595),\n",
              " ('likelihood', 0.3135204017162323)]"
            ]
          },
          "metadata": {},
          "execution_count": 79
        }
      ]
    },
    {
      "cell_type": "code",
      "source": [
        "# Operation:\n",
        "# global - cooling + warming = ???\n",
        "my_model.wv.most_similar(positive=['machine','human'], negative= ['learning'])"
      ],
      "metadata": {
        "colab": {
          "base_uri": "https://localhost:8080/"
        },
        "id": "25OGmrMU3KL4",
        "outputId": "342de590-5e07-4a9c-8c76-aa1c6f52341d"
      },
      "execution_count": 80,
      "outputs": [
        {
          "output_type": "execute_result",
          "data": {
            "text/plain": [
              "[('reproduce', 0.33942070603370667),\n",
              " ('reshaping', 0.3359433114528656),\n",
              " ('three', 0.3154263198375702),\n",
              " ('also', 0.28154221177101135),\n",
              " ('neural', 0.27710479497909546),\n",
              " ('respect', 0.27153480052948),\n",
              " ('decision', 0.26702046394348145),\n",
              " ('owners', 0.26604509353637695),\n",
              " ('beliefs', 0.26437443494796753),\n",
              " ('store', 0.26291391253471375)]"
            ]
          },
          "metadata": {},
          "execution_count": 80
        }
      ]
    },
    {
      "cell_type": "code",
      "source": [
        "from google.colab import drive\n",
        "drive.mount('/content/drive')"
      ],
      "metadata": {
        "colab": {
          "base_uri": "https://localhost:8080/"
        },
        "id": "NYmdDgrz3So5",
        "outputId": "e2bd96aa-3608-40dc-f708-f7b1b2ce4f11"
      },
      "execution_count": 81,
      "outputs": [
        {
          "output_type": "stream",
          "name": "stdout",
          "text": [
            "Mounted at /content/drive\n"
          ]
        }
      ]
    },
    {
      "cell_type": "code",
      "source": [
        "# Load the file.\n",
        "filename = \"/content/GoogleNews-vectors-negative300.bin\"\n",
        "a_model = KeyedVectors.load_word2vec_format(filename, binary=True)"
      ],
      "metadata": {
        "id": "S_ETDI2U3SDs"
      },
      "execution_count": 82,
      "outputs": []
    },
    {
      "cell_type": "code",
      "source": [
        "# The most similar words to 'king' or 'kings'.\n",
        "a_model.most_similar(['king','kings'])"
      ],
      "metadata": {
        "colab": {
          "base_uri": "https://localhost:8080/"
        },
        "id": "2ZWnvNhR3_lM",
        "outputId": "4108525c-34f6-4e7c-a8bf-3ce113a3714c"
      },
      "execution_count": 83,
      "outputs": [
        {
          "output_type": "execute_result",
          "data": {
            "text/plain": [
              "[('princes', 0.6491755247116089),\n",
              " ('queen', 0.6316932439804077),\n",
              " ('monarch', 0.5960378646850586),\n",
              " ('queens', 0.5806739926338196),\n",
              " ('monarchs', 0.5739458799362183),\n",
              " ('prince', 0.560089647769928),\n",
              " ('ruler', 0.5597525835037231),\n",
              " ('sultan', 0.5568172931671143),\n",
              " ('kings_princes', 0.552049994468689),\n",
              " ('emperors', 0.5400723814964294)]"
            ]
          },
          "metadata": {},
          "execution_count": 83
        }
      ]
    },
    {
      "cell_type": "code",
      "source": [
        "# Operation: queen(queens) - woman(women) + man(men) = ???\n",
        "a_model.most_similar(positive=['queen','queens','man','men'], negative= ['woman','women'])"
      ],
      "metadata": {
        "colab": {
          "base_uri": "https://localhost:8080/"
        },
        "id": "aAWKIKH44b25",
        "outputId": "6f65c01c-ec8f-42d0-961f-342926105595"
      },
      "execution_count": 84,
      "outputs": [
        {
          "output_type": "execute_result",
          "data": {
            "text/plain": [
              "[('kings', 0.6578558683395386),\n",
              " ('king', 0.6328856945037842),\n",
              " ('princes', 0.5353103876113892),\n",
              " ('Senti_pocket', 0.512298047542572),\n",
              " ('princesses', 0.49174803495407104),\n",
              " ('jesters', 0.48247599601745605),\n",
              " ('queens_princes', 0.4717157781124115),\n",
              " ('princess', 0.46906545758247375),\n",
              " ('monarchs', 0.46611741185188293),\n",
              " ('prince', 0.4655950367450714)]"
            ]
          },
          "metadata": {},
          "execution_count": 84
        }
      ]
    },
    {
      "cell_type": "markdown",
      "source": [
        "Lunes vamos a ver https://github.com/davidlealo/sic_ai_2025_jun/blob/main/04pln/clase_29.ipynb"
      ],
      "metadata": {
        "id": "OvUeDz_X48nT"
      }
    },
    {
      "cell_type": "markdown",
      "source": [
        "Esto también https://github.com/davidlealo/sic_ai_2025_jun/blob/main/04pln/clase_30.ipynb"
      ],
      "metadata": {
        "id": "rsrK7VWS5B1e"
      }
    },
    {
      "cell_type": "code",
      "source": [],
      "metadata": {
        "id": "92bBl6f34-Qv"
      },
      "execution_count": null,
      "outputs": []
    }
  ]
}