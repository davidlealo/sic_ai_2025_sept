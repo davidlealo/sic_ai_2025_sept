{
  "nbformat": 4,
  "nbformat_minor": 0,
  "metadata": {
    "colab": {
      "provenance": [],
      "machine_shape": "hm",
      "gpuType": "A100",
      "authorship_tag": "ABX9TyPPtYo3xL0WW5is647WcexN",
      "include_colab_link": true
    },
    "kernelspec": {
      "name": "python3",
      "display_name": "Python 3"
    },
    "language_info": {
      "name": "python"
    },
    "accelerator": "GPU"
  },
  "cells": [
    {
      "cell_type": "markdown",
      "metadata": {
        "id": "view-in-github",
        "colab_type": "text"
      },
      "source": [
        "<a href=\"https://colab.research.google.com/github/davidlealo/sic_ai_2025_sept/blob/main/4_pnl/clase_25.ipynb\" target=\"_parent\"><img src=\"https://colab.research.google.com/assets/colab-badge.svg\" alt=\"Open In Colab\"/></a>"
      ]
    },
    {
      "cell_type": "markdown",
      "source": [
        "# Primera clase de PLN"
      ],
      "metadata": {
        "id": "dScP-YurfoeK"
      }
    },
    {
      "cell_type": "markdown",
      "source": [
        "![verbos http](https://gautambiztalkblog.wordpress.com/wp-content/uploads/2015/03/crud.jpg)"
      ],
      "metadata": {
        "id": "0MXsE574kpJ_"
      }
    },
    {
      "cell_type": "markdown",
      "source": [
        "# Explicación detallada de la librería `requests` (Python) — en Markdown\n",
        "\n",
        "requests es la librería HTTP más usada en el ecosistema Python para realizar peticiones HTTP de forma sencilla y legible. Proporciona una API de alto nivel que abstrae los detalles de urllib3/httplib y facilita tareas comunes: GET/POST, manejo de encabezados, cookies, sesiones, subida/descarga de ficheros, autenticación, timeouts, etc.\n",
        "\n",
        "## Instalación\n",
        "\n",
        "```bash\n",
        "pip install requests\n",
        "```\n",
        "\n",
        "## Conceptos básicos\n",
        "\n",
        "### GET con parámetros\n",
        "\n",
        "```python\n",
        "params = {\"q\": \"python requests\", \"page\": 1}\n",
        "resp = requests.get(\"https://api.example.com/search\", params=params)\n",
        "```\n",
        "\n",
        "### POST con JSON\n",
        "\n",
        "```python\n",
        "payload = {\"name\": \"Alice\", \"age\": 30}\n",
        "resp = requests.post(\"https://api.example.com/users\", json=payload)\n",
        "```\n",
        "\n",
        "## Interpretación de la respuesta\n",
        "\n",
        "```python\n",
        "resp.status_code\n",
        "resp.json()\n",
        "resp.text\n",
        "resp.raise_for_status()\n",
        "```\n",
        "\n",
        "## Manejo de excepciones\n",
        "\n",
        "```python\n",
        "try:\n",
        "    resp = requests.get(url, timeout=3)\n",
        "    resp.raise_for_status()\n",
        "except requests.Timeout:\n",
        "    print(\"Timeout\")\n",
        "except requests.RequestException as e:\n",
        "    print(\"Error:\", e)\n",
        "```\n",
        "\n",
        "## Sessions\n",
        "\n",
        "```python\n",
        "with requests.Session() as s:\n",
        "    s.headers.update({\"User-Agent\": \"mi-app/1.0\"})\n",
        "    resp = s.get(\"https://api.example.com\")\n",
        "```\n",
        "\n",
        "## Subida y descarga de ficheros\n",
        "\n",
        "```python\n",
        "files = {\"file\": (\"data.csv\", open(\"data.csv\", \"rb\"), \"text/csv\")}\n",
        "requests.post(\"https://example.com/upload\", files=files)\n",
        "```\n",
        "\n",
        "```python\n",
        "resp = requests.get(url, stream=True)\n",
        "with open(\"archivo.bin\", \"wb\") as f:\n",
        "    for chunk in resp.iter_content(8192):\n",
        "        f.write(chunk)\n",
        "```\n",
        "\n",
        "## Autenticación y SSL\n",
        "\n",
        "```python\n",
        "resp = requests.get(\"https://api.example.com\", auth=(\"user\", \"pass\"))\n",
        "requests.get(\"https://insecure.com\", verify=False)\n",
        "```\n",
        "\n",
        "## Buenas prácticas\n",
        "\n",
        "1. Usar Session para varias peticiones.\n",
        "2. Especificar siempre timeout.\n",
        "3. Manejar excepciones.\n",
        "4. No desactivar SSL sin motivo.\n",
        "5. Usar reintentos (Retry + HTTPAdapter).\n",
        "\n"
      ],
      "metadata": {
        "id": "Zxg18ogenniW"
      }
    },
    {
      "cell_type": "code",
      "execution_count": 8,
      "metadata": {
        "id": "G4ROeeDCfmz6"
      },
      "outputs": [],
      "source": [
        "import requests as rq\n"
      ]
    },
    {
      "cell_type": "code",
      "source": [
        "res = rq.get(\"https://en.wikipedia.org/wiki/Machine_learning\")"
      ],
      "metadata": {
        "id": "QnUlhgpZmWuy"
      },
      "execution_count": 9,
      "outputs": []
    },
    {
      "cell_type": "code",
      "source": [
        "res.status_code"
      ],
      "metadata": {
        "colab": {
          "base_uri": "https://localhost:8080/"
        },
        "id": "OgA4ApCAnUbV",
        "outputId": "00006b03-cbae-4193-9af4-77fef1e00169"
      },
      "execution_count": 10,
      "outputs": [
        {
          "output_type": "execute_result",
          "data": {
            "text/plain": [
              "403"
            ]
          },
          "metadata": {},
          "execution_count": 10
        }
      ]
    },
    {
      "cell_type": "code",
      "source": [
        "import requests as rq\n",
        "\n",
        "url = \"https://en.wikipedia.org/wiki/Machine_learning\"\n",
        "headers = {\n",
        "    \"User-Agent\": \"Mozilla/5.0 (Macintosh; Intel Mac OS X 10_15_7) \"\n",
        "                  \"AppleWebKit/537.36 (KHTML, like Gecko) \"\n",
        "                  \"Chrome/118.0.0.0 Safari/537.36\"\n",
        "}\n",
        "\n",
        "res = rq.get(url, headers=headers)\n",
        "print(res.status_code)\n"
      ],
      "metadata": {
        "colab": {
          "base_uri": "https://localhost:8080/"
        },
        "id": "LI586Y0IoX_h",
        "outputId": "058e890b-0b60-4937-d25f-4d6f1ef121eb"
      },
      "execution_count": 14,
      "outputs": [
        {
          "output_type": "stream",
          "name": "stdout",
          "text": [
            "200\n"
          ]
        }
      ]
    },
    {
      "cell_type": "code",
      "source": [
        "# Si quieres comprender los códigos de estatus de http, con gatos -->"
      ],
      "metadata": {
        "id": "8HDyNVU7ovVY"
      },
      "execution_count": null,
      "outputs": []
    },
    {
      "cell_type": "markdown",
      "source": [
        "https://http.cat/"
      ],
      "metadata": {
        "id": "3gGtvUNNozjL"
      }
    },
    {
      "cell_type": "markdown",
      "source": [
        "# Parámetros de `requests.get()` en Python\n",
        "\n",
        "La función `requests.get()` permite realizar solicitudes HTTP GET y\n",
        "admite varios parámetros opcionales que controlan cómo se envía la\n",
        "solicitud.\n",
        "\n",
        "------------------------------------------------------------------------\n",
        "\n",
        "## Sintaxis general\n",
        "\n",
        "``` python\n",
        "requests.get(\n",
        "    url,\n",
        "    params=None,\n",
        "    headers=None,\n",
        "    cookies=None,\n",
        "    auth=None,\n",
        "    timeout=None,\n",
        "    allow_redirects=True,\n",
        "    proxies=None,\n",
        "    verify=True,\n",
        "    stream=False,\n",
        "    cert=None\n",
        ")\n",
        "```\n",
        "\n",
        "------------------------------------------------------------------------\n",
        "\n",
        "## Parámetros principales\n",
        "\n",
        "### `url` (`str`)\n",
        "\n",
        "**Obligatorio.** Dirección web del recurso al que se realiza la\n",
        "solicitud.\n",
        "\n",
        "------------------------------------------------------------------------\n",
        "\n",
        "### `params` (`dict` o `list`)\n",
        "\n",
        "Parámetros que se añaden automáticamente a la URL como *query string*.\n",
        "\n",
        "``` python\n",
        "params = {'q': 'python', 'page': 2}\n",
        "# Resultado: ?q=python&page=2\n",
        "```\n",
        "\n",
        "------------------------------------------------------------------------\n",
        "\n",
        "### `headers` (`dict`)\n",
        "\n",
        "Encabezados HTTP personalizados que se envían con la solicitud.\n",
        "\n",
        "``` python\n",
        "headers = {'User-Agent': 'MiApp/1.0'}\n",
        "```\n",
        "\n",
        "------------------------------------------------------------------------\n",
        "\n",
        "### `cookies` (`dict` o `CookieJar`)\n",
        "\n",
        "Cookies enviadas junto con la solicitud.\n",
        "\n",
        "------------------------------------------------------------------------\n",
        "\n",
        "### `auth` (`tuple` o `objeto Auth`)\n",
        "\n",
        "Autenticación HTTP básica o personalizada.\n",
        "\n",
        "``` python\n",
        "auth = ('usuario', 'contraseña')\n",
        "```\n",
        "\n",
        "------------------------------------------------------------------------\n",
        "\n",
        "### `timeout` (`float` o `(float, float)`)\n",
        "\n",
        "Tiempo máximo de espera en segundos antes de que la solicitud falle.\n",
        "\n",
        "``` python\n",
        "timeout = 5          # Tiempo total\n",
        "timeout = (3.05, 27) # (conexión, lectura)\n",
        "```\n",
        "\n",
        "------------------------------------------------------------------------\n",
        "\n",
        "### `allow_redirects` (`bool`)\n",
        "\n",
        "Indica si se deben seguir redirecciones automáticas.\\\n",
        "**Valor por defecto:** `True`.\n",
        "\n",
        "------------------------------------------------------------------------\n",
        "\n",
        "### `proxies` (`dict`)\n",
        "\n",
        "Define los servidores proxy a utilizar.\n",
        "\n",
        "``` python\n",
        "proxies = {'http': 'http://10.10.1.10:3128'}\n",
        "```\n",
        "\n",
        "------------------------------------------------------------------------\n",
        "\n",
        "### `verify` (`bool` o `str`)\n",
        "\n",
        "Verifica el certificado SSL.\\\n",
        "Usa `False` para omitir (no recomendado) o un path a un certificado.\n",
        "\n",
        "------------------------------------------------------------------------\n",
        "\n",
        "### `stream` (`bool`)\n",
        "\n",
        "Descarga la respuesta por partes en lugar de hacerlo completamente en\n",
        "memoria.\\\n",
        "Útil para archivos grandes.\n",
        "\n",
        "------------------------------------------------------------------------\n",
        "\n",
        "### `cert` (`str` o `tuple`)\n",
        "\n",
        "Certificado del cliente para autenticación SSL.\n",
        "\n",
        "``` python\n",
        "cert = ('cert.pem', 'key.pem')\n",
        "```\n",
        "\n",
        "------------------------------------------------------------------------\n",
        "\n",
        "## Ejemplo de uso completo\n",
        "\n",
        "``` python\n",
        "import requests\n",
        "\n",
        "url = \"https://api.github.com/search/repositories\"\n",
        "params = {'q': 'requests', 'sort': 'stars'}\n",
        "headers = {'User-Agent': 'mi-aplicacion'}\n",
        "\n",
        "response = requests.get(url, params=params, headers=headers, timeout=5)\n",
        "\n",
        "print(response.status_code)  # 200 si fue exitosa\n",
        "print(response.url)          # URL final con parámetros\n",
        "print(response.json())       # Contenido en formato JSON\n",
        "```\n"
      ],
      "metadata": {
        "id": "YYayi1lFpjCW"
      }
    },
    {
      "cell_type": "code",
      "source": [
        "import requests as rq\n",
        "\n",
        "url = \"https://en.wikipedia.org/wiki/Machine_learning\"\n",
        "headers = {\n",
        "    \"User-Agent\": \"Mozilla/5.0 (Macintosh; Intel Mac OS X 10_15_7) \"\n",
        "                  \"AppleWebKit/537.36 (KHTML, like Gecko) \"\n",
        "                  \"Chrome/118.0.0.0 Safari/537.36\"\n",
        "}\n",
        "\n",
        "res = rq.get(url, headers=headers)\n",
        "print(res.status_code)\n"
      ],
      "metadata": {
        "colab": {
          "base_uri": "https://localhost:8080/"
        },
        "id": "xHtZH92rq8FD",
        "outputId": "671c4b3f-e150-46c9-b9b4-b5ff7ed6441e"
      },
      "execution_count": 17,
      "outputs": [
        {
          "output_type": "stream",
          "name": "stdout",
          "text": [
            "200\n"
          ]
        }
      ]
    },
    {
      "cell_type": "code",
      "source": [
        "res.text"
      ],
      "metadata": {
        "id": "QTo5ErFprNm7"
      },
      "execution_count": null,
      "outputs": []
    },
    {
      "cell_type": "markdown",
      "source": [
        "![Imagen estructura HTML](https://disenowebakus.net/imagenes/articulos/estructura-basica-de-una-pagina-web-en-html.jpg)"
      ],
      "metadata": {
        "id": "MQZhSun-sKFJ"
      }
    },
    {
      "cell_type": "code",
      "source": [
        "# Si quieres conocer etiquetas html revisa"
      ],
      "metadata": {
        "id": "PDHGUqN_sLQN"
      },
      "execution_count": null,
      "outputs": []
    },
    {
      "cell_type": "markdown",
      "source": [
        "https://allthetags.com/"
      ],
      "metadata": {
        "id": "0_CnuDenszaM"
      }
    },
    {
      "cell_type": "code",
      "source": [
        "# Ver https://beautiful-soup-4.readthedocs.io/en/latest/"
      ],
      "metadata": {
        "id": "QjZWNRcmsz42"
      },
      "execution_count": null,
      "outputs": []
    },
    {
      "cell_type": "code",
      "source": [
        "import requests as rq\n",
        "\n",
        "url = \"https://en.wikipedia.org/wiki/Machine_learning\"\n",
        "headers = {\n",
        "    \"User-Agent\": \"Mozilla/5.0 (Macintosh; Intel Mac OS X 10_15_7) \"\n",
        "                  \"AppleWebKit/537.36 (KHTML, like Gecko) \"\n",
        "                  \"Chrome/118.0.0.0 Safari/537.36\"\n",
        "}\n",
        "\n",
        "res = rq.get(url, headers=headers)\n",
        "print(res.status_code)"
      ],
      "metadata": {
        "colab": {
          "base_uri": "https://localhost:8080/"
        },
        "id": "cWRWjcvv5fUi",
        "outputId": "16e5a3cd-4111-4ba7-832a-eef7b7890c3e"
      },
      "execution_count": 20,
      "outputs": [
        {
          "output_type": "stream",
          "name": "stdout",
          "text": [
            "200\n"
          ]
        }
      ]
    },
    {
      "cell_type": "code",
      "source": [
        "from bs4 import BeautifulSoup\n",
        "soup = BeautifulSoup(res.text, 'html.parser')\n"
      ],
      "metadata": {
        "id": "ubBs302O5gkK"
      },
      "execution_count": 24,
      "outputs": []
    },
    {
      "cell_type": "code",
      "source": [
        "soup"
      ],
      "metadata": {
        "id": "tcA5W3bs6Vuj"
      },
      "execution_count": null,
      "outputs": []
    },
    {
      "cell_type": "code",
      "source": [
        "divs = soup.find_all(\"div\", class_=lambda c: c and \"mw-heading\" in c and \"mw-heading2\" in c)\n",
        "\n",
        "for div in divs:\n",
        "    print(div.get_text(strip=True))"
      ],
      "metadata": {
        "colab": {
          "base_uri": "https://localhost:8080/"
        },
        "id": "PXrOYr3R6Jue",
        "outputId": "323653f2-7519-411e-c2e3-346146e8d539"
      },
      "execution_count": 34,
      "outputs": [
        {
          "output_type": "stream",
          "name": "stdout",
          "text": [
            "History[edit]\n",
            "Relationships to other fields[edit]\n",
            "Theory[edit]\n",
            "Approaches[edit]\n",
            "Models[edit]\n",
            "Applications[edit]\n",
            "Limitations[edit]\n",
            "Model assessments[edit]\n",
            "Ethics[edit]\n",
            "Hardware[edit]\n",
            "Software[edit]\n",
            "Journals[edit]\n",
            "Conferences[edit]\n",
            "See also[edit]\n",
            "References[edit]\n",
            "Sources[edit]\n",
            "Further reading[edit]\n",
            "External links[edit]\n"
          ]
        }
      ]
    },
    {
      "cell_type": "code",
      "source": [
        "t = soup.find_all(\"p\")"
      ],
      "metadata": {
        "id": "Y_-jmmyT7io1"
      },
      "execution_count": 35,
      "outputs": []
    },
    {
      "cell_type": "code",
      "source": [
        "text = ''"
      ],
      "metadata": {
        "id": "tLZVOlx07ycL"
      },
      "execution_count": 37,
      "outputs": []
    },
    {
      "cell_type": "code",
      "source": [
        "for i in range(len(t)):\n",
        "  text += t[i].text.strip() + '\\n'"
      ],
      "metadata": {
        "id": "fjpR1FKT72XH"
      },
      "execution_count": 39,
      "outputs": []
    },
    {
      "cell_type": "code",
      "source": [
        "print(text)"
      ],
      "metadata": {
        "id": "8rlx3-Eq8RhK"
      },
      "execution_count": null,
      "outputs": []
    },
    {
      "cell_type": "code",
      "source": [
        "import requests as rq\n",
        "\n",
        "res = rq.get(\"https://en.wikipedia.org/wiki/Samsung\", headers={\n",
        "    \"User-Agent\": \"Mozilla/5.0 (Macintosh; Intel Mac OS X 10_15_7) \"\n",
        "                  \"AppleWebKit/537.36 (KHTML, like Gecko) \"\n",
        "                  \"Chrome/118.0.0.0 Safari/537.36\"\n",
        "})\n",
        "\n",
        "from bs4 import BeautifulSoup\n",
        "\n",
        "soup = BeautifulSoup(res.text, 'html.parser')\n",
        "\n",
        "t = soup.find_all(\"p\")\n",
        "text = ''\n",
        "\n",
        "for i in range(len(t)):\n",
        "  text += t[i].text.strip() + '\\n'\n",
        "\n",
        "print(text)"
      ],
      "metadata": {
        "id": "if2ubtSX8r01"
      },
      "execution_count": null,
      "outputs": []
    },
    {
      "cell_type": "markdown",
      "source": [
        "![Códigos de status de requests](https://encrypted-tbn0.gstatic.com/images?q=tbn:ANd9GcT2oPHcwlYQadHfInt1EeqLdH1TiaPYpV1LZA&s)"
      ],
      "metadata": {
        "id": "6Vlx9rok_ysF"
      }
    },
    {
      "cell_type": "markdown",
      "source": [
        "# llegamos hasta la slide 25"
      ],
      "metadata": {
        "id": "3yvR7C8hC_Tg"
      }
    },
    {
      "cell_type": "code",
      "source": [],
      "metadata": {
        "id": "kQumHIXhCyEw"
      },
      "execution_count": null,
      "outputs": []
    }
  ]
}