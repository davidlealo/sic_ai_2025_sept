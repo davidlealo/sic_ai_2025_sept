{
  "nbformat": 4,
  "nbformat_minor": 0,
  "metadata": {
    "colab": {
      "provenance": [],
      "authorship_tag": "ABX9TyP5DD84blssJjba/M/iC9vR",
      "include_colab_link": true
    },
    "kernelspec": {
      "name": "python3",
      "display_name": "Python 3"
    },
    "language_info": {
      "name": "python"
    }
  },
  "cells": [
    {
      "cell_type": "markdown",
      "metadata": {
        "id": "view-in-github",
        "colab_type": "text"
      },
      "source": [
        "<a href=\"https://colab.research.google.com/github/davidlealo/sic_ai_2025_sept/blob/main/4_pnl/clase_26.ipynb\" target=\"_parent\"><img src=\"https://colab.research.google.com/assets/colab-badge.svg\" alt=\"Open In Colab\"/></a>"
      ]
    },
    {
      "cell_type": "markdown",
      "source": [
        "# Clase 26\n",
        "\n",
        "\n",
        "Expresiones regulares\n",
        "https://docs.python.org/3/library/stdtypes.html#text-sequence-type-str"
      ],
      "metadata": {
        "id": "bRg_HbRaor26"
      }
    },
    {
      "cell_type": "markdown",
      "source": [
        "\n",
        "# Manipulación de Cadenas en Python\n",
        "\n",
        "Python ofrece una gran variedad de métodos para trabajar con cadenas de texto, fundamentales para el procesamiento de datos.\n",
        "\n",
        "## Métodos Comunes de Cadenas\n",
        "\n",
        "| Función                  | Explicación                                                                 |\n",
        "|--------------------------|------------------------------------------------------------------------------|\n",
        "| `x.lstrip()`             | Elimina espacios a la izquierda.                                            |\n",
        "| `x.rstrip()`             | Elimina espacios a la derecha.                                              |\n",
        "| `x.strip()`              | Elimina espacios en ambos lados.                                            |\n",
        "| `x.replace(str1, str2)`  | Reemplaza la subcadena `str1` por `str2`.                                   |\n",
        "| `x.count(str)`           | Cuenta cuántas veces aparece `str` en `x`.                                  |\n",
        "| `x.find(str)`            | Devuelve el índice de la primera ocurrencia de `str`, o `-1` si no existe.  |\n",
        "| `x.index(str)`           | Igual que `find`, pero lanza un error si `str` no se encuentra.             |\n",
        "| `y.join(str_list)`       | Une los elementos de `str_list` usando `y` como separador.                  |\n",
        "| `x.split(y)`             | Divide la cadena `x` usando `y` como separador.                             |\n",
        "| `x.upper()`              | Convierte la cadena a mayúsculas.                                           |\n",
        "| `x.lower()`              | Convierte la cadena a minúsculas.                                           |\n",
        "| `len(x)`                 | Devuelve la longitud de la cadena.                                          |\n",
        "\n",
        "## Aplicaciones Prácticas\n",
        "\n",
        "### Ejercicio 1: Limpieza de texto\n",
        "```python\n",
        "texto = \"   Hola mundo   \"\n",
        "print(texto.strip())\n",
        "```\n",
        "\n",
        "### Ejercicio 2: Reemplazo y conteo\n",
        "```python\n",
        "frase = \"python es genial, python es fácil\"\n",
        "print(frase.replace(\"python\", \"Python\"))\n",
        "print(frase.count(\"python\"))\n",
        "```\n",
        "\n",
        "### Ejercicio 3: Búsqueda\n",
        "```python\n",
        "mensaje = \"Bienvenido al curso de Python\"\n",
        "print(mensaje.find(\"curso\"))\n",
        "print(mensaje.index(\"Python\"))\n",
        "```\n",
        "\n",
        "### Ejercicio 4: Join y Split\n",
        "```python\n",
        "palabras = [\"hola\", \"mundo\"]\n",
        "frase = \"-\".join(palabras)\n",
        "print(frase)\n",
        "\n",
        "print(frase.split(\"-\"))\n",
        "```\n",
        "\n",
        "### Ejercicio 5: Mayúsculas y minúsculas\n",
        "```python\n",
        "x = \"Python\"\n",
        "print(x.upper())\n",
        "print(x.lower())\n",
        "```\n",
        "\n",
        "### Ejercicio 6: Longitud de la cadena\n",
        "```python\n",
        "mensaje = \"Esto es una prueba\"\n",
        "print(len(mensaje))\n",
        "```\n",
        "\n",
        "## Expresiones Regulares\n",
        "\n",
        "Las expresiones regulares son herramientas potentes para buscar patrones dentro de texto.\n",
        "\n",
        "### Metacaracteres Comunes\n",
        "\n",
        "```\n",
        ". ^ $ * + ? { } [ ] \\ | ( )\n",
        "```\n",
        "\n",
        "Estos caracteres tienen significados especiales y permiten construir patrones complejos.\n",
        "\n",
        "Más información en: https://docs.python.org/3/howto/regex.html\n",
        "\n",
        "## Ejercicios con Expresiones Regulares\n",
        "\n",
        "### Ejercicio 7: Buscar números en texto\n",
        "```python\n",
        "import re\n",
        "\n",
        "texto = \"La temperatura es de 28 grados hoy.\"\n",
        "resultado = re.findall(r\"\\d+\", texto)\n",
        "print(resultado)\n",
        "```\n",
        "\n",
        "### Ejercicio 8: Validar un correo electrónico\n",
        "```python\n",
        "import re\n",
        "\n",
        "correo = \"usuario@dominio.com\"\n",
        "patron = r\"^[\\w\\.-]+@[\\w\\.-]+\\.\\w+$\"\n",
        "print(re.match(patron, correo) is not None)\n",
        "```\n",
        "\n",
        "### Ejercicio 9: Reemplazar espacios por guiones\n",
        "```python\n",
        "import re\n",
        "\n",
        "frase = \"texto con varios espacios\"\n",
        "print(re.sub(r\"\\s+\", \"-\", frase))\n",
        "```\n",
        "\n",
        "### Ejercicio 10: Extraer datos de texto estructurado\n",
        "```python\n",
        "import re\n",
        "\n",
        "texto = \"Nombre: Juan, Edad: 35, Correo: juan@mail.com\"\n",
        "nombre = re.findall(r\"Nombre: (\\w+)\", texto)\n",
        "edad = re.findall(r\"Edad: (\\d+)\", texto)\n",
        "correo = re.findall(r\"Correo: ([\\w.-]+@[\\w.-]+\\.\\w+)\", texto)\n",
        "\n",
        "print(nombre, edad, correo)\n",
        "```\n",
        "\n",
        "### Ejercicio 11: Detectar palabras que empiecen con mayúscula\n",
        "```python\n",
        "import re\n",
        "\n",
        "texto = \"Mi nombre es Carlos y vivo en Santiago\"\n",
        "palabras = re.findall(r\"\\b[A-Z][a-z]+\\b\", texto)\n",
        "print(palabras)\n",
        "```\n",
        "\n",
        "### Ejercicio 12: Detectar fechas en formato dd/mm/aaaa\n",
        "```python\n",
        "import re\n",
        "\n",
        "texto = \"Fechas: 25/12/2025, 01/01/2026\"\n",
        "fechas = re.findall(r\"\\b\\d{2}/\\d{2}/\\d{4}\\b\", texto)\n",
        "print(fechas)\n",
        "```\n",
        "\n",
        "## Desafío Final\n",
        "\n",
        "Dado el siguiente texto:\n",
        "\n",
        "```python\n",
        "texto = \"Estudiante: Maria, Edad: 21, Email: maria23@gmail.com\"\n",
        "```\n",
        "\n",
        "1. Extrae el nombre usando `split()` o `find()`.\n",
        "2. Extrae el número de edad usando una expresión regular.\n",
        "3. Verifica si el correo electrónico es válido con regex.\n"
      ],
      "metadata": {
        "id": "77h3h9jRo3Lu"
      }
    },
    {
      "cell_type": "code",
      "execution_count": 1,
      "metadata": {
        "colab": {
          "base_uri": "https://localhost:8080/"
        },
        "id": "J49jTxTpobCc",
        "outputId": "2c5feb2b-e3ac-4f2f-87af-7e777b6deb7a"
      },
      "outputs": [
        {
          "output_type": "stream",
          "name": "stdout",
          "text": [
            "Hola mundo   \n"
          ]
        }
      ],
      "source": [
        "# Eliminar espacios a la izquierda\n",
        "\n",
        "texto = \"   Hola mundo   \"\n",
        "print(texto.lstrip())"
      ]
    },
    {
      "cell_type": "code",
      "source": [
        "# Eliminar espacios a la derecha\n",
        "\n",
        "texto = \"   Hola mundo   \"\n",
        "print(texto.rstrip())"
      ],
      "metadata": {
        "colab": {
          "base_uri": "https://localhost:8080/"
        },
        "id": "cMv5cRfQpaxW",
        "outputId": "3a590b24-6ea7-45b3-b181-6f70636c5553"
      },
      "execution_count": 2,
      "outputs": [
        {
          "output_type": "stream",
          "name": "stdout",
          "text": [
            "   Hola mundo\n"
          ]
        }
      ]
    },
    {
      "cell_type": "code",
      "source": [
        "# Eliminar espacios a ambos lados\n",
        "\n",
        "texto = \"   Hola mundo   \"\n",
        "print(texto.strip())"
      ],
      "metadata": {
        "colab": {
          "base_uri": "https://localhost:8080/"
        },
        "id": "J7ThBNWBpfp7",
        "outputId": "2c23c112-39d2-4ab2-8bac-2915e27e425f"
      },
      "execution_count": 3,
      "outputs": [
        {
          "output_type": "stream",
          "name": "stdout",
          "text": [
            "Hola mundo\n"
          ]
        }
      ]
    },
    {
      "cell_type": "code",
      "source": [
        "# Reemplazar un string por otro y contar\n",
        "\n",
        "frase = \"python es genial, python es fácil\"\n",
        "print(frase.replace(\"python\", \"Python\"))\n",
        "print(frase.count(\"python\"))"
      ],
      "metadata": {
        "colab": {
          "base_uri": "https://localhost:8080/"
        },
        "id": "T4ysIHxkrz35",
        "outputId": "ee840c0d-f036-4f8b-e410-d10839703cfd"
      },
      "execution_count": 8,
      "outputs": [
        {
          "output_type": "stream",
          "name": "stdout",
          "text": [
            "Python es genial, Python es fácil\n",
            "2\n"
          ]
        }
      ]
    },
    {
      "cell_type": "code",
      "source": [
        "mensaje = \"Bienvenido al curso de Python\"\n",
        "print(mensaje.find(\"curso\")) # Índice de la primera ocurrencia\n",
        "print(mensaje.index(\"Python\")) # Índice de la primera ocurrencia"
      ],
      "metadata": {
        "colab": {
          "base_uri": "https://localhost:8080/"
        },
        "id": "M-PVAmzes65_",
        "outputId": "bb10db16-ebdc-4ee4-c5c3-9ecb2802bc93"
      },
      "execution_count": 10,
      "outputs": [
        {
          "output_type": "stream",
          "name": "stdout",
          "text": [
            "14\n",
            "23\n"
          ]
        }
      ]
    },
    {
      "cell_type": "code",
      "source": [
        "palabras = [\"hola\", \"mundo\"]\n",
        "frase = \"-\".join(palabras)\n",
        "print(frase)\n",
        "\n",
        "print(frase.split(\"-\"))"
      ],
      "metadata": {
        "colab": {
          "base_uri": "https://localhost:8080/"
        },
        "id": "NaKwwi1GtXeU",
        "outputId": "2f7f5302-214d-4ad5-f833-066fa519aaea"
      },
      "execution_count": 11,
      "outputs": [
        {
          "output_type": "stream",
          "name": "stdout",
          "text": [
            "hola-mundo\n",
            "['hola', 'mundo']\n"
          ]
        }
      ]
    },
    {
      "cell_type": "code",
      "source": [
        "x = \"Python\"\n",
        "print(x.upper())\n",
        "print(x.lower())"
      ],
      "metadata": {
        "colab": {
          "base_uri": "https://localhost:8080/"
        },
        "id": "GtOcf_pvtkXz",
        "outputId": "dd8285c5-4ef9-4b0f-934d-1c0bd89b28af"
      },
      "execution_count": 12,
      "outputs": [
        {
          "output_type": "stream",
          "name": "stdout",
          "text": [
            "PYTHON\n",
            "python\n"
          ]
        }
      ]
    },
    {
      "cell_type": "code",
      "source": [
        "mensaje = \"Esto es una prueba\"\n",
        "print(len(mensaje))"
      ],
      "metadata": {
        "colab": {
          "base_uri": "https://localhost:8080/"
        },
        "id": "cj7a_O0UtpgH",
        "outputId": "c532f3c3-d9e7-439e-fb14-219d7fb1b0ae"
      },
      "execution_count": 13,
      "outputs": [
        {
          "output_type": "stream",
          "name": "stdout",
          "text": [
            "18\n"
          ]
        }
      ]
    },
    {
      "cell_type": "code",
      "source": [
        "# Expresiones regulares, búsqueda de números\n",
        "\n",
        "import re\n",
        "\n",
        "texto = \"La temperatura es de 28 grados hoy.\"\n",
        "resultado = re.findall(r\"\\d+\", texto)\n",
        "print(resultado)"
      ],
      "metadata": {
        "colab": {
          "base_uri": "https://localhost:8080/"
        },
        "id": "ZXNRF8_Fukit",
        "outputId": "8b3262b4-410b-46a2-ec3c-54ec0d05109d"
      },
      "execution_count": 15,
      "outputs": [
        {
          "output_type": "stream",
          "name": "stdout",
          "text": [
            "['28']\n"
          ]
        }
      ]
    },
    {
      "cell_type": "code",
      "source": [
        "texto = \"La temperatura es de 28 grados hoy.\"\n",
        "resultado = re.findall(r\"\\d\", texto)\n",
        "print(resultado)"
      ],
      "metadata": {
        "colab": {
          "base_uri": "https://localhost:8080/"
        },
        "id": "x7egfx84v9Gw",
        "outputId": "0ea52a48-17c8-4874-cc64-1afc6aae93be"
      },
      "execution_count": 26,
      "outputs": [
        {
          "output_type": "stream",
          "name": "stdout",
          "text": [
            "['2', '8']\n"
          ]
        }
      ]
    },
    {
      "cell_type": "code",
      "source": [
        "\n",
        "texto = \"La temperatura es de 28 grados hoy 14 de octubre de 2025.\"\n",
        "resultado = re.findall(r\"\\d+\", texto)\n",
        "print(resultado)"
      ],
      "metadata": {
        "colab": {
          "base_uri": "https://localhost:8080/"
        },
        "id": "GuKNzBZXwB_s",
        "outputId": "f83abc70-b421-4df9-955c-fcf45a62794b"
      },
      "execution_count": 27,
      "outputs": [
        {
          "output_type": "stream",
          "name": "stdout",
          "text": [
            "['28', '14', '2025']\n"
          ]
        }
      ]
    },
    {
      "cell_type": "code",
      "source": [
        "texto = \"La temperatura es de 28 grados hoy 14 de octubre de 2025.\"\n",
        "resultado = re.findall(r\"[0-9]\", texto)\n",
        "print(resultado)"
      ],
      "metadata": {
        "colab": {
          "base_uri": "https://localhost:8080/"
        },
        "id": "ug7D2nsxwiMK",
        "outputId": "ca226f4e-a4b2-4d49-ff95-cdc37a005e93"
      },
      "execution_count": 28,
      "outputs": [
        {
          "output_type": "stream",
          "name": "stdout",
          "text": [
            "['2', '8', '1', '4', '2', '0', '2', '5']\n"
          ]
        }
      ]
    },
    {
      "cell_type": "code",
      "source": [
        "texto = \"La temperatura es de 28 grados hoy 14 de octubre de 2025.\"\n",
        "resultado = re.findall(r\"[0-9]+\", texto)\n",
        "print(resultado)"
      ],
      "metadata": {
        "colab": {
          "base_uri": "https://localhost:8080/"
        },
        "id": "8INAjRaOwpED",
        "outputId": "fc00bbc0-56f6-4868-8a12-b66159492594"
      },
      "execution_count": 29,
      "outputs": [
        {
          "output_type": "stream",
          "name": "stdout",
          "text": [
            "['28', '14', '2025']\n"
          ]
        }
      ]
    },
    {
      "cell_type": "code",
      "source": [
        "texto = \"La temperatura es de 28 grados hoy 14 de octubre de 2025.\"\n",
        "resultado = re.findall(r\"\\d{4}\", texto)\n",
        "print(resultado)"
      ],
      "metadata": {
        "colab": {
          "base_uri": "https://localhost:8080/"
        },
        "id": "zLh05AvdxZTi",
        "outputId": "92a1548d-d11e-4543-e145-af2887bf2bd2"
      },
      "execution_count": 36,
      "outputs": [
        {
          "output_type": "stream",
          "name": "stdout",
          "text": [
            "['2025']\n"
          ]
        }
      ]
    },
    {
      "cell_type": "code",
      "source": [
        "import re\n",
        "\n",
        "texto = \"La temperatura es de 28 grados hoy 14-10-25.\"\n",
        "resultado = re.findall(r\"\\d{2}\", texto)\n",
        "print(resultado)"
      ],
      "metadata": {
        "colab": {
          "base_uri": "https://localhost:8080/"
        },
        "id": "mKj7YCpUxk51",
        "outputId": "75fdc68f-f8d1-4e72-a749-e9e998ca791a"
      },
      "execution_count": 38,
      "outputs": [
        {
          "output_type": "stream",
          "name": "stdout",
          "text": [
            "['28', '14', '10', '25']\n"
          ]
        }
      ]
    },
    {
      "cell_type": "code",
      "source": [
        "import re\n",
        "\n",
        "texto = \"La temperatura es de 28 grados hoy 14-10-25.\"\n",
        "resultado = re.findall(r\"\\d{2}-\\d{2}-\\d{2}\", texto)\n",
        "print(resultado)"
      ],
      "metadata": {
        "colab": {
          "base_uri": "https://localhost:8080/"
        },
        "id": "1JDUrgO2x7u3",
        "outputId": "73649261-8b7a-4409-a9fd-e1abdac6e338"
      },
      "execution_count": 39,
      "outputs": [
        {
          "output_type": "stream",
          "name": "stdout",
          "text": [
            "['14-10-25']\n"
          ]
        }
      ]
    },
    {
      "cell_type": "code",
      "source": [
        "import re\n",
        "\n",
        "texto_con_fechas = \"Eventos importantes ocurrieron el 14-10-2023 y el 25/12/2024, también el 01-01-25.\"\n",
        "patron_fechas = r\"\\b\\d{2}[-/]\\d{2}[-/]\\d{2,4}\\b\"\n",
        "fechas_encontradas = re.findall(patron_fechas, texto_con_fechas)\n",
        "print(fechas_encontradas)"
      ],
      "metadata": {
        "colab": {
          "base_uri": "https://localhost:8080/"
        },
        "id": "HEqU56AQyFnD",
        "outputId": "e9a1f907-7a5f-4676-99c7-dff88295c20d"
      },
      "execution_count": 40,
      "outputs": [
        {
          "output_type": "stream",
          "name": "stdout",
          "text": [
            "['14-10-2023', '25/12/2024', '01-01-25']\n"
          ]
        }
      ]
    },
    {
      "cell_type": "code",
      "source": [
        "import re\n",
        "\n",
        "texto_con_años = \"Eventos importantes ocurrieron en 1990, 2005, 2023 y continuarán en 2025.\"\n",
        "patron_años = r\"\\b\\d{4}\\b\"\n",
        "años_encontrados = re.findall(patron_años, texto_con_años)\n",
        "print(años_encontrados)"
      ],
      "metadata": {
        "colab": {
          "base_uri": "https://localhost:8080/"
        },
        "id": "uoWcudbDxGmG",
        "outputId": "3a823306-136d-4905-d7a6-96f6748eade6"
      },
      "execution_count": 34,
      "outputs": [
        {
          "output_type": "stream",
          "name": "stdout",
          "text": [
            "['1990', '2005', '2023', '2025']\n"
          ]
        }
      ]
    },
    {
      "cell_type": "code",
      "source": [
        "import re\n",
        "\n",
        "texto = \"La temperatura es de 28 grados hoy.\"\n",
        "resultado = re.findall(r\"\\D+\", texto)\n",
        "print(resultado)"
      ],
      "metadata": {
        "colab": {
          "base_uri": "https://localhost:8080/"
        },
        "id": "pkuYPfcBvBvu",
        "outputId": "35a7931a-e57a-45f8-96c4-167cc0268333"
      },
      "execution_count": 16,
      "outputs": [
        {
          "output_type": "stream",
          "name": "stdout",
          "text": [
            "['La temperatura es de ', ' grados hoy.']\n"
          ]
        }
      ]
    },
    {
      "cell_type": "code",
      "source": [
        "re.findall(r\"[a-z]+\", texto)"
      ],
      "metadata": {
        "colab": {
          "base_uri": "https://localhost:8080/"
        },
        "id": "y9gtkysyu1OY",
        "outputId": "a3174c75-468f-45f5-e240-4cc78979e9c5"
      },
      "execution_count": 17,
      "outputs": [
        {
          "output_type": "execute_result",
          "data": {
            "text/plain": [
              "['a', 'temperatura', 'es', 'de', 'grados', 'hoy']"
            ]
          },
          "metadata": {},
          "execution_count": 17
        }
      ]
    },
    {
      "cell_type": "code",
      "source": [
        "re.findall(r\"[A-Z]+\", texto)"
      ],
      "metadata": {
        "colab": {
          "base_uri": "https://localhost:8080/"
        },
        "id": "vITwcpBAvFw_",
        "outputId": "f18b1a67-daf7-48ed-9d73-7fcf7a511395"
      },
      "execution_count": 18,
      "outputs": [
        {
          "output_type": "execute_result",
          "data": {
            "text/plain": [
              "['L']"
            ]
          },
          "metadata": {},
          "execution_count": 18
        }
      ]
    },
    {
      "cell_type": "code",
      "source": [
        "re.findall(r\"\\w+\", texto)"
      ],
      "metadata": {
        "colab": {
          "base_uri": "https://localhost:8080/"
        },
        "id": "yQRTEM5svN_H",
        "outputId": "577b70bb-919c-4bdc-a816-014f4eaf4087"
      },
      "execution_count": 22,
      "outputs": [
        {
          "output_type": "execute_result",
          "data": {
            "text/plain": [
              "['La', 'temperatura', 'es', 'de', '28', 'grados', 'hoy']"
            ]
          },
          "metadata": {},
          "execution_count": 22
        }
      ]
    },
    {
      "cell_type": "code",
      "source": [
        "re.findall(r\"\\W+\", texto)"
      ],
      "metadata": {
        "colab": {
          "base_uri": "https://localhost:8080/"
        },
        "id": "uqMbUWaIvQ3V",
        "outputId": "323f6ec1-fa08-4ea3-cf4e-cf5b6c8152fb"
      },
      "execution_count": 23,
      "outputs": [
        {
          "output_type": "execute_result",
          "data": {
            "text/plain": [
              "[' ', ' ', ' ', ' ', ' ', ' ', '.']"
            ]
          },
          "metadata": {},
          "execution_count": 23
        }
      ]
    },
    {
      "cell_type": "code",
      "source": [
        "re.findall(r\"\\s+\", texto)"
      ],
      "metadata": {
        "colab": {
          "base_uri": "https://localhost:8080/"
        },
        "id": "zQ3dPzHnvpQL",
        "outputId": "c61e3d0e-fd3d-4e5b-fe8f-b8c4ac07ecd2"
      },
      "execution_count": 24,
      "outputs": [
        {
          "output_type": "execute_result",
          "data": {
            "text/plain": [
              "[' ', ' ', ' ', ' ', ' ', ' ']"
            ]
          },
          "metadata": {},
          "execution_count": 24
        }
      ]
    },
    {
      "cell_type": "code",
      "source": [
        "re.findall(r\"\\S+\", texto)"
      ],
      "metadata": {
        "colab": {
          "base_uri": "https://localhost:8080/"
        },
        "id": "dlJ708dJv28D",
        "outputId": "8d9c2079-144d-464f-f722-72e23b5b1596"
      },
      "execution_count": 25,
      "outputs": [
        {
          "output_type": "execute_result",
          "data": {
            "text/plain": [
              "['La', 'temperatura', 'es', 'de', '28', 'grados', 'hoy.']"
            ]
          },
          "metadata": {},
          "execution_count": 25
        }
      ]
    },
    {
      "cell_type": "markdown",
      "source": [
        "# Introducción a las Expresiones Regulares en Python\n",
        "\n",
        "Las expresiones regulares (regex o regexp) son una herramienta poderosa para manipular y buscar patrones en cadenas de texto. En Python, se manejan principalmente a través del módulo `re`, que proporciona funciones para compilar patrones, buscar coincidencias y realizar sustituciones. Regex es útil en tareas como validación de emails, extracción de datos de logs, procesamiento de texto natural y más.\n",
        "\n",
        "Para usar regex en Python, primero importa el módulo:\n",
        "\n",
        "```python\n",
        "import re\n",
        "```\n",
        "\n",
        "Un patrón regex es una secuencia de caracteres que define un criterio de búsqueda. Por ejemplo, el patrón `\\d+` coincide con uno o más dígitos.\n",
        "\n",
        "## Componentes Básicos de las Expresiones Regulares\n",
        "\n",
        "Las regex se componen de **caracteres literales** (que coinciden exactamente con sí mismos) y **metacaracteres** (con significados especiales). Aquí va un desglose detallado:\n",
        "\n",
        "### 1. Metacaracteres Básicos\n",
        "\n",
        "- `.`: Coincide con cualquier carácter excepto una nueva línea (\\n).\n",
        "  - Ejemplo: `a.c` coincide con \"abc\", \"a1c\", pero no con \"ac\".\n",
        "- `^`: Coincide con el inicio de la cadena.\n",
        "  - Ejemplo: `^hello` coincide con \"hello world\" pero no con \"world hello\".\n",
        "- `$`: Coincide con el final de la cadena.\n",
        "  - Ejemplo: `world$` coincide con \"hello world\" pero no con \"world hello\".\n",
        "- `\\`: Escapa metacaracteres para tratarlos como literales (e.g., `\\.` para coincidir con un punto literal).\n",
        "- `|`: Operador OR (alternativa).\n",
        "  - Ejemplo: `cat|dog` coincide con \"cat\" o \"dog\".\n",
        "\n",
        "### 2. Clases de Caracteres\n",
        "\n",
        "- `[]`: Define un conjunto de caracteres. Coincide con cualquiera dentro de los corchetes.\n",
        "  - Ejemplo: `[abc]` coincide con \"a\", \"b\" o \"c\".\n",
        "  - Rangos: `[a-z]` (letras minúsculas), `[0-9]` (dígitos), `[A-Za-z0-9]` (alfanuméricos).\n",
        "  - Negación: `[^abc]` coincide con cualquier carácter excepto \"a\", \"b\" o \"c\".\n",
        "- Clases predefinidas:\n",
        "  - `\\d`: Cualquier dígito (equivalente a `[0-9]`).\n",
        "  - `\\D`: Cualquier no dígito (equivalente a `[^0-9]`).\n",
        "  - `\\w`: Cualquier carácter alfanumérico o guion bajo (equivalente a `[a-zA-Z0-9_]`).\n",
        "  - `\\W`: Cualquier no alfanumérico (equivalente a `[^a-zA-Z0-9_]`).\n",
        "  - `\\s`: Cualquier espacio en blanco (espacio, tab, nueva línea).\n",
        "  - `\\S`: Cualquier no espacio en blanco.\n",
        "  - `\\b`: Límite de palabra (transición entre \\w y \\W).\n",
        "  - `\\B`: No límite de palabra.\n",
        "\n",
        "### 3. Cuantificadores\n",
        "\n",
        "Especifican cuántas veces debe repetirse un elemento.\n",
        "\n",
        "- `*`: 0 o más veces.\n",
        "  - Ejemplo: `a*` coincide con \"\", \"a\", \"aa\", etc.\n",
        "- `+`: 1 o más veces.\n",
        "  - Ejemplo: `a+` coincide con \"a\", \"aa\", pero no con \"\".\n",
        "- `?`: 0 o 1 vez (opcional).\n",
        "  - Ejemplo: `colou?r` coincide con \"color\" y \"colour\".\n",
        "- `{n}`: Exactamente n veces.\n",
        "  - Ejemplo: `a{3}` coincide con \"aaa\".\n",
        "- `{n,m}`: Entre n y m veces.\n",
        "  - Ejemplo: `a{2,4}` coincide con \"aa\", \"aaa\", \"aaaa\".\n",
        "- `{n,}`: n o más veces.\n",
        "- Modo no codicioso: Agrega `?` después del cuantificador (e.g., `*?`, `+?`) para coincidir con la menor cantidad posible.\n",
        "\n",
        "### 4. Grupos y Capturas\n",
        "\n",
        "- `()`: Define un grupo capturador. Permite extraer partes de la coincidencia.\n",
        "  - Ejemplo: `(\\d{3})-(\\d{2})` coincide con \"123-45\" y captura \"123\" y \"45\".\n",
        "- Grupos no capturadores: `(?:...)` – Agrupa sin capturar.\n",
        "- Referencias: `\\1`, `\\2`, etc., para referenciar grupos capturados en el mismo patrón o en sustituciones.\n",
        "- Lookahead y Lookbehind:\n",
        "  - `(?=...)`: Lookahead positivo (coincide si sigue ...).\n",
        "  - `(?!...)`: Lookahead negativo (coincide si no sigue ...).\n",
        "  - `(?<=...)`: Lookbehind positivo (coincide si precede ...).\n",
        "  - `(?<!...)`: Lookbehind negativo (coincide si no precede ...).\n",
        "  - Ejemplo: `\\d+(?=%)` coincide con dígitos seguidos de \"%\" (sin incluir el \"%\").\n",
        "\n",
        "## Funciones Principales del Módulo `re`\n",
        "\n",
        "El módulo `re` ofrece varias funciones. Primero, puedes compilar un patrón para reutilizarlo:\n",
        "\n",
        "```python\n",
        "pattern = re.compile(r'\\d+')  # r'' para raw strings, evita escapes innecesarios\n",
        "```\n",
        "\n",
        "### 1. re.match(pat, string, flags=0)\n",
        "\n",
        "- Busca coincidencia solo al inicio de la cadena.\n",
        "- Retorna un objeto Match si coincide, None otherwise.\n",
        "- Ejemplo:\n",
        "\n",
        "```python\n",
        "match = re.match(r'hello', 'hello world')\n",
        "if match:\n",
        "    print(match.group())  # 'hello'\n",
        "```\n",
        "\n",
        "### 2. re.search(pat, string, flags=0)\n",
        "\n",
        "- Busca la primera coincidencia en cualquier parte de la cadena.\n",
        "- Similar a match, pero no restringido al inicio.\n",
        "- Ejemplo:\n",
        "\n",
        "```python\n",
        "search = re.search(r'world', 'hello world')\n",
        "print(search.group())  # 'world'\n",
        "```\n",
        "\n",
        "### 3. re.findall(pat, string, flags=0)\n",
        "\n",
        "- Retorna una lista de todas las coincidencias no solapantes.\n",
        "- Si hay grupos, retorna tuplas de grupos.\n",
        "- Ejemplo:\n",
        "\n",
        "```python\n",
        "print(re.findall(r'\\d+', 'Hay 123 manzanas y 45 peras'))  # ['123', '45']\n",
        "```\n",
        "\n",
        "### 4. re.finditer(pat, string, flags=0)\n",
        "\n",
        "- Similar a findall, pero retorna un iterador de objetos Match.\n",
        "- Útil para obtener posiciones y más detalles.\n",
        "\n",
        "### 5. re.sub(pat, repl, string, count=0, flags=0)\n",
        "\n",
        "- Sustituye coincidencias con repl (puede ser string o función).\n",
        "- Ejemplo:\n",
        "\n",
        "```python\n",
        "print(re.sub(r'\\d+', 'X', 'Hay 123 manzanas'))  # 'Hay X manzanas'\n",
        "```\n",
        "\n",
        "- Con función: `re.sub(r'(\\w+)', lambda m: m.group(1).upper(), 'hello world')` → 'HELLO WORLD'\n",
        "\n",
        "### 6. re.split(pat, string, maxsplit=0, flags=0)\n",
        "\n",
        "- Divide la cadena en una lista usando el patrón como separador.\n",
        "- Ejemplo:\n",
        "\n",
        "```python\n",
        "print(re.split(r'\\s+', 'hello   world'))  # ['hello', 'world']\n",
        "```\n",
        "\n",
        "## Banderas (Flags)\n",
        "\n",
        "Modifican el comportamiento del patrón. Se pasan como argumento `flags` o en el patrón con `(?i)` para ignorecase, etc.\n",
        "\n",
        "- `re.IGNORECASE` o `re.I`: Ignora mayúsculas/minúsculas.\n",
        "- `re.MULTILINE` o `re.M`: ^ y $ coinciden con inicios/fines de líneas, no solo de la cadena.\n",
        "- `re.DOTALL` o `re.S`: . coincide con cualquier carácter, incluyendo \\n.\n",
        "- `re.VERBOSE` o `re.X`: Permite patrones multilínea con comentarios.\n",
        "- Ejemplo: `re.compile(r'hello', re.I)` coincide con \"Hello\".\n",
        "\n",
        "## Objetos Match\n",
        "\n",
        "Cuando obtienes un Match (de match, search, etc.):\n",
        "\n",
        "- `match.group(n)`: Retorna el grupo n (0 para toda la coincidencia).\n",
        "- `match.groups()`: Tupla de todos los grupos.\n",
        "- `match.start()`, `match.end()`: Posiciones de inicio y fin.\n",
        "- `match.span()`: Tupla (start, end).\n",
        "\n",
        "## Ejemplos Prácticos\n",
        "\n",
        "1. **Validar Email**:\n",
        "\n",
        "   ```python\n",
        "   email_pat = r'^[\\w\\.-]+@[\\w\\.-]+\\.\\w+$'\n",
        "   print(bool(re.match(email_pat, 'user@example.com')))  # True\n",
        "   ```\n",
        "\n",
        "2. **Extraer URLs**:\n",
        "\n",
        "   ```python\n",
        "   text = 'Visita https://example.com o http://test.org'\n",
        "   urls = re.findall(r'https?://[\\w\\.-]+(?:/[\\w\\.-]*)*', text)\n",
        "   print(urls)  # ['https://example.com', 'http://test.org']\n",
        "   ```\n",
        "\n",
        "3. **Limpiar Texto**:\n",
        "\n",
        "   ```python\n",
        "   text = 'Hola!!! ¿Cómo estás???'\n",
        "   cleaned = re.sub(r'[!?.]{2,}', lambda m: m.group(0)[0], text)\n",
        "   print(cleaned)  # 'Hola! ¿Cómo estás?'\n",
        "   ```\n",
        "\n",
        "4. **Grupos Nombrados**:\n",
        "   - Usa `(?P<name>...)` para nombrar grupos.\n",
        "\n",
        "   ```python\n",
        "   pat = r'(?P<year>\\d{4})-(?P<month>\\d{2})-(?P<day>\\d{2})'\n",
        "   match = re.match(pat, '2023-10-14')\n",
        "   print(match.group('year'))  # '2023'\n",
        "   ```\n",
        "\n",
        "## Consejos y Mejores Prácticas\n",
        "\n",
        "- Usa strings raw (`r''`) para patrones para evitar dobles escapes.\n",
        "- Compila patrones si los usas múltiples veces para mejorar rendimiento.\n",
        "- Prueba patrones en herramientas como regex101.com.\n",
        "- Evita regex para parsing complejo (e.g., HTML); usa parsers dedicados.\n",
        "- Regex puede ser codicioso por defecto; usa modo no codicioso cuando necesites coincidencias mínimas.\n",
        "- Maneja excepciones: Si no hay coincidencia, group() lanza AttributeError si match es None.\n",
        "\n",
        "# Elementos Opcionales en Expresiones Regulares\n",
        "\n",
        "En regex, un elemento opcional es aquel que puede aparecer **cero o una vez** en la cadena. Esto se maneja con:\n",
        "\n",
        "1. **Cuantificador `?`**: Indica que el carácter, grupo o clase de caracteres precedente es opcional (puede estar o no).\n",
        "2. **Grupos opcionales**: Usando paréntesis `()` con `?` para hacer que un grupo entero sea opcional.\n",
        "3. **Alternativas con `|`**: Para casos donde el elemento opcional tiene varias formas posibles.\n",
        "\n",
        "## 1. Usar `?` para Hacer un Carácter o Patrón Opcional\n",
        "\n",
        "El cuantificador `?` hace que el elemento inmediatamente anterior sea opcional. Esto es útil para caracteres individuales o patrones pequeños.\n",
        "\n",
        "### Ejemplo 1: Hacer un carácter opcional\n",
        "\n",
        "Supongamos que quieres buscar palabras como \"color\" o \"colour\" (donde la \"u\" es opcional).\n",
        "\n",
        "```python\n",
        "import re\n",
        "\n",
        "text = \"I like color and colour.\"\n",
        "pattern = r'colou?r'  # La \"u\" es opcional\n",
        "matches = re.findall(pattern, text)\n",
        "print(matches)  # ['color', 'colour']\n",
        "```\n",
        "\n",
        "**Explicación**: `u?` significa que la \"u\" puede aparecer 0 o 1 vez. El patrón coincide con \"color\" (sin \"u\") y \"colour\" (con \"u\").\n",
        "\n",
        "### Ejemplo 2: Hacer una secuencia opcional\n",
        "\n",
        "Quieres coincidir con números que pueden o no tener un signo \"+\" o \"-\".\n",
        "\n",
        "```python\n",
        "text = \"Los valores son +123, -456, 789.\"\n",
        "pattern = r'[+-]?\\d+'  # El signo es opcional\n",
        "matches = re.findall(pattern, text)\n",
        "print(matches)  # ['+123', '-456', '789']\n",
        "```\n",
        "\n",
        "**Explicación**: `[+-]?` indica que el signo \"+\" o \"-\" puede aparecer 0 o 1 vez antes de los dígitos (`\\d+`).\n",
        "\n",
        "## 2. Grupos Opcionales con `(...)` y `?`\n",
        "\n",
        "Si necesitas que un grupo entero sea opcional, usa paréntesis para agrupar el patrón y luego aplica `?`.\n",
        "\n",
        "### Ejemplo 3: Hacer una palabra o frase opcional\n",
        "\n",
        "Quieres buscar fechas en formato \"DD-MM-YYYY\" o \"DD-MM-YY\", donde los últimos dos dígitos del año son opcionales.\n",
        "\n",
        "```python\n",
        "text = \"Fechas: 14-10-2025, 15-11-23\"\n",
        "pattern = r'\\d{2}-\\d{2}-(\\d{2}|\\d{4})'  # Acepta 2 o 4 dígitos para el año\n",
        "matches = re.findall(pattern, text)\n",
        "print(matches)  # ['2025', '23']\n",
        "```\n",
        "\n",
        "**Explicación**: El grupo `(\\d{2}|\\d{4})` permite que el año sea de 2 o 4 dígitos. Pero si quieres que los últimos dos dígitos sean opcionales, puedes usar:\n",
        "\n",
        "```python\n",
        "pattern = r'\\d{2}-\\d{2}-\\d{2}(\\d{2})?'  # Los últimos dos dígitos son opcionales\n",
        "matches = re.findall(pattern, text)\n",
        "print(matches)  # [('2025', '25'), ('23', '')]\n",
        "```\n",
        "\n",
        "**Explicación**: `(\\d{2})?` hace que los últimos dos dígitos sean opcionales. El resultado es una tupla por cada coincidencia, donde el segundo elemento es vacío si no hay dígitos adicionales.\n",
        "\n",
        "## 3. Usar `|` para Alternativas Opcionales\n",
        "\n",
        "El operador `|` permite especificar alternativas. Puedes usarlo para manejar casos donde algo puede estar presente en diferentes formas o no estarlo.\n",
        "\n",
        "### Ejemplo 4: Protocolo HTTP/HTTPS opcional en URLs\n",
        "\n",
        "Quieres extraer URLs que pueden empezar con \"http://\", \"https://\", o no tener protocolo.\n",
        "\n",
        "```python\n",
        "text = \"Visita https://example.com, http://test.org, example.net\"\n",
        "pattern = r'(https?://)?[\\w\\.-]+'  # Protocolo opcional\n",
        "matches = re.findall(pattern, text)\n",
        "print(matches)  # ['https://', 'http://', '']\n",
        "```\n",
        "\n",
        "**Explicación**: `(https?://)?` hace que el protocolo (\"http://\" o \"https://\") sea opcional. El `s?` permite que la \"s\" sea opcional, y el grupo entero `(...)` con `?` hace que el protocolo completo pueda no estar presente.\n",
        "\n",
        "## 4. Usar Lookaheads para Condiciones Opcionales\n",
        "\n",
        "A veces, quieres que algo sea opcional pero que dependa de una condición. Los lookaheads (`(?=...)` o `(?!...)`) son útiles aquí.\n",
        "\n",
        "### Ejemplo 5: Números seguidos opcionalmente por \"%\"\n",
        "\n",
        "Quieres extraer números que pueden o no estar seguidos por un signo de porcentaje.\n",
        "\n",
        "```python\n",
        "text = \"Los valores son 50%, 75, 100%.\"\n",
        "pattern = r'\\d+(?=%)?'  # Número seguido opcionalmente por %\n",
        "matches = re.findall(pattern, text)\n",
        "print(matches)  # ['50', '75', '100']\n",
        "```\n",
        "\n",
        "**Explicación**: `(?=%)?` indica que el \"%\" es opcional (el lookahead en sí es opcional). Esto asegura que el número se extraiga sin incluir el \"%\" en la coincidencia.\n",
        "\n",
        "## 5. Ejemplo Complejo: Validar Emails con Partes Opcionales\n",
        "\n",
        "Supongamos que quieres validar emails donde el dominio puede tener subdominios opcionales (e.g., \"user@domain.com\" o \"user@sub.domain.com\").\n",
        "\n",
        "```python\n",
        "text = \"Emails: user@domain.com, user@sub.domain.com, invalid@.com\"\n",
        "pattern = r'^[\\w\\.-]+@(?:[\\w-]+\\.)+[\\w-]+$'\n",
        "for email in text.split(\", \"):\n",
        "    email = email.split(\": \")[1]  # Limpiar \"Emails: \"\n",
        "    if re.match(pattern, email):\n",
        "        print(f\"{email} es válido\")\n",
        "    else:\n",
        "        print(f\"{email} es inválido\")\n",
        "```\n",
        "\n",
        "**Salida**:\n",
        "\n",
        "```\n",
        "user@domain.com es válido\n",
        "user@sub.domain.com es válido\n",
        "invalid@.com es inválido\n",
        "```\n",
        "\n",
        "**Explicación**:\n",
        "\n",
        "- `[\\w\\.-]+`: Nombre de usuario (letras, números, puntos, guiones).\n",
        "- `@`: Literal.\n",
        "- `(?:[\\w-]+\\.)+`: Uno o más subdominios (no capturador con `?:`).\n",
        "- `[\\w-]+`: Dominio de nivel superior (e.g., \"com\").\n",
        "- El grupo `(?:[\\w-]+\\.)+` permite subdominios opcionales repetidos.\n",
        "\n",
        "## Consejos para Manejar Elementos Opcionales\n",
        "\n",
        "1. **Usa `?` para simplicidad**: Si el elemento opcional es un solo carácter o pequeño patrón, `?` es suficiente.\n",
        "2. **Agrupa con `()` para patrones complejos**: Si lo opcional es una secuencia, usa `(...)` con `?`.\n",
        "3. **Prueba tus patrones**: Usa herramientas como regex101.com para verificar que el patrón coincida con lo esperado.\n",
        "4. **Evita ambigüedad**: Asegúrate de que el patrón no coincida con casos no deseados. Por ejemplo, `a?` puede coincidir con una cadena vacía si no está bien delimitado.\n",
        "5. **Combina con otros metacaracteres**: Usa `|`, clases de caracteres (`[]`), o lookaheads para mayor flexibilidad.\n",
        "\n",
        "## Caso Práctico: Números de Teléfono con Formato Opcional\n",
        "\n",
        "Supongamos que quieres buscar números de teléfono que pueden tener o no un código de país (e.g., \"+54\" o nada) y un guion opcional.\n",
        "\n",
        "```python\n",
        "text = \"Contactos: +54123456789, 123456789, +54-987654321\"\n",
        "pattern = r'(\\+?\\d{2}-?)?\\d{9}'  # Código de país opcional, guion opcional\n",
        "matches = re.findall(pattern, text)\n",
        "print(matches)  # ['+54', '', '+54-']\n",
        "```\n",
        "\n",
        "**Explicación**:\n",
        "\n",
        "- `(\\+?\\d{2}-?)?`: El grupo del código de país (+ seguido de 2 dígitos y guion opcional) es opcional.\n",
        "- `\\d{9}`: Los 9 dígitos del número principal.\n",
        "- El resultado muestra el grupo capturado (o vacío si no hay código)."
      ],
      "metadata": {
        "id": "ay40vEQ-0pF7"
      }
    },
    {
      "cell_type": "code",
      "source": [
        "import requests as rq\n",
        "\n",
        "res = rq.get(\"https://en.wikipedia.org/wiki/Samsung\", headers={\n",
        "    \"User-Agent\": \"Mozilla/5.0 (Macintosh; Intel Mac OS X 10_15_7) \"\n",
        "                  \"AppleWebKit/537.36 (KHTML, like Gecko) \"\n",
        "                  \"Chrome/118.0.0.0 Safari/537.36\"\n",
        "})\n",
        "\n",
        "from bs4 import BeautifulSoup\n",
        "\n",
        "soup = BeautifulSoup(res.text, 'html.parser')\n",
        "\n",
        "t = soup.find_all(\"p\")\n",
        "text = ''\n",
        "\n",
        "for i in range(min(len(t), 3)):\n",
        "  text += t[i].text.strip() + '\\n'\n",
        "\n",
        "print(text)"
      ],
      "metadata": {
        "colab": {
          "base_uri": "https://localhost:8080/"
        },
        "id": "kneqFgBtqSXF",
        "outputId": "29b623f7-a05d-462a-db26-17f76dd90c2c"
      },
      "execution_count": 4,
      "outputs": [
        {
          "output_type": "stream",
          "name": "stdout",
          "text": [
            "\n",
            "Samsung Group[1] (Korean: 삼성; pronounced [samsʌŋ]; stylised as SΛMSUNG) is a South Korean multinational manufacturing conglomerate headquartered in the Samsung Town office complex in Seoul. The group consists of numerous affiliated businesses,[2] most of which operate under the Samsung brand, and is the largest chaebol (business conglomerate) in South Korea. As of 2024,[update] Samsung has the world's fifth-highest brand value.[3]\n",
            "Founded in 1938 by Lee Byung-chul as a trading company, Samsung diversified into various sectors, including food processing, textiles, insurance, securities, and retail, over the next three decades. In the late 1960s, Samsung entered the electronics industry, followed by the construction and shipbuilding sectors in the mid-1970s—areas that would fuel its future growth. After Lee died in 1987, Samsung was divided into five business groups: Samsung Group, Shinsegae Group, CJ Group, Hansol Group, and JoongAng Group.\n",
            "\n"
          ]
        }
      ]
    },
    {
      "cell_type": "code",
      "source": [
        "text"
      ],
      "metadata": {
        "colab": {
          "base_uri": "https://localhost:8080/",
          "height": 178
        },
        "id": "-EnOBUfCqvhb",
        "outputId": "5d093920-8abe-4931-cbdf-abd48e21b726"
      },
      "execution_count": 5,
      "outputs": [
        {
          "output_type": "execute_result",
          "data": {
            "text/plain": [
              "\"\\nSamsung Group[1] (Korean: 삼성; pronounced [samsʌŋ]; stylised as SΛMSUNG) is a South Korean multinational manufacturing conglomerate headquartered in the Samsung Town office complex in Seoul. The group consists of numerous affiliated businesses,[2] most of which operate under the Samsung brand, and is the largest chaebol (business conglomerate) in South Korea. As of 2024,[update] Samsung has the world's fifth-highest brand value.[3]\\nFounded in 1938 by Lee Byung-chul as a trading company, Samsung diversified into various sectors, including food processing, textiles, insurance, securities, and retail, over the next three decades. In the late 1960s, Samsung entered the electronics industry, followed by the construction and shipbuilding sectors in the mid-1970s—areas that would fuel its future growth. After Lee died in 1987, Samsung was divided into five business groups: Samsung Group, Shinsegae Group, CJ Group, Hansol Group, and JoongAng Group.\\n\""
            ],
            "application/vnd.google.colaboratory.intrinsic+json": {
              "type": "string"
            }
          },
          "metadata": {},
          "execution_count": 5
        }
      ]
    },
    {
      "cell_type": "code",
      "source": [
        "text = text.strip()"
      ],
      "metadata": {
        "id": "oh4PGJ9YrB8r"
      },
      "execution_count": 6,
      "outputs": []
    },
    {
      "cell_type": "code",
      "source": [
        "text"
      ],
      "metadata": {
        "colab": {
          "base_uri": "https://localhost:8080/",
          "height": 178
        },
        "id": "umMXI5JurFGo",
        "outputId": "705662c0-b557-431d-e84a-b6f748479ed3"
      },
      "execution_count": 7,
      "outputs": [
        {
          "output_type": "execute_result",
          "data": {
            "text/plain": [
              "\"Samsung Group[1] (Korean: 삼성; pronounced [samsʌŋ]; stylised as SΛMSUNG) is a South Korean multinational manufacturing conglomerate headquartered in the Samsung Town office complex in Seoul. The group consists of numerous affiliated businesses,[2] most of which operate under the Samsung brand, and is the largest chaebol (business conglomerate) in South Korea. As of 2024,[update] Samsung has the world's fifth-highest brand value.[3]\\nFounded in 1938 by Lee Byung-chul as a trading company, Samsung diversified into various sectors, including food processing, textiles, insurance, securities, and retail, over the next three decades. In the late 1960s, Samsung entered the electronics industry, followed by the construction and shipbuilding sectors in the mid-1970s—areas that would fuel its future growth. After Lee died in 1987, Samsung was divided into five business groups: Samsung Group, Shinsegae Group, CJ Group, Hansol Group, and JoongAng Group.\""
            ],
            "application/vnd.google.colaboratory.intrinsic+json": {
              "type": "string"
            }
          },
          "metadata": {},
          "execution_count": 7
        }
      ]
    },
    {
      "cell_type": "code",
      "source": [
        "# Contar cuantas veces aparece la palabra 'Samsung' en text\n",
        "\n",
        "text.count('Samsung')"
      ],
      "metadata": {
        "colab": {
          "base_uri": "https://localhost:8080/"
        },
        "id": "fzsGudivsiy5",
        "outputId": "8c766859-f84c-4a39-b7ab-d332ca434c6c"
      },
      "execution_count": 9,
      "outputs": [
        {
          "output_type": "execute_result",
          "data": {
            "text/plain": [
              "8"
            ]
          },
          "metadata": {},
          "execution_count": 9
        }
      ]
    },
    {
      "cell_type": "code",
      "source": [
        "# Longitud de la cadena de text\n",
        "\n",
        "len(text)"
      ],
      "metadata": {
        "colab": {
          "base_uri": "https://localhost:8080/"
        },
        "id": "MjEhU5d9tr_P",
        "outputId": "c702a0b6-8613-46fe-ddf9-de704603b175"
      },
      "execution_count": 14,
      "outputs": [
        {
          "output_type": "execute_result",
          "data": {
            "text/plain": [
              "953"
            ]
          },
          "metadata": {},
          "execution_count": 14
        }
      ]
    },
    {
      "cell_type": "code",
      "source": [
        "import re\n",
        "\n",
        "# Expresión regular para encontrar diferentes formatos de fecha\n",
        "# Busca patrones como YYYY, YYYY–YYYY, Month YYYY, DD Month YYYY, Month DD, YYYY\n",
        "date_pattern = re.compile(r'\\b(\\d{4}|\\d{4}–\\d{4}|(?:January|February|March|April|May|June|July|August|September|October|November|December)\\s\\d{4}|\\d{1,2}\\s(?:January|February|March|April|May|June|July|August|September|October|November|December)\\s\\d{4}|(?:January|February|March|April|May|June|July|August|September|October|November|December)\\s\\d{1,2},\\s\\d{4})\\b')\n",
        "\n",
        "# Encuentra todas las coincidencias en el texto\n",
        "dates_found = date_pattern.findall(text)\n",
        "\n",
        "# Imprime las fechas encontradas\n",
        "for date in dates_found:\n",
        "    print(date)\n"
      ],
      "metadata": {
        "colab": {
          "base_uri": "https://localhost:8080/"
        },
        "id": "kM7OjrJgzoJk",
        "outputId": "b6f8249c-ebee-41b0-a962-dc8178142931"
      },
      "execution_count": 41,
      "outputs": [
        {
          "output_type": "stream",
          "name": "stdout",
          "text": [
            "2024\n",
            "1938\n",
            "1987\n"
          ]
        }
      ]
    },
    {
      "cell_type": "code",
      "source": [
        "resultado=(re.findall(r\"\\d{4}\", text)) # fecha\n",
        "print(resultado)"
      ],
      "metadata": {
        "colab": {
          "base_uri": "https://localhost:8080/"
        },
        "id": "1AmmQtRPz6fN",
        "outputId": "0980b26b-4607-450c-b694-64ba1ddbab93"
      },
      "execution_count": 42,
      "outputs": [
        {
          "output_type": "stream",
          "name": "stdout",
          "text": [
            "['2024', '1938', '1960', '1970', '1987']\n"
          ]
        }
      ]
    },
    {
      "cell_type": "code",
      "source": [
        "resultado=(re.findall(r\"\\d{4}?s\", text)) # fecha\n",
        "print(resultado)"
      ],
      "metadata": {
        "colab": {
          "base_uri": "https://localhost:8080/"
        },
        "id": "4cgRFv7-0CM2",
        "outputId": "d231862d-6aca-4db9-f8af-c511086e4cbb"
      },
      "execution_count": 43,
      "outputs": [
        {
          "output_type": "stream",
          "name": "stdout",
          "text": [
            "['1960s', '1970s']\n"
          ]
        }
      ]
    }
  ]
}