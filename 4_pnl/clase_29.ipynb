{
  "nbformat": 4,
  "nbformat_minor": 0,
  "metadata": {
    "colab": {
      "provenance": [],
      "name": "clase_29.ipynb",
      "include_colab_link": true
    },
    "kernelspec": {
      "name": "python3",
      "display_name": "Python 3"
    },
    "language_info": {
      "name": "python"
    }
  },
  "cells": [
    {
      "cell_type": "markdown",
      "metadata": {
        "id": "view-in-github",
        "colab_type": "text"
      },
      "source": [
        "<a href=\"https://colab.research.google.com/github/davidlealo/sic_ai_2025_sept/blob/main/4_pnl/clase_29.ipynb\" target=\"_parent\"><img src=\"https://colab.research.google.com/assets/colab-badge.svg\" alt=\"Open In Colab\"/></a>"
      ]
    },
    {
      "cell_type": "markdown",
      "source": [
        "# Clase 29 – Tarea de aplicación en PLN  \n",
        "---\n",
        "\n",
        "## 1. Objetivo general  \n",
        "\n",
        "Diseñar, implementar y documentar un **mini‑proyecto de Procesamiento de Lenguaje Natural (PLN)** que consolide los aprendizajes de las últimas clases:\n",
        "\n",
        "* Scraping y limpieza de texto  \n",
        "* Tokenización, stopwords y lematización  \n",
        "* POS‑tagging  \n",
        "* n‑gramas y modelos basados en frecuencia  \n",
        "* Creación de secuencias fijas (padding) y redes neuronales sencillas\n",
        "\n",
        "El proyecto se realizará utilizando **un dataset público de Kaggle**.\n",
        "\n",
        "---\n",
        "\n",
        "## 2. Requisitos mínimos del proyecto  \n",
        "\n",
        "1. **Descarga automática** del dataset con la API de Kaggle (`kaggle datasets download`).  \n",
        "2. **Pipeline NLTK** que incluya: limpieza, tokenización, stopwords y lematización.  \n",
        "3. **Análisis exploratorio de datos (EDA)** con estadísticas básicas y al menos una visualización propia.  \n",
        "4. **Modelo base** (elige **uno**):  \n",
        "   - n‑gramas (frecuencias o `ConditionalFreqDist`),  \n",
        "   - TF‑IDF + clasificador clásico (Logistic Regression, SVM, Naïve Bayes),  \n",
        "   - Red neuronal con embeddings aleatorios + `pad_sequences`.  \n",
        "5. **Evaluación** con la métrica adecuada (Accuracy, F1, ROUGE, Perplexity, etc.).  \n",
        "6. **Reflexión crítica** (2‑3 párrafos sobre resultados y mejoras posibles).  \n",
        "\n",
        "> **Bonus**: añadir POS como feature adicional, balancear clases, o comparar dos modelos distintos.\n",
        "\n",
        "---\n",
        "\n",
        "## 3. Fases sugeridas de desarrollo  \n",
        "\n",
        "1. **Descarga y descompresión del dataset**  \n",
        "   ```bash\n",
        "   !kaggle datasets download -d <owner>/<slug> -p data/ -unzip\n",
        "   ```  \n",
        "\n",
        "2. **EDA inicial**: forma, número de clases, longitud media de los textos.  \n",
        "\n",
        "3. **Pre‑procesamiento NLP** con tus funciones de la clase 25.  \n",
        "\n",
        "4. **División** train / test (80‑20 estratificado).  \n",
        "\n",
        "5. **Entrenamiento del modelo base** y registro de la métrica elegida.  \n",
        "\n",
        "6. **Iteración de mejora**: lematización, filtrado por POS, ajustes de hiper‑parámetros.  \n",
        "\n",
        "7. **Documentación y reflexión** en el notebook y en el informe.\n",
        "\n",
        "---\n",
        "\n",
        "## 4. Datasets propuestos (elige **uno**)\n",
        "\n",
        "| Foco | Dataset & enlace | Tamaño / Idioma | Ideas de proyecto |\n",
        "|------|------------------|-----------------|-------------------|\n",
        "| **Clasificación de noticias** | [Spanish News Classification](https://www.kaggle.com/datasets/kevinmorgado/spanish-news-classification) | 14 000 artículos / Español | Predecir la sección (Deportes, Economía, Política, etc.). |\n",
        "| **Sentimiento en Twitter** | [Sentiment140](https://www.kaggle.com/datasets/kazanova/sentiment140) | 1,6 M tweets / Multilingüe (≈ 17 % ES) | Detector positivo/negativo; comparar n‑gramas vs. LSTM. |\n",
        "| **Pregunta‑Respuesta extractiva** | [Question‑Answer Dataset](https://www.kaggle.com/datasets/rtatman/questionanswer-dataset) | 26 k pares / Inglés | Baseline TF‑IDF + *span ranking* vs. QA neuronal. |\n",
        "| **Transcripciones de voz** | [Spanish Speech Recognition Dataset](https://www.kaggle.com/datasets/unidpro/spanish-speech-recognition-dataset) | 488 h audio + texto / Español | Crear un LM n‑gram para ASR o clasificar temas en transcripciones. |\n",
        "\n",
        "> Si prefieres otro dataset, preséntalo al profesor y justifica su elección técnica y pedagógica.\n",
        "\n",
        "---\n",
        "\n",
        "## 5. Entregables posibles  \n",
        "\n",
        "| Archivo | Contenido |\n",
        "|---------|-----------|\n",
        "| `proyecto_<equipo>.ipynb` | Código reproducible con secciones Markdown claras (OBLIGATORIO) |\n",
        "| `informe_<equipo>.md` (1‑2 páginas) | Resumen, metodología, resultados y reflexión (OPCIONAL). |\n",
        "| `README.md` | Guía rápida para ejecutar el notebook y listar dependencias (OPCIONAL). |\n",
        "\n",
        "Los archivos deben subirse a GitHub o Classroom **durante la clase 27**.\n",
        "\n",
        "---\n",
        "\n",
        "## 6. Rúbrica de evaluación (100 puntos)\n",
        "\n",
        "| Criterio | Puntos |\n",
        "|----------|--------|\n",
        "| Pipeline de pre‑procesamiento y documentación | 20 |\n",
        "| EDA y visualizaciones | 15 |\n",
        "| Implementación del modelo base | 20 |\n",
        "| Métrica y análisis de resultados | 15 |\n",
        "| Reflexión crítica | 15 |\n",
        "| Calidad de código y reproducibilidad | 15 |\n",
        "\n",
        "---\n",
        "\n",
        "## 7. Recursos de apoyo\n",
        "\n",
        "* Capítulos 3‑7 del **NLTK Book**  \n",
        "* Cheatsheet de `scikit‑learn` para texto  \n",
        "* Ejemplos en la pestaña **Code** de cada dataset en Kaggle  \n",
        "\n",
        "---\n",
        "\n",
        "¡Éxito con sus proyectos!\n"
      ],
      "metadata": {
        "id": "gLZ9PirvPNXL"
      }
    },
    {
      "cell_type": "code",
      "execution_count": null,
      "metadata": {
        "id": "2yLm22NRPLzU"
      },
      "outputs": [],
      "source": []
    }
  ]
}